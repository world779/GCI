{
  "nbformat": 4,
  "nbformat_minor": 0,
  "metadata": {
    "colab": {
      "name": "Baseline.ipynb",
      "provenance": [],
      "collapsed_sections": [],
      "include_colab_link": true
    },
    "kernelspec": {
      "name": "python3",
      "display_name": "Python 3"
    },
    "accelerator": "GPU"
  },
  "cells": [
    {
      "cell_type": "markdown",
      "metadata": {
        "id": "view-in-github",
        "colab_type": "text"
      },
      "source": [
        "<a href=\"https://colab.research.google.com/github/world779/GCI/blob/master/DemandForecast.ipynb\" target=\"_parent\"><img src=\"https://colab.research.google.com/assets/colab-badge.svg\" alt=\"Open In Colab\"/></a>"
      ]
    },
    {
      "cell_type": "code",
      "metadata": {
        "id": "Yo0EqW8xcOUO",
        "colab_type": "code",
        "colab": {}
      },
      "source": [
        "from google.colab import drive"
      ],
      "execution_count": null,
      "outputs": []
    },
    {
      "cell_type": "code",
      "metadata": {
        "id": "si63Rle0veR6",
        "colab_type": "code",
        "colab": {
          "base_uri": "https://localhost:8080/",
          "height": 125
        },
        "outputId": "9bc177ea-8c98-405d-cb6b-10bc8e9d39e0"
      },
      "source": [
        "drive.mount('/content/drive')"
      ],
      "execution_count": null,
      "outputs": [
        {
          "output_type": "stream",
          "text": [
            "Go to this URL in a browser: https://accounts.google.com/o/oauth2/auth?client_id=947318989803-6bn6qk8qdgf4n4g3pfee6491hc0brc4i.apps.googleusercontent.com&redirect_uri=urn%3aietf%3awg%3aoauth%3a2.0%3aoob&response_type=code&scope=email%20https%3a%2f%2fwww.googleapis.com%2fauth%2fdocs.test%20https%3a%2f%2fwww.googleapis.com%2fauth%2fdrive%20https%3a%2f%2fwww.googleapis.com%2fauth%2fdrive.photos.readonly%20https%3a%2f%2fwww.googleapis.com%2fauth%2fpeopleapi.readonly\n",
            "\n",
            "Enter your authorization code:\n",
            "··········\n",
            "Mounted at /content/drive\n"
          ],
          "name": "stdout"
        }
      ]
    },
    {
      "cell_type": "code",
      "metadata": {
        "id": "tP5y3v-RvpjQ",
        "colab_type": "code",
        "colab": {}
      },
      "source": [
        ""
      ],
      "execution_count": null,
      "outputs": []
    },
    {
      "cell_type": "code",
      "metadata": {
        "id": "avNJCWrScV28",
        "colab_type": "code",
        "colab": {}
      },
      "source": [
        "import numpy as np\n",
        "import pandas as pd\n",
        "import lightgbm as lgb\n",
        "import matplotlib.pyplot as plt\n",
        "from sklearn.metrics import mean_squared_error\n",
        "\n",
        "pd.set_option('display.max_columns', 500)\n",
        "pd.set_option('display.max_rows', 500)"
      ],
      "execution_count": null,
      "outputs": []
    },
    {
      "cell_type": "code",
      "metadata": {
        "id": "wtAs_iv7cZPa",
        "colab_type": "code",
        "colab": {}
      },
      "source": [
        "genres = pd.read_csv(\"drive/My Drive/GCI2020summer/コンペ第3回/genres.csv\")\n",
        "stores = pd.read_csv(\"drive/My Drive/GCI2020summer/コンペ第3回/stores.csv\")\n",
        "goods = pd.read_csv(\"drive/My Drive/GCI2020summer/コンペ第3回/goods.csv\")\n",
        "\n",
        "train = pd.read_csv(\"drive/My Drive/GCI2020summer/コンペ第3回/train.csv\")\n",
        "test = pd.read_csv(\"drive/My Drive/GCI2020summer/コンペ第3回/test.csv\")"
      ],
      "execution_count": null,
      "outputs": []
    },
    {
      "cell_type": "code",
      "metadata": {
        "id": "mJQHITa3j-a_",
        "colab_type": "code",
        "colab": {
          "base_uri": "https://localhost:8080/",
          "height": 195
        },
        "outputId": "7030ff6d-5fee-4c7d-8fc3-105ba79e786c"
      },
      "source": [
        "train.head()"
      ],
      "execution_count": null,
      "outputs": [
        {
          "output_type": "execute_result",
          "data": {
            "text/html": [
              "<div>\n",
              "<style scoped>\n",
              "    .dataframe tbody tr th:only-of-type {\n",
              "        vertical-align: middle;\n",
              "    }\n",
              "\n",
              "    .dataframe tbody tr th {\n",
              "        vertical-align: top;\n",
              "    }\n",
              "\n",
              "    .dataframe thead th {\n",
              "        text-align: right;\n",
              "    }\n",
              "</style>\n",
              "<table border=\"1\" class=\"dataframe\">\n",
              "  <thead>\n",
              "    <tr style=\"text-align: right;\">\n",
              "      <th></th>\n",
              "      <th>yy_mm_dd</th>\n",
              "      <th>num_month</th>\n",
              "      <th>store_id</th>\n",
              "      <th>goods_id</th>\n",
              "      <th>price</th>\n",
              "      <th>units_sold_day</th>\n",
              "    </tr>\n",
              "  </thead>\n",
              "  <tbody>\n",
              "    <tr>\n",
              "      <th>0</th>\n",
              "      <td>25-01-29</td>\n",
              "      <td>-33</td>\n",
              "      <td>43</td>\n",
              "      <td>17718</td>\n",
              "      <td>44943</td>\n",
              "      <td>2</td>\n",
              "    </tr>\n",
              "    <tr>\n",
              "      <th>1</th>\n",
              "      <td>25-01-08</td>\n",
              "      <td>-33</td>\n",
              "      <td>32</td>\n",
              "      <td>8648</td>\n",
              "      <td>14949</td>\n",
              "      <td>1</td>\n",
              "    </tr>\n",
              "    <tr>\n",
              "      <th>2</th>\n",
              "      <td>25-01-16</td>\n",
              "      <td>-33</td>\n",
              "      <td>53</td>\n",
              "      <td>10168</td>\n",
              "      <td>30158</td>\n",
              "      <td>1</td>\n",
              "    </tr>\n",
              "    <tr>\n",
              "      <th>3</th>\n",
              "      <td>25-01-23</td>\n",
              "      <td>-33</td>\n",
              "      <td>31</td>\n",
              "      <td>1005</td>\n",
              "      <td>9922</td>\n",
              "      <td>1</td>\n",
              "    </tr>\n",
              "    <tr>\n",
              "      <th>4</th>\n",
              "      <td>25-01-12</td>\n",
              "      <td>-33</td>\n",
              "      <td>27</td>\n",
              "      <td>19861</td>\n",
              "      <td>14988</td>\n",
              "      <td>0</td>\n",
              "    </tr>\n",
              "  </tbody>\n",
              "</table>\n",
              "</div>"
            ],
            "text/plain": [
              "   yy_mm_dd  num_month  store_id  goods_id  price  units_sold_day\n",
              "0  25-01-29        -33        43     17718  44943               2\n",
              "1  25-01-08        -33        32      8648  14949               1\n",
              "2  25-01-16        -33        53     10168  30158               1\n",
              "3  25-01-23        -33        31      1005   9922               1\n",
              "4  25-01-12        -33        27     19861  14988               0"
            ]
          },
          "metadata": {
            "tags": []
          },
          "execution_count": 90
        }
      ]
    },
    {
      "cell_type": "code",
      "metadata": {
        "id": "L3cJ0aj1j_ia",
        "colab_type": "code",
        "colab": {
          "base_uri": "https://localhost:8080/",
          "height": 195
        },
        "outputId": "4338ae97-bc11-43da-e504-7b255f572d38"
      },
      "source": [
        "test.head()"
      ],
      "execution_count": null,
      "outputs": [
        {
          "output_type": "execute_result",
          "data": {
            "text/html": [
              "<div>\n",
              "<style scoped>\n",
              "    .dataframe tbody tr th:only-of-type {\n",
              "        vertical-align: middle;\n",
              "    }\n",
              "\n",
              "    .dataframe tbody tr th {\n",
              "        vertical-align: top;\n",
              "    }\n",
              "\n",
              "    .dataframe thead th {\n",
              "        text-align: right;\n",
              "    }\n",
              "</style>\n",
              "<table border=\"1\" class=\"dataframe\">\n",
              "  <thead>\n",
              "    <tr style=\"text-align: right;\">\n",
              "      <th></th>\n",
              "      <th>index</th>\n",
              "      <th>store_id</th>\n",
              "      <th>goods_id</th>\n",
              "    </tr>\n",
              "  </thead>\n",
              "  <tbody>\n",
              "    <tr>\n",
              "      <th>0</th>\n",
              "      <td>0</td>\n",
              "      <td>3</td>\n",
              "      <td>15900</td>\n",
              "    </tr>\n",
              "    <tr>\n",
              "      <th>1</th>\n",
              "      <td>1</td>\n",
              "      <td>3</td>\n",
              "      <td>18326</td>\n",
              "    </tr>\n",
              "    <tr>\n",
              "      <th>2</th>\n",
              "      <td>2</td>\n",
              "      <td>3</td>\n",
              "      <td>5665</td>\n",
              "    </tr>\n",
              "    <tr>\n",
              "      <th>3</th>\n",
              "      <td>3</td>\n",
              "      <td>3</td>\n",
              "      <td>15859</td>\n",
              "    </tr>\n",
              "    <tr>\n",
              "      <th>4</th>\n",
              "      <td>4</td>\n",
              "      <td>3</td>\n",
              "      <td>8826</td>\n",
              "    </tr>\n",
              "  </tbody>\n",
              "</table>\n",
              "</div>"
            ],
            "text/plain": [
              "   index  store_id  goods_id\n",
              "0      0         3     15900\n",
              "1      1         3     18326\n",
              "2      2         3      5665\n",
              "3      3         3     15859\n",
              "4      4         3      8826"
            ]
          },
          "metadata": {
            "tags": []
          },
          "execution_count": 91
        }
      ]
    },
    {
      "cell_type": "code",
      "metadata": {
        "id": "W95MgA2lcjow",
        "colab_type": "code",
        "colab": {
          "base_uri": "https://localhost:8080/",
          "height": 52
        },
        "outputId": "01e4a58f-9d4c-4b7d-d11f-618035d4f8c0"
      },
      "source": [
        "print(train.shape)\n",
        "print(test.shape)"
      ],
      "execution_count": null,
      "outputs": [
        {
          "output_type": "stream",
          "text": [
            "(2882335, 6)\n",
            "(214200, 3)\n"
          ],
          "name": "stdout"
        }
      ]
    },
    {
      "cell_type": "markdown",
      "metadata": {
        "id": "xsKdB-SAi7rZ",
        "colab_type": "text"
      },
      "source": [
        "# 前処理  "
      ]
    },
    {
      "cell_type": "code",
      "metadata": {
        "id": "BQVVDBLAjCvn",
        "colab_type": "code",
        "colab": {}
      },
      "source": [
        "# store_id と goods_id を合わせた\"id\"の作成\n",
        "train[\"id\"] = \"store\" + train[\"store_id\"].astype(\"str\")\n",
        "train[\"id\"] = train[\"id\"]+ \"goods\" \n",
        "train[\"id\"] = train[\"id\"]+ train[\"goods_id\"].astype(\"str\")\n",
        "\n",
        "test[\"id\"] = \"store\" + test[\"store_id\"].astype(\"str\")\n",
        "test[\"id\"] = test[\"id\"]+ \"goods\" \n",
        "test[\"id\"] = test[\"id\"]+ test[\"goods_id\"].astype(\"str\")"
      ],
      "execution_count": null,
      "outputs": []
    },
    {
      "cell_type": "code",
      "metadata": {
        "id": "Px79qfdCcbPs",
        "colab_type": "code",
        "colab": {
          "base_uri": "https://localhost:8080/",
          "height": 195
        },
        "outputId": "60c0d8c5-4802-4f3c-8b39-8a4e309b9ad5"
      },
      "source": [
        "train.head()"
      ],
      "execution_count": null,
      "outputs": [
        {
          "output_type": "execute_result",
          "data": {
            "text/html": [
              "<div>\n",
              "<style scoped>\n",
              "    .dataframe tbody tr th:only-of-type {\n",
              "        vertical-align: middle;\n",
              "    }\n",
              "\n",
              "    .dataframe tbody tr th {\n",
              "        vertical-align: top;\n",
              "    }\n",
              "\n",
              "    .dataframe thead th {\n",
              "        text-align: right;\n",
              "    }\n",
              "</style>\n",
              "<table border=\"1\" class=\"dataframe\">\n",
              "  <thead>\n",
              "    <tr style=\"text-align: right;\">\n",
              "      <th></th>\n",
              "      <th>yy_mm_dd</th>\n",
              "      <th>num_month</th>\n",
              "      <th>store_id</th>\n",
              "      <th>goods_id</th>\n",
              "      <th>price</th>\n",
              "      <th>units_sold_day</th>\n",
              "      <th>id</th>\n",
              "    </tr>\n",
              "  </thead>\n",
              "  <tbody>\n",
              "    <tr>\n",
              "      <th>0</th>\n",
              "      <td>25-01-29</td>\n",
              "      <td>-33</td>\n",
              "      <td>43</td>\n",
              "      <td>17718</td>\n",
              "      <td>44943</td>\n",
              "      <td>2</td>\n",
              "      <td>store43goods17718</td>\n",
              "    </tr>\n",
              "    <tr>\n",
              "      <th>1</th>\n",
              "      <td>25-01-08</td>\n",
              "      <td>-33</td>\n",
              "      <td>32</td>\n",
              "      <td>8648</td>\n",
              "      <td>14949</td>\n",
              "      <td>1</td>\n",
              "      <td>store32goods8648</td>\n",
              "    </tr>\n",
              "    <tr>\n",
              "      <th>2</th>\n",
              "      <td>25-01-16</td>\n",
              "      <td>-33</td>\n",
              "      <td>53</td>\n",
              "      <td>10168</td>\n",
              "      <td>30158</td>\n",
              "      <td>1</td>\n",
              "      <td>store53goods10168</td>\n",
              "    </tr>\n",
              "    <tr>\n",
              "      <th>3</th>\n",
              "      <td>25-01-23</td>\n",
              "      <td>-33</td>\n",
              "      <td>31</td>\n",
              "      <td>1005</td>\n",
              "      <td>9922</td>\n",
              "      <td>1</td>\n",
              "      <td>store31goods1005</td>\n",
              "    </tr>\n",
              "    <tr>\n",
              "      <th>4</th>\n",
              "      <td>25-01-12</td>\n",
              "      <td>-33</td>\n",
              "      <td>27</td>\n",
              "      <td>19861</td>\n",
              "      <td>14988</td>\n",
              "      <td>0</td>\n",
              "      <td>store27goods19861</td>\n",
              "    </tr>\n",
              "  </tbody>\n",
              "</table>\n",
              "</div>"
            ],
            "text/plain": [
              "   yy_mm_dd  num_month  store_id  goods_id  price  units_sold_day  \\\n",
              "0  25-01-29        -33        43     17718  44943               2   \n",
              "1  25-01-08        -33        32      8648  14949               1   \n",
              "2  25-01-16        -33        53     10168  30158               1   \n",
              "3  25-01-23        -33        31      1005   9922               1   \n",
              "4  25-01-12        -33        27     19861  14988               0   \n",
              "\n",
              "                  id  \n",
              "0  store43goods17718  \n",
              "1   store32goods8648  \n",
              "2  store53goods10168  \n",
              "3   store31goods1005  \n",
              "4  store27goods19861  "
            ]
          },
          "metadata": {
            "tags": []
          },
          "execution_count": 94
        }
      ]
    },
    {
      "cell_type": "code",
      "metadata": {
        "id": "ATgokdR0c0Y9",
        "colab_type": "code",
        "colab": {
          "base_uri": "https://localhost:8080/",
          "height": 195
        },
        "outputId": "dfabddf8-18c1-49e1-92ce-3444aa5b5f39"
      },
      "source": [
        "test.head()"
      ],
      "execution_count": null,
      "outputs": [
        {
          "output_type": "execute_result",
          "data": {
            "text/html": [
              "<div>\n",
              "<style scoped>\n",
              "    .dataframe tbody tr th:only-of-type {\n",
              "        vertical-align: middle;\n",
              "    }\n",
              "\n",
              "    .dataframe tbody tr th {\n",
              "        vertical-align: top;\n",
              "    }\n",
              "\n",
              "    .dataframe thead th {\n",
              "        text-align: right;\n",
              "    }\n",
              "</style>\n",
              "<table border=\"1\" class=\"dataframe\">\n",
              "  <thead>\n",
              "    <tr style=\"text-align: right;\">\n",
              "      <th></th>\n",
              "      <th>index</th>\n",
              "      <th>store_id</th>\n",
              "      <th>goods_id</th>\n",
              "      <th>id</th>\n",
              "    </tr>\n",
              "  </thead>\n",
              "  <tbody>\n",
              "    <tr>\n",
              "      <th>0</th>\n",
              "      <td>0</td>\n",
              "      <td>3</td>\n",
              "      <td>15900</td>\n",
              "      <td>store3goods15900</td>\n",
              "    </tr>\n",
              "    <tr>\n",
              "      <th>1</th>\n",
              "      <td>1</td>\n",
              "      <td>3</td>\n",
              "      <td>18326</td>\n",
              "      <td>store3goods18326</td>\n",
              "    </tr>\n",
              "    <tr>\n",
              "      <th>2</th>\n",
              "      <td>2</td>\n",
              "      <td>3</td>\n",
              "      <td>5665</td>\n",
              "      <td>store3goods5665</td>\n",
              "    </tr>\n",
              "    <tr>\n",
              "      <th>3</th>\n",
              "      <td>3</td>\n",
              "      <td>3</td>\n",
              "      <td>15859</td>\n",
              "      <td>store3goods15859</td>\n",
              "    </tr>\n",
              "    <tr>\n",
              "      <th>4</th>\n",
              "      <td>4</td>\n",
              "      <td>3</td>\n",
              "      <td>8826</td>\n",
              "      <td>store3goods8826</td>\n",
              "    </tr>\n",
              "  </tbody>\n",
              "</table>\n",
              "</div>"
            ],
            "text/plain": [
              "   index  store_id  goods_id                id\n",
              "0      0         3     15900  store3goods15900\n",
              "1      1         3     18326  store3goods18326\n",
              "2      2         3      5665   store3goods5665\n",
              "3      3         3     15859  store3goods15859\n",
              "4      4         3      8826   store3goods8826"
            ]
          },
          "metadata": {
            "tags": []
          },
          "execution_count": 95
        }
      ]
    },
    {
      "cell_type": "code",
      "metadata": {
        "id": "1oy68s5XlFye",
        "colab_type": "code",
        "colab": {}
      },
      "source": [
        "# idごとの月々の売上の算出\n",
        "id_month_sale=train.groupby([\"num_month\", \"id\"]).sum()[[\"units_sold_day\"]].reset_index()"
      ],
      "execution_count": null,
      "outputs": []
    },
    {
      "cell_type": "code",
      "metadata": {
        "id": "uqGinEZ2jdtE",
        "colab_type": "code",
        "colab": {}
      },
      "source": [
        "id_month_sale.columns=['num_month', 'id', 'units_sold_month']"
      ],
      "execution_count": null,
      "outputs": []
    },
    {
      "cell_type": "code",
      "metadata": {
        "id": "S2K2Xc-0j6oT",
        "colab_type": "code",
        "colab": {
          "base_uri": "https://localhost:8080/",
          "height": 343
        },
        "outputId": "83d169fa-ca38-4e1b-8464-c3a45f3d665f"
      },
      "source": [
        "id_month_sale.tail(10)"
      ],
      "execution_count": null,
      "outputs": [
        {
          "output_type": "execute_result",
          "data": {
            "text/html": [
              "<div>\n",
              "<style scoped>\n",
              "    .dataframe tbody tr th:only-of-type {\n",
              "        vertical-align: middle;\n",
              "    }\n",
              "\n",
              "    .dataframe tbody tr th {\n",
              "        vertical-align: top;\n",
              "    }\n",
              "\n",
              "    .dataframe thead th {\n",
              "        text-align: right;\n",
              "    }\n",
              "</style>\n",
              "<table border=\"1\" class=\"dataframe\">\n",
              "  <thead>\n",
              "    <tr style=\"text-align: right;\">\n",
              "      <th></th>\n",
              "      <th>num_month</th>\n",
              "      <th>id</th>\n",
              "      <th>units_sold_month</th>\n",
              "    </tr>\n",
              "  </thead>\n",
              "  <tbody>\n",
              "    <tr>\n",
              "      <th>1719460</th>\n",
              "      <td>-1</td>\n",
              "      <td>store9goods4611</td>\n",
              "      <td>1</td>\n",
              "    </tr>\n",
              "    <tr>\n",
              "      <th>1719461</th>\n",
              "      <td>-1</td>\n",
              "      <td>store9goods5659</td>\n",
              "      <td>1</td>\n",
              "    </tr>\n",
              "    <tr>\n",
              "      <th>1719462</th>\n",
              "      <td>-1</td>\n",
              "      <td>store9goods6379</td>\n",
              "      <td>1</td>\n",
              "    </tr>\n",
              "    <tr>\n",
              "      <th>1719463</th>\n",
              "      <td>-1</td>\n",
              "      <td>store9goods6437</td>\n",
              "      <td>1</td>\n",
              "    </tr>\n",
              "    <tr>\n",
              "      <th>1719464</th>\n",
              "      <td>-1</td>\n",
              "      <td>store9goods7410</td>\n",
              "      <td>1</td>\n",
              "    </tr>\n",
              "    <tr>\n",
              "      <th>1719465</th>\n",
              "      <td>-1</td>\n",
              "      <td>store9goods7527</td>\n",
              "      <td>1</td>\n",
              "    </tr>\n",
              "    <tr>\n",
              "      <th>1719466</th>\n",
              "      <td>-1</td>\n",
              "      <td>store9goods7528</td>\n",
              "      <td>1</td>\n",
              "    </tr>\n",
              "    <tr>\n",
              "      <th>1719467</th>\n",
              "      <td>-1</td>\n",
              "      <td>store9goods7934</td>\n",
              "      <td>1</td>\n",
              "    </tr>\n",
              "    <tr>\n",
              "      <th>1719468</th>\n",
              "      <td>-1</td>\n",
              "      <td>store9goods8364</td>\n",
              "      <td>1</td>\n",
              "    </tr>\n",
              "    <tr>\n",
              "      <th>1719469</th>\n",
              "      <td>-1</td>\n",
              "      <td>store9goods8549</td>\n",
              "      <td>1</td>\n",
              "    </tr>\n",
              "  </tbody>\n",
              "</table>\n",
              "</div>"
            ],
            "text/plain": [
              "         num_month               id  units_sold_month\n",
              "1719460         -1  store9goods4611                 1\n",
              "1719461         -1  store9goods5659                 1\n",
              "1719462         -1  store9goods6379                 1\n",
              "1719463         -1  store9goods6437                 1\n",
              "1719464         -1  store9goods7410                 1\n",
              "1719465         -1  store9goods7527                 1\n",
              "1719466         -1  store9goods7528                 1\n",
              "1719467         -1  store9goods7934                 1\n",
              "1719468         -1  store9goods8364                 1\n",
              "1719469         -1  store9goods8549                 1"
            ]
          },
          "metadata": {
            "tags": []
          },
          "execution_count": 122
        }
      ]
    },
    {
      "cell_type": "code",
      "metadata": {
        "id": "Enqvrl1AkL0w",
        "colab_type": "code",
        "colab": {
          "base_uri": "https://localhost:8080/",
          "height": 195
        },
        "outputId": "956a2c09-ec06-4992-f569-a5555e7e5913"
      },
      "source": [
        "test.head()"
      ],
      "execution_count": null,
      "outputs": [
        {
          "output_type": "execute_result",
          "data": {
            "text/html": [
              "<div>\n",
              "<style scoped>\n",
              "    .dataframe tbody tr th:only-of-type {\n",
              "        vertical-align: middle;\n",
              "    }\n",
              "\n",
              "    .dataframe tbody tr th {\n",
              "        vertical-align: top;\n",
              "    }\n",
              "\n",
              "    .dataframe thead th {\n",
              "        text-align: right;\n",
              "    }\n",
              "</style>\n",
              "<table border=\"1\" class=\"dataframe\">\n",
              "  <thead>\n",
              "    <tr style=\"text-align: right;\">\n",
              "      <th></th>\n",
              "      <th>index</th>\n",
              "      <th>store_id</th>\n",
              "      <th>goods_id</th>\n",
              "      <th>id</th>\n",
              "    </tr>\n",
              "  </thead>\n",
              "  <tbody>\n",
              "    <tr>\n",
              "      <th>0</th>\n",
              "      <td>0</td>\n",
              "      <td>3</td>\n",
              "      <td>15900</td>\n",
              "      <td>store3goods15900</td>\n",
              "    </tr>\n",
              "    <tr>\n",
              "      <th>1</th>\n",
              "      <td>1</td>\n",
              "      <td>3</td>\n",
              "      <td>18326</td>\n",
              "      <td>store3goods18326</td>\n",
              "    </tr>\n",
              "    <tr>\n",
              "      <th>2</th>\n",
              "      <td>2</td>\n",
              "      <td>3</td>\n",
              "      <td>5665</td>\n",
              "      <td>store3goods5665</td>\n",
              "    </tr>\n",
              "    <tr>\n",
              "      <th>3</th>\n",
              "      <td>3</td>\n",
              "      <td>3</td>\n",
              "      <td>15859</td>\n",
              "      <td>store3goods15859</td>\n",
              "    </tr>\n",
              "    <tr>\n",
              "      <th>4</th>\n",
              "      <td>4</td>\n",
              "      <td>3</td>\n",
              "      <td>8826</td>\n",
              "      <td>store3goods8826</td>\n",
              "    </tr>\n",
              "  </tbody>\n",
              "</table>\n",
              "</div>"
            ],
            "text/plain": [
              "   index  store_id  goods_id                id\n",
              "0      0         3     15900  store3goods15900\n",
              "1      1         3     18326  store3goods18326\n",
              "2      2         3      5665   store3goods5665\n",
              "3      3         3     15859  store3goods15859\n",
              "4      4         3      8826   store3goods8826"
            ]
          },
          "metadata": {
            "tags": []
          },
          "execution_count": 99
        }
      ]
    },
    {
      "cell_type": "code",
      "metadata": {
        "id": "ShrlnIOk_dMu",
        "colab_type": "code",
        "colab": {}
      },
      "source": [
        "# 予測したい月は\"0\"なのでnum_monthを0として追加\n",
        "test[\"num_month\"]=0\n",
        "\n",
        "# index, goods_id, store_idは不要なので削除\n",
        "del test[\"index\"], test[\"goods_id\"], test[\"store_id\"], "
      ],
      "execution_count": null,
      "outputs": []
    },
    {
      "cell_type": "code",
      "metadata": {
        "id": "0BreHKxwecXA",
        "colab_type": "code",
        "colab": {
          "base_uri": "https://localhost:8080/",
          "height": 402
        },
        "outputId": "12ca7af8-8a6a-4747-bb39-1651e5ce6624"
      },
      "source": [
        "test"
      ],
      "execution_count": null,
      "outputs": [
        {
          "output_type": "execute_result",
          "data": {
            "text/html": [
              "<div>\n",
              "<style scoped>\n",
              "    .dataframe tbody tr th:only-of-type {\n",
              "        vertical-align: middle;\n",
              "    }\n",
              "\n",
              "    .dataframe tbody tr th {\n",
              "        vertical-align: top;\n",
              "    }\n",
              "\n",
              "    .dataframe thead th {\n",
              "        text-align: right;\n",
              "    }\n",
              "</style>\n",
              "<table border=\"1\" class=\"dataframe\">\n",
              "  <thead>\n",
              "    <tr style=\"text-align: right;\">\n",
              "      <th></th>\n",
              "      <th>id</th>\n",
              "      <th>num_month</th>\n",
              "    </tr>\n",
              "  </thead>\n",
              "  <tbody>\n",
              "    <tr>\n",
              "      <th>0</th>\n",
              "      <td>store3goods15900</td>\n",
              "      <td>0</td>\n",
              "    </tr>\n",
              "    <tr>\n",
              "      <th>1</th>\n",
              "      <td>store3goods18326</td>\n",
              "      <td>0</td>\n",
              "    </tr>\n",
              "    <tr>\n",
              "      <th>2</th>\n",
              "      <td>store3goods5665</td>\n",
              "      <td>0</td>\n",
              "    </tr>\n",
              "    <tr>\n",
              "      <th>3</th>\n",
              "      <td>store3goods15859</td>\n",
              "      <td>0</td>\n",
              "    </tr>\n",
              "    <tr>\n",
              "      <th>4</th>\n",
              "      <td>store3goods8826</td>\n",
              "      <td>0</td>\n",
              "    </tr>\n",
              "    <tr>\n",
              "      <th>...</th>\n",
              "      <td>...</td>\n",
              "      <td>...</td>\n",
              "    </tr>\n",
              "    <tr>\n",
              "      <th>214195</th>\n",
              "      <td>store60goods8851</td>\n",
              "      <td>0</td>\n",
              "    </tr>\n",
              "    <tr>\n",
              "      <th>214196</th>\n",
              "      <td>store60goods1539</td>\n",
              "      <td>0</td>\n",
              "    </tr>\n",
              "    <tr>\n",
              "      <th>214197</th>\n",
              "      <td>store60goods13719</td>\n",
              "      <td>0</td>\n",
              "    </tr>\n",
              "    <tr>\n",
              "      <th>214198</th>\n",
              "      <td>store60goods6074</td>\n",
              "      <td>0</td>\n",
              "    </tr>\n",
              "    <tr>\n",
              "      <th>214199</th>\n",
              "      <td>store60goods21442</td>\n",
              "      <td>0</td>\n",
              "    </tr>\n",
              "  </tbody>\n",
              "</table>\n",
              "<p>214200 rows × 2 columns</p>\n",
              "</div>"
            ],
            "text/plain": [
              "                       id  num_month\n",
              "0        store3goods15900          0\n",
              "1        store3goods18326          0\n",
              "2         store3goods5665          0\n",
              "3        store3goods15859          0\n",
              "4         store3goods8826          0\n",
              "...                   ...        ...\n",
              "214195   store60goods8851          0\n",
              "214196   store60goods1539          0\n",
              "214197  store60goods13719          0\n",
              "214198   store60goods6074          0\n",
              "214199  store60goods21442          0\n",
              "\n",
              "[214200 rows x 2 columns]"
            ]
          },
          "metadata": {
            "tags": []
          },
          "execution_count": 101
        }
      ]
    },
    {
      "cell_type": "markdown",
      "metadata": {
        "id": "naKqIOGmU0jO",
        "colab_type": "text"
      },
      "source": [
        "# データの整形"
      ]
    },
    {
      "cell_type": "code",
      "metadata": {
        "id": "A37yPcRjkn8Z",
        "colab_type": "code",
        "colab": {}
      },
      "source": [
        "data =pd.concat([id_month_sale, test], axis=0).reset_index().iloc[:,1:]"
      ],
      "execution_count": null,
      "outputs": []
    },
    {
      "cell_type": "code",
      "metadata": {
        "id": "VswGByqnkodW",
        "colab_type": "code",
        "colab": {
          "base_uri": "https://localhost:8080/",
          "height": 402
        },
        "outputId": "b9ef0474-38cd-4339-eabb-a97ea2fa1ed0"
      },
      "source": [
        "data"
      ],
      "execution_count": null,
      "outputs": [
        {
          "output_type": "execute_result",
          "data": {
            "text/html": [
              "<div>\n",
              "<style scoped>\n",
              "    .dataframe tbody tr th:only-of-type {\n",
              "        vertical-align: middle;\n",
              "    }\n",
              "\n",
              "    .dataframe tbody tr th {\n",
              "        vertical-align: top;\n",
              "    }\n",
              "\n",
              "    .dataframe thead th {\n",
              "        text-align: right;\n",
              "    }\n",
              "</style>\n",
              "<table border=\"1\" class=\"dataframe\">\n",
              "  <thead>\n",
              "    <tr style=\"text-align: right;\">\n",
              "      <th></th>\n",
              "      <th>num_month</th>\n",
              "      <th>id</th>\n",
              "      <th>units_sold_month</th>\n",
              "      <th>month</th>\n",
              "    </tr>\n",
              "  </thead>\n",
              "  <tbody>\n",
              "    <tr>\n",
              "      <th>0</th>\n",
              "      <td>-33</td>\n",
              "      <td>store10goods10098</td>\n",
              "      <td>1.0</td>\n",
              "      <td>9</td>\n",
              "    </tr>\n",
              "    <tr>\n",
              "      <th>1</th>\n",
              "      <td>-33</td>\n",
              "      <td>store10goods10173</td>\n",
              "      <td>1.0</td>\n",
              "      <td>9</td>\n",
              "    </tr>\n",
              "    <tr>\n",
              "      <th>2</th>\n",
              "      <td>-33</td>\n",
              "      <td>store10goods1018</td>\n",
              "      <td>1.0</td>\n",
              "      <td>9</td>\n",
              "    </tr>\n",
              "    <tr>\n",
              "      <th>3</th>\n",
              "      <td>-33</td>\n",
              "      <td>store10goods10277</td>\n",
              "      <td>1.0</td>\n",
              "      <td>9</td>\n",
              "    </tr>\n",
              "    <tr>\n",
              "      <th>4</th>\n",
              "      <td>-33</td>\n",
              "      <td>store10goods10338</td>\n",
              "      <td>1.0</td>\n",
              "      <td>9</td>\n",
              "    </tr>\n",
              "    <tr>\n",
              "      <th>...</th>\n",
              "      <td>...</td>\n",
              "      <td>...</td>\n",
              "      <td>...</td>\n",
              "      <td>...</td>\n",
              "    </tr>\n",
              "    <tr>\n",
              "      <th>1933665</th>\n",
              "      <td>0</td>\n",
              "      <td>store60goods8851</td>\n",
              "      <td>NaN</td>\n",
              "      <td>0</td>\n",
              "    </tr>\n",
              "    <tr>\n",
              "      <th>1933666</th>\n",
              "      <td>0</td>\n",
              "      <td>store60goods1539</td>\n",
              "      <td>NaN</td>\n",
              "      <td>0</td>\n",
              "    </tr>\n",
              "    <tr>\n",
              "      <th>1933667</th>\n",
              "      <td>0</td>\n",
              "      <td>store60goods13719</td>\n",
              "      <td>NaN</td>\n",
              "      <td>0</td>\n",
              "    </tr>\n",
              "    <tr>\n",
              "      <th>1933668</th>\n",
              "      <td>0</td>\n",
              "      <td>store60goods6074</td>\n",
              "      <td>NaN</td>\n",
              "      <td>0</td>\n",
              "    </tr>\n",
              "    <tr>\n",
              "      <th>1933669</th>\n",
              "      <td>0</td>\n",
              "      <td>store60goods21442</td>\n",
              "      <td>NaN</td>\n",
              "      <td>0</td>\n",
              "    </tr>\n",
              "  </tbody>\n",
              "</table>\n",
              "<p>1933670 rows × 4 columns</p>\n",
              "</div>"
            ],
            "text/plain": [
              "         num_month                 id  units_sold_month  month\n",
              "0              -33  store10goods10098               1.0      9\n",
              "1              -33  store10goods10173               1.0      9\n",
              "2              -33   store10goods1018               1.0      9\n",
              "3              -33  store10goods10277               1.0      9\n",
              "4              -33  store10goods10338               1.0      9\n",
              "...            ...                ...               ...    ...\n",
              "1933665          0   store60goods8851               NaN      0\n",
              "1933666          0   store60goods1539               NaN      0\n",
              "1933667          0  store60goods13719               NaN      0\n",
              "1933668          0   store60goods6074               NaN      0\n",
              "1933669          0  store60goods21442               NaN      0\n",
              "\n",
              "[1933670 rows x 4 columns]"
            ]
          },
          "metadata": {
            "tags": []
          },
          "execution_count": 111
        }
      ]
    },
    {
      "cell_type": "code",
      "metadata": {
        "id": "4DY-RsBO2lQZ",
        "colab_type": "code",
        "colab": {}
      },
      "source": [
        ""
      ],
      "execution_count": null,
      "outputs": []
    },
    {
      "cell_type": "code",
      "metadata": {
        "id": "LBxY8jpv364z",
        "colab_type": "code",
        "colab": {}
      },
      "source": [
        ""
      ],
      "execution_count": null,
      "outputs": []
    },
    {
      "cell_type": "code",
      "metadata": {
        "id": "9xDz__PN3leC",
        "colab_type": "code",
        "colab": {}
      },
      "source": [
        ""
      ],
      "execution_count": null,
      "outputs": []
    },
    {
      "cell_type": "code",
      "metadata": {
        "id": "K2y6Zb4wmqMl",
        "colab_type": "code",
        "colab": {}
      },
      "source": [
        "# データが大きいので過去6ヶ月分のみ使用\n",
        "#data = data[data[\"num_month\"]>=-6]"
      ],
      "execution_count": null,
      "outputs": []
    },
    {
      "cell_type": "code",
      "metadata": {
        "id": "a0dv1txyiTwO",
        "colab_type": "code",
        "colab": {
          "base_uri": "https://localhost:8080/",
          "height": 34
        },
        "outputId": "0110a1aa-f1f0-40ce-d225-5fdbef6a3ab1"
      },
      "source": [
        "len(data)"
      ],
      "execution_count": null,
      "outputs": [
        {
          "output_type": "execute_result",
          "data": {
            "text/plain": [
              "1933670"
            ]
          },
          "metadata": {
            "tags": []
          },
          "execution_count": 125
        }
      ]
    },
    {
      "cell_type": "markdown",
      "metadata": {
        "id": "E-tyLK3raFNz",
        "colab_type": "text"
      },
      "source": [
        "### idごとのshift特徴量の作成  "
      ]
    },
    {
      "cell_type": "code",
      "metadata": {
        "id": "QdEozpk__Rtc",
        "colab_type": "code",
        "colab": {
          "base_uri": "https://localhost:8080/",
          "height": 122
        },
        "outputId": "0ea94899-e69b-4922-bcb2-47cf141c5a2e"
      },
      "source": [
        "# 過去3ヶ月の売上をもとに来月の売上を予測するようなshift特徴量の作成\n",
        "# trainでは-4, -3, -2の売上をもとに-1の売上を予測する\n",
        "# testでは-3, -2, -1の売上をもとに0の売上を予測する  ようなイメージ\n",
        "for diff in range(5):\n",
        "    shift_day = 1+ diff\n",
        "    print(shift_day)\n",
        "    data[f\"id_shift_t{shift_day}\"] = data.groupby([\"id\"])[\"units_sold_month\"].transform(lambda x: x.shift(shift_day))\n",
        "\n",
        "print(f\"id_shift_t{shift_day}\")\n"
      ],
      "execution_count": null,
      "outputs": [
        {
          "output_type": "stream",
          "text": [
            "1\n",
            "2\n",
            "3\n",
            "4\n",
            "5\n",
            "id_shift_t5\n"
          ],
          "name": "stdout"
        }
      ]
    },
    {
      "cell_type": "code",
      "metadata": {
        "id": "wX1ZaTXbo4Sc",
        "colab_type": "code",
        "colab": {
          "base_uri": "https://localhost:8080/",
          "height": 77
        },
        "outputId": "3f4d4a99-eb6b-4d8a-ef4e-fc668a1d3350"
      },
      "source": [
        "# shiiift特徴量のイメージ\n",
        "data[data[\"id\"]==\"store3goods18326\"]"
      ],
      "execution_count": null,
      "outputs": [
        {
          "output_type": "execute_result",
          "data": {
            "text/html": [
              "<div>\n",
              "<style scoped>\n",
              "    .dataframe tbody tr th:only-of-type {\n",
              "        vertical-align: middle;\n",
              "    }\n",
              "\n",
              "    .dataframe tbody tr th {\n",
              "        vertical-align: top;\n",
              "    }\n",
              "\n",
              "    .dataframe thead th {\n",
              "        text-align: right;\n",
              "    }\n",
              "</style>\n",
              "<table border=\"1\" class=\"dataframe\">\n",
              "  <thead>\n",
              "    <tr style=\"text-align: right;\">\n",
              "      <th></th>\n",
              "      <th>num_month</th>\n",
              "      <th>id</th>\n",
              "      <th>units_sold_month</th>\n",
              "      <th>id_shift_t1</th>\n",
              "      <th>id_shift_t2</th>\n",
              "      <th>id_shift_t3</th>\n",
              "      <th>id_shift_t4</th>\n",
              "      <th>id_shift_t5</th>\n",
              "    </tr>\n",
              "  </thead>\n",
              "  <tbody>\n",
              "    <tr>\n",
              "      <th>1719471</th>\n",
              "      <td>0</td>\n",
              "      <td>store3goods18326</td>\n",
              "      <td>NaN</td>\n",
              "      <td>NaN</td>\n",
              "      <td>NaN</td>\n",
              "      <td>NaN</td>\n",
              "      <td>NaN</td>\n",
              "      <td>NaN</td>\n",
              "    </tr>\n",
              "  </tbody>\n",
              "</table>\n",
              "</div>"
            ],
            "text/plain": [
              "         num_month                id  units_sold_month  id_shift_t1  \\\n",
              "1719471          0  store3goods18326               NaN          NaN   \n",
              "\n",
              "         id_shift_t2  id_shift_t3  id_shift_t4  id_shift_t5  \n",
              "1719471          NaN          NaN          NaN          NaN  "
            ]
          },
          "metadata": {
            "tags": []
          },
          "execution_count": 127
        }
      ]
    },
    {
      "cell_type": "code",
      "metadata": {
        "id": "UUiLuXDcf_VP",
        "colab_type": "code",
        "colab": {
          "base_uri": "https://localhost:8080/",
          "height": 195
        },
        "outputId": "244f7239-ffc7-4856-cd3b-49ef1c80720e"
      },
      "source": [
        "data.head()"
      ],
      "execution_count": null,
      "outputs": [
        {
          "output_type": "execute_result",
          "data": {
            "text/html": [
              "<div>\n",
              "<style scoped>\n",
              "    .dataframe tbody tr th:only-of-type {\n",
              "        vertical-align: middle;\n",
              "    }\n",
              "\n",
              "    .dataframe tbody tr th {\n",
              "        vertical-align: top;\n",
              "    }\n",
              "\n",
              "    .dataframe thead th {\n",
              "        text-align: right;\n",
              "    }\n",
              "</style>\n",
              "<table border=\"1\" class=\"dataframe\">\n",
              "  <thead>\n",
              "    <tr style=\"text-align: right;\">\n",
              "      <th></th>\n",
              "      <th>num_month</th>\n",
              "      <th>id</th>\n",
              "      <th>units_sold_month</th>\n",
              "      <th>month</th>\n",
              "      <th>moth</th>\n",
              "    </tr>\n",
              "  </thead>\n",
              "  <tbody>\n",
              "    <tr>\n",
              "      <th>0</th>\n",
              "      <td>-33</td>\n",
              "      <td>store10goods10098</td>\n",
              "      <td>1.0</td>\n",
              "      <td>9</td>\n",
              "      <td>9</td>\n",
              "    </tr>\n",
              "    <tr>\n",
              "      <th>1</th>\n",
              "      <td>-33</td>\n",
              "      <td>store10goods10173</td>\n",
              "      <td>1.0</td>\n",
              "      <td>9</td>\n",
              "      <td>9</td>\n",
              "    </tr>\n",
              "    <tr>\n",
              "      <th>2</th>\n",
              "      <td>-33</td>\n",
              "      <td>store10goods1018</td>\n",
              "      <td>1.0</td>\n",
              "      <td>9</td>\n",
              "      <td>9</td>\n",
              "    </tr>\n",
              "    <tr>\n",
              "      <th>3</th>\n",
              "      <td>-33</td>\n",
              "      <td>store10goods10277</td>\n",
              "      <td>1.0</td>\n",
              "      <td>9</td>\n",
              "      <td>9</td>\n",
              "    </tr>\n",
              "    <tr>\n",
              "      <th>4</th>\n",
              "      <td>-33</td>\n",
              "      <td>store10goods10338</td>\n",
              "      <td>1.0</td>\n",
              "      <td>9</td>\n",
              "      <td>9</td>\n",
              "    </tr>\n",
              "  </tbody>\n",
              "</table>\n",
              "</div>"
            ],
            "text/plain": [
              "   num_month                 id  units_sold_month month moth\n",
              "0        -33  store10goods10098               1.0     9    9\n",
              "1        -33  store10goods10173               1.0     9    9\n",
              "2        -33   store10goods1018               1.0     9    9\n",
              "3        -33  store10goods10277               1.0     9    9\n",
              "4        -33  store10goods10338               1.0     9    9"
            ]
          },
          "metadata": {
            "tags": []
          },
          "execution_count": 115
        }
      ]
    },
    {
      "cell_type": "code",
      "metadata": {
        "id": "GiFxr3yJ60II",
        "colab_type": "code",
        "colab": {}
      },
      "source": [
        "save=data"
      ],
      "execution_count": null,
      "outputs": []
    },
    {
      "cell_type": "code",
      "metadata": {
        "id": "cGHxUqM2Aj5E",
        "colab_type": "code",
        "colab": {
          "base_uri": "https://localhost:8080/",
          "height": 402
        },
        "outputId": "d4fd9b5c-67fe-4a77-9a18-b7fe11fb0afa"
      },
      "source": [
        "save"
      ],
      "execution_count": null,
      "outputs": [
        {
          "output_type": "execute_result",
          "data": {
            "text/html": [
              "<div>\n",
              "<style scoped>\n",
              "    .dataframe tbody tr th:only-of-type {\n",
              "        vertical-align: middle;\n",
              "    }\n",
              "\n",
              "    .dataframe tbody tr th {\n",
              "        vertical-align: top;\n",
              "    }\n",
              "\n",
              "    .dataframe thead th {\n",
              "        text-align: right;\n",
              "    }\n",
              "</style>\n",
              "<table border=\"1\" class=\"dataframe\">\n",
              "  <thead>\n",
              "    <tr style=\"text-align: right;\">\n",
              "      <th></th>\n",
              "      <th>num_month</th>\n",
              "      <th>id</th>\n",
              "      <th>units_sold_month</th>\n",
              "      <th>id_shift_t1</th>\n",
              "      <th>id_shift_t2</th>\n",
              "      <th>id_shift_t3</th>\n",
              "      <th>id_shift_t4</th>\n",
              "      <th>id_shift_t5</th>\n",
              "    </tr>\n",
              "  </thead>\n",
              "  <tbody>\n",
              "    <tr>\n",
              "      <th>0</th>\n",
              "      <td>-33</td>\n",
              "      <td>store10goods10098</td>\n",
              "      <td>1.0</td>\n",
              "      <td>NaN</td>\n",
              "      <td>NaN</td>\n",
              "      <td>NaN</td>\n",
              "      <td>NaN</td>\n",
              "      <td>NaN</td>\n",
              "    </tr>\n",
              "    <tr>\n",
              "      <th>1</th>\n",
              "      <td>-33</td>\n",
              "      <td>store10goods10173</td>\n",
              "      <td>1.0</td>\n",
              "      <td>NaN</td>\n",
              "      <td>NaN</td>\n",
              "      <td>NaN</td>\n",
              "      <td>NaN</td>\n",
              "      <td>NaN</td>\n",
              "    </tr>\n",
              "    <tr>\n",
              "      <th>2</th>\n",
              "      <td>-33</td>\n",
              "      <td>store10goods1018</td>\n",
              "      <td>1.0</td>\n",
              "      <td>NaN</td>\n",
              "      <td>NaN</td>\n",
              "      <td>NaN</td>\n",
              "      <td>NaN</td>\n",
              "      <td>NaN</td>\n",
              "    </tr>\n",
              "    <tr>\n",
              "      <th>3</th>\n",
              "      <td>-33</td>\n",
              "      <td>store10goods10277</td>\n",
              "      <td>1.0</td>\n",
              "      <td>NaN</td>\n",
              "      <td>NaN</td>\n",
              "      <td>NaN</td>\n",
              "      <td>NaN</td>\n",
              "      <td>NaN</td>\n",
              "    </tr>\n",
              "    <tr>\n",
              "      <th>4</th>\n",
              "      <td>-33</td>\n",
              "      <td>store10goods10338</td>\n",
              "      <td>1.0</td>\n",
              "      <td>NaN</td>\n",
              "      <td>NaN</td>\n",
              "      <td>NaN</td>\n",
              "      <td>NaN</td>\n",
              "      <td>NaN</td>\n",
              "    </tr>\n",
              "    <tr>\n",
              "      <th>...</th>\n",
              "      <td>...</td>\n",
              "      <td>...</td>\n",
              "      <td>...</td>\n",
              "      <td>...</td>\n",
              "      <td>...</td>\n",
              "      <td>...</td>\n",
              "      <td>...</td>\n",
              "      <td>...</td>\n",
              "    </tr>\n",
              "    <tr>\n",
              "      <th>1933665</th>\n",
              "      <td>0</td>\n",
              "      <td>store60goods8851</td>\n",
              "      <td>NaN</td>\n",
              "      <td>NaN</td>\n",
              "      <td>NaN</td>\n",
              "      <td>NaN</td>\n",
              "      <td>NaN</td>\n",
              "      <td>NaN</td>\n",
              "    </tr>\n",
              "    <tr>\n",
              "      <th>1933666</th>\n",
              "      <td>0</td>\n",
              "      <td>store60goods1539</td>\n",
              "      <td>NaN</td>\n",
              "      <td>2.0</td>\n",
              "      <td>6.0</td>\n",
              "      <td>NaN</td>\n",
              "      <td>NaN</td>\n",
              "      <td>NaN</td>\n",
              "    </tr>\n",
              "    <tr>\n",
              "      <th>1933667</th>\n",
              "      <td>0</td>\n",
              "      <td>store60goods13719</td>\n",
              "      <td>NaN</td>\n",
              "      <td>2.0</td>\n",
              "      <td>6.0</td>\n",
              "      <td>2.0</td>\n",
              "      <td>NaN</td>\n",
              "      <td>NaN</td>\n",
              "    </tr>\n",
              "    <tr>\n",
              "      <th>1933668</th>\n",
              "      <td>0</td>\n",
              "      <td>store60goods6074</td>\n",
              "      <td>NaN</td>\n",
              "      <td>1.0</td>\n",
              "      <td>1.0</td>\n",
              "      <td>1.0</td>\n",
              "      <td>NaN</td>\n",
              "      <td>NaN</td>\n",
              "    </tr>\n",
              "    <tr>\n",
              "      <th>1933669</th>\n",
              "      <td>0</td>\n",
              "      <td>store60goods21442</td>\n",
              "      <td>NaN</td>\n",
              "      <td>1.0</td>\n",
              "      <td>1.0</td>\n",
              "      <td>1.0</td>\n",
              "      <td>NaN</td>\n",
              "      <td>NaN</td>\n",
              "    </tr>\n",
              "  </tbody>\n",
              "</table>\n",
              "<p>1933670 rows × 8 columns</p>\n",
              "</div>"
            ],
            "text/plain": [
              "         num_month                 id  units_sold_month  id_shift_t1  \\\n",
              "0              -33  store10goods10098               1.0          NaN   \n",
              "1              -33  store10goods10173               1.0          NaN   \n",
              "2              -33   store10goods1018               1.0          NaN   \n",
              "3              -33  store10goods10277               1.0          NaN   \n",
              "4              -33  store10goods10338               1.0          NaN   \n",
              "...            ...                ...               ...          ...   \n",
              "1933665          0   store60goods8851               NaN          NaN   \n",
              "1933666          0   store60goods1539               NaN          2.0   \n",
              "1933667          0  store60goods13719               NaN          2.0   \n",
              "1933668          0   store60goods6074               NaN          1.0   \n",
              "1933669          0  store60goods21442               NaN          1.0   \n",
              "\n",
              "         id_shift_t2  id_shift_t3  id_shift_t4  id_shift_t5  \n",
              "0                NaN          NaN          NaN          NaN  \n",
              "1                NaN          NaN          NaN          NaN  \n",
              "2                NaN          NaN          NaN          NaN  \n",
              "3                NaN          NaN          NaN          NaN  \n",
              "4                NaN          NaN          NaN          NaN  \n",
              "...              ...          ...          ...          ...  \n",
              "1933665          NaN          NaN          NaN          NaN  \n",
              "1933666          6.0          NaN          NaN          NaN  \n",
              "1933667          6.0          2.0          NaN          NaN  \n",
              "1933668          1.0          1.0          NaN          NaN  \n",
              "1933669          1.0          1.0          NaN          NaN  \n",
              "\n",
              "[1933670 rows x 8 columns]"
            ]
          },
          "metadata": {
            "tags": []
          },
          "execution_count": 129
        }
      ]
    },
    {
      "cell_type": "code",
      "metadata": {
        "id": "DLeTLt-eIs8f",
        "colab_type": "code",
        "colab": {}
      },
      "source": [
        "data=save"
      ],
      "execution_count": null,
      "outputs": []
    },
    {
      "cell_type": "code",
      "metadata": {
        "id": "AL9IDjzs4TVz",
        "colab_type": "code",
        "colab": {}
      },
      "source": [
        "data[\"month\"]=-data[\"num_month\"]%12"
      ],
      "execution_count": null,
      "outputs": []
    },
    {
      "cell_type": "code",
      "metadata": {
        "id": "nuaAWRzu4Q9r",
        "colab_type": "code",
        "colab": {}
      },
      "source": [
        "data[\"month\"] = data[\"month\"].astype(\"category\")\n",
        "data[\"month\"] = data[\"month\"].astype(\"category\")"
      ],
      "execution_count": null,
      "outputs": []
    },
    {
      "cell_type": "code",
      "metadata": {
        "id": "0Zf_nOlpmedG",
        "colab_type": "code",
        "colab": {}
      },
      "source": [
        "# trainとtestに分ける\n",
        "train_df=data[data[\"num_month\"]!=0]\n",
        "test_df=data[data[\"num_month\"]==0]"
      ],
      "execution_count": null,
      "outputs": []
    },
    {
      "cell_type": "code",
      "metadata": {
        "id": "iFCuUPj3q4Fi",
        "colab_type": "code",
        "colab": {}
      },
      "source": [
        "# 欠損値埋め\n",
        "train_df = train_df.fillna(0)"
      ],
      "execution_count": null,
      "outputs": []
    },
    {
      "cell_type": "code",
      "metadata": {
        "id": "8UCeD-hzxhdc",
        "colab_type": "code",
        "colab": {}
      },
      "source": [
        "test_df=test_df.fillna(0)"
      ],
      "execution_count": null,
      "outputs": []
    },
    {
      "cell_type": "code",
      "metadata": {
        "id": "r-HSZ3BFwfGU",
        "colab_type": "code",
        "colab": {}
      },
      "source": [
        "train_df = train_df[train_df[\"num_month\"]>=-28]"
      ],
      "execution_count": null,
      "outputs": []
    },
    {
      "cell_type": "code",
      "metadata": {
        "id": "3mOhyseEgQIA",
        "colab_type": "code",
        "colab": {
          "base_uri": "https://localhost:8080/",
          "height": 402
        },
        "outputId": "99cbfd9a-8828-4071-e14e-6f5e9d83393b"
      },
      "source": [
        "train_df"
      ],
      "execution_count": null,
      "outputs": [
        {
          "output_type": "execute_result",
          "data": {
            "text/html": [
              "<div>\n",
              "<style scoped>\n",
              "    .dataframe tbody tr th:only-of-type {\n",
              "        vertical-align: middle;\n",
              "    }\n",
              "\n",
              "    .dataframe tbody tr th {\n",
              "        vertical-align: top;\n",
              "    }\n",
              "\n",
              "    .dataframe thead th {\n",
              "        text-align: right;\n",
              "    }\n",
              "</style>\n",
              "<table border=\"1\" class=\"dataframe\">\n",
              "  <thead>\n",
              "    <tr style=\"text-align: right;\">\n",
              "      <th></th>\n",
              "      <th>num_month</th>\n",
              "      <th>id</th>\n",
              "      <th>units_sold_month</th>\n",
              "      <th>id_shift_t1</th>\n",
              "      <th>id_shift_t2</th>\n",
              "      <th>id_shift_t3</th>\n",
              "      <th>id_shift_t4</th>\n",
              "      <th>id_shift_t5</th>\n",
              "      <th>month</th>\n",
              "    </tr>\n",
              "  </thead>\n",
              "  <tbody>\n",
              "    <tr>\n",
              "      <th>320307</th>\n",
              "      <td>-28</td>\n",
              "      <td>store10goods1004</td>\n",
              "      <td>1.0</td>\n",
              "      <td>0.0</td>\n",
              "      <td>0.0</td>\n",
              "      <td>0.0</td>\n",
              "      <td>0.0</td>\n",
              "      <td>0.0</td>\n",
              "      <td>4</td>\n",
              "    </tr>\n",
              "    <tr>\n",
              "      <th>320308</th>\n",
              "      <td>-28</td>\n",
              "      <td>store10goods11015</td>\n",
              "      <td>1.0</td>\n",
              "      <td>0.0</td>\n",
              "      <td>0.0</td>\n",
              "      <td>0.0</td>\n",
              "      <td>0.0</td>\n",
              "      <td>0.0</td>\n",
              "      <td>4</td>\n",
              "    </tr>\n",
              "    <tr>\n",
              "      <th>320309</th>\n",
              "      <td>-28</td>\n",
              "      <td>store10goods11504</td>\n",
              "      <td>1.0</td>\n",
              "      <td>0.0</td>\n",
              "      <td>0.0</td>\n",
              "      <td>0.0</td>\n",
              "      <td>0.0</td>\n",
              "      <td>0.0</td>\n",
              "      <td>4</td>\n",
              "    </tr>\n",
              "    <tr>\n",
              "      <th>320310</th>\n",
              "      <td>-28</td>\n",
              "      <td>store10goods11900</td>\n",
              "      <td>1.0</td>\n",
              "      <td>0.0</td>\n",
              "      <td>0.0</td>\n",
              "      <td>0.0</td>\n",
              "      <td>0.0</td>\n",
              "      <td>0.0</td>\n",
              "      <td>4</td>\n",
              "    </tr>\n",
              "    <tr>\n",
              "      <th>320311</th>\n",
              "      <td>-28</td>\n",
              "      <td>store10goods12105</td>\n",
              "      <td>1.0</td>\n",
              "      <td>0.0</td>\n",
              "      <td>0.0</td>\n",
              "      <td>0.0</td>\n",
              "      <td>0.0</td>\n",
              "      <td>0.0</td>\n",
              "      <td>4</td>\n",
              "    </tr>\n",
              "    <tr>\n",
              "      <th>...</th>\n",
              "      <td>...</td>\n",
              "      <td>...</td>\n",
              "      <td>...</td>\n",
              "      <td>...</td>\n",
              "      <td>...</td>\n",
              "      <td>...</td>\n",
              "      <td>...</td>\n",
              "      <td>...</td>\n",
              "      <td>...</td>\n",
              "    </tr>\n",
              "    <tr>\n",
              "      <th>1719465</th>\n",
              "      <td>-1</td>\n",
              "      <td>store9goods7527</td>\n",
              "      <td>1.0</td>\n",
              "      <td>0.0</td>\n",
              "      <td>0.0</td>\n",
              "      <td>0.0</td>\n",
              "      <td>0.0</td>\n",
              "      <td>0.0</td>\n",
              "      <td>1</td>\n",
              "    </tr>\n",
              "    <tr>\n",
              "      <th>1719466</th>\n",
              "      <td>-1</td>\n",
              "      <td>store9goods7528</td>\n",
              "      <td>1.0</td>\n",
              "      <td>0.0</td>\n",
              "      <td>0.0</td>\n",
              "      <td>0.0</td>\n",
              "      <td>0.0</td>\n",
              "      <td>0.0</td>\n",
              "      <td>1</td>\n",
              "    </tr>\n",
              "    <tr>\n",
              "      <th>1719467</th>\n",
              "      <td>-1</td>\n",
              "      <td>store9goods7934</td>\n",
              "      <td>1.0</td>\n",
              "      <td>1.0</td>\n",
              "      <td>0.0</td>\n",
              "      <td>0.0</td>\n",
              "      <td>0.0</td>\n",
              "      <td>0.0</td>\n",
              "      <td>1</td>\n",
              "    </tr>\n",
              "    <tr>\n",
              "      <th>1719468</th>\n",
              "      <td>-1</td>\n",
              "      <td>store9goods8364</td>\n",
              "      <td>1.0</td>\n",
              "      <td>0.0</td>\n",
              "      <td>0.0</td>\n",
              "      <td>0.0</td>\n",
              "      <td>0.0</td>\n",
              "      <td>0.0</td>\n",
              "      <td>1</td>\n",
              "    </tr>\n",
              "    <tr>\n",
              "      <th>1719469</th>\n",
              "      <td>-1</td>\n",
              "      <td>store9goods8549</td>\n",
              "      <td>1.0</td>\n",
              "      <td>0.0</td>\n",
              "      <td>0.0</td>\n",
              "      <td>0.0</td>\n",
              "      <td>0.0</td>\n",
              "      <td>0.0</td>\n",
              "      <td>1</td>\n",
              "    </tr>\n",
              "  </tbody>\n",
              "</table>\n",
              "<p>1399163 rows × 9 columns</p>\n",
              "</div>"
            ],
            "text/plain": [
              "         num_month                 id  units_sold_month  id_shift_t1  \\\n",
              "320307         -28   store10goods1004               1.0          0.0   \n",
              "320308         -28  store10goods11015               1.0          0.0   \n",
              "320309         -28  store10goods11504               1.0          0.0   \n",
              "320310         -28  store10goods11900               1.0          0.0   \n",
              "320311         -28  store10goods12105               1.0          0.0   \n",
              "...            ...                ...               ...          ...   \n",
              "1719465         -1    store9goods7527               1.0          0.0   \n",
              "1719466         -1    store9goods7528               1.0          0.0   \n",
              "1719467         -1    store9goods7934               1.0          1.0   \n",
              "1719468         -1    store9goods8364               1.0          0.0   \n",
              "1719469         -1    store9goods8549               1.0          0.0   \n",
              "\n",
              "         id_shift_t2  id_shift_t3  id_shift_t4  id_shift_t5 month  \n",
              "320307           0.0          0.0          0.0          0.0     4  \n",
              "320308           0.0          0.0          0.0          0.0     4  \n",
              "320309           0.0          0.0          0.0          0.0     4  \n",
              "320310           0.0          0.0          0.0          0.0     4  \n",
              "320311           0.0          0.0          0.0          0.0     4  \n",
              "...              ...          ...          ...          ...   ...  \n",
              "1719465          0.0          0.0          0.0          0.0     1  \n",
              "1719466          0.0          0.0          0.0          0.0     1  \n",
              "1719467          0.0          0.0          0.0          0.0     1  \n",
              "1719468          0.0          0.0          0.0          0.0     1  \n",
              "1719469          0.0          0.0          0.0          0.0     1  \n",
              "\n",
              "[1399163 rows x 9 columns]"
            ]
          },
          "metadata": {
            "tags": []
          },
          "execution_count": 250
        }
      ]
    },
    {
      "cell_type": "code",
      "metadata": {
        "id": "rG1cEX0gmito",
        "colab_type": "code",
        "colab": {}
      },
      "source": [
        "y=train_df[\"units_sold_month\"]\n",
        "del train_df[\"units_sold_month\"], test_df[\"units_sold_month\"]"
      ],
      "execution_count": null,
      "outputs": []
    },
    {
      "cell_type": "code",
      "metadata": {
        "id": "qejCosVpBQmH",
        "colab_type": "code",
        "colab": {
          "base_uri": "https://localhost:8080/",
          "height": 228
        },
        "outputId": "d4e915ff-96a7-43b0-8b56-d66d6b119d1a"
      },
      "source": [
        "train_df[\"id\"]"
      ],
      "execution_count": null,
      "outputs": [
        {
          "output_type": "execute_result",
          "data": {
            "text/plain": [
              "320307      store10goods1004\n",
              "320308     store10goods11015\n",
              "320309     store10goods11504\n",
              "320310     store10goods11900\n",
              "320311     store10goods12105\n",
              "                 ...        \n",
              "1719465      store9goods7527\n",
              "1719466      store9goods7528\n",
              "1719467      store9goods7934\n",
              "1719468      store9goods8364\n",
              "1719469      store9goods8549\n",
              "Name: id, Length: 1399163, dtype: object"
            ]
          },
          "metadata": {
            "tags": []
          },
          "execution_count": 252
        }
      ]
    },
    {
      "cell_type": "code",
      "metadata": {
        "id": "10xKtW-mBTdF",
        "colab_type": "code",
        "colab": {
          "base_uri": "https://localhost:8080/",
          "height": 228
        },
        "outputId": "510ea434-cd81-4dd2-d924-89c52853de92"
      },
      "source": [
        "train[\"id\"]"
      ],
      "execution_count": null,
      "outputs": [
        {
          "output_type": "execute_result",
          "data": {
            "text/plain": [
              "0          store43goods17718\n",
              "1           store32goods8648\n",
              "2          store53goods10168\n",
              "3           store31goods1005\n",
              "4          store27goods19861\n",
              "                 ...        \n",
              "2882330    store26goods14804\n",
              "2882331     store18goods7873\n",
              "2882332     store57goods4562\n",
              "2882333     store27goods7173\n",
              "2882334    store58goods21576\n",
              "Name: id, Length: 2882335, dtype: object"
            ]
          },
          "metadata": {
            "tags": []
          },
          "execution_count": 253
        }
      ]
    },
    {
      "cell_type": "code",
      "metadata": {
        "id": "yav-J4woEUMK",
        "colab_type": "code",
        "colab": {
          "base_uri": "https://localhost:8080/",
          "height": 402
        },
        "outputId": "8aa8a43e-74e8-45d4-e3f1-2cf2e53b99d4"
      },
      "source": [
        "# # idごとの月々の売上の算出\n",
        "# temporary=train.groupby([\"num_month\", \"id\"]).mean()[[\"price\"]].reset_index()\n",
        "# temporary.columns=['num_month', 'id', 'price']\n",
        "# temporary"
      ],
      "execution_count": null,
      "outputs": [
        {
          "output_type": "execute_result",
          "data": {
            "text/html": [
              "<div>\n",
              "<style scoped>\n",
              "    .dataframe tbody tr th:only-of-type {\n",
              "        vertical-align: middle;\n",
              "    }\n",
              "\n",
              "    .dataframe tbody tr th {\n",
              "        vertical-align: top;\n",
              "    }\n",
              "\n",
              "    .dataframe thead th {\n",
              "        text-align: right;\n",
              "    }\n",
              "</style>\n",
              "<table border=\"1\" class=\"dataframe\">\n",
              "  <thead>\n",
              "    <tr style=\"text-align: right;\">\n",
              "      <th></th>\n",
              "      <th>num_month</th>\n",
              "      <th>id</th>\n",
              "      <th>price</th>\n",
              "    </tr>\n",
              "  </thead>\n",
              "  <tbody>\n",
              "    <tr>\n",
              "      <th>0</th>\n",
              "      <td>-33</td>\n",
              "      <td>store10goods10098</td>\n",
              "      <td>46841.0</td>\n",
              "    </tr>\n",
              "    <tr>\n",
              "      <th>1</th>\n",
              "      <td>-33</td>\n",
              "      <td>store10goods10173</td>\n",
              "      <td>14994.0</td>\n",
              "    </tr>\n",
              "    <tr>\n",
              "      <th>2</th>\n",
              "      <td>-33</td>\n",
              "      <td>store10goods1018</td>\n",
              "      <td>29604.0</td>\n",
              "    </tr>\n",
              "    <tr>\n",
              "      <th>3</th>\n",
              "      <td>-33</td>\n",
              "      <td>store10goods10277</td>\n",
              "      <td>10482.0</td>\n",
              "    </tr>\n",
              "    <tr>\n",
              "      <th>4</th>\n",
              "      <td>-33</td>\n",
              "      <td>store10goods10338</td>\n",
              "      <td>14805.0</td>\n",
              "    </tr>\n",
              "    <tr>\n",
              "      <th>...</th>\n",
              "      <td>...</td>\n",
              "      <td>...</td>\n",
              "      <td>...</td>\n",
              "    </tr>\n",
              "    <tr>\n",
              "      <th>1719465</th>\n",
              "      <td>-1</td>\n",
              "      <td>store9goods7527</td>\n",
              "      <td>34728.0</td>\n",
              "    </tr>\n",
              "    <tr>\n",
              "      <th>1719466</th>\n",
              "      <td>-1</td>\n",
              "      <td>store9goods7528</td>\n",
              "      <td>34826.0</td>\n",
              "    </tr>\n",
              "    <tr>\n",
              "      <th>1719467</th>\n",
              "      <td>-1</td>\n",
              "      <td>store9goods7934</td>\n",
              "      <td>108141.0</td>\n",
              "    </tr>\n",
              "    <tr>\n",
              "      <th>1719468</th>\n",
              "      <td>-1</td>\n",
              "      <td>store9goods8364</td>\n",
              "      <td>20108.0</td>\n",
              "    </tr>\n",
              "    <tr>\n",
              "      <th>1719469</th>\n",
              "      <td>-1</td>\n",
              "      <td>store9goods8549</td>\n",
              "      <td>119116.0</td>\n",
              "    </tr>\n",
              "  </tbody>\n",
              "</table>\n",
              "<p>1719470 rows × 3 columns</p>\n",
              "</div>"
            ],
            "text/plain": [
              "         num_month                 id     price\n",
              "0              -33  store10goods10098   46841.0\n",
              "1              -33  store10goods10173   14994.0\n",
              "2              -33   store10goods1018   29604.0\n",
              "3              -33  store10goods10277   10482.0\n",
              "4              -33  store10goods10338   14805.0\n",
              "...            ...                ...       ...\n",
              "1719465         -1    store9goods7527   34728.0\n",
              "1719466         -1    store9goods7528   34826.0\n",
              "1719467         -1    store9goods7934  108141.0\n",
              "1719468         -1    store9goods8364   20108.0\n",
              "1719469         -1    store9goods8549  119116.0\n",
              "\n",
              "[1719470 rows x 3 columns]"
            ]
          },
          "metadata": {
            "tags": []
          },
          "execution_count": 254
        }
      ]
    },
    {
      "cell_type": "code",
      "metadata": {
        "id": "4Pz1faWcEooP",
        "colab_type": "code",
        "colab": {
          "base_uri": "https://localhost:8080/",
          "height": 402
        },
        "outputId": "2ccf2949-3c85-4018-c94c-c307a262f5db"
      },
      "source": [
        "train_df"
      ],
      "execution_count": null,
      "outputs": [
        {
          "output_type": "execute_result",
          "data": {
            "text/html": [
              "<div>\n",
              "<style scoped>\n",
              "    .dataframe tbody tr th:only-of-type {\n",
              "        vertical-align: middle;\n",
              "    }\n",
              "\n",
              "    .dataframe tbody tr th {\n",
              "        vertical-align: top;\n",
              "    }\n",
              "\n",
              "    .dataframe thead th {\n",
              "        text-align: right;\n",
              "    }\n",
              "</style>\n",
              "<table border=\"1\" class=\"dataframe\">\n",
              "  <thead>\n",
              "    <tr style=\"text-align: right;\">\n",
              "      <th></th>\n",
              "      <th>num_month</th>\n",
              "      <th>id</th>\n",
              "      <th>id_shift_t1</th>\n",
              "      <th>id_shift_t2</th>\n",
              "      <th>id_shift_t3</th>\n",
              "      <th>id_shift_t4</th>\n",
              "      <th>id_shift_t5</th>\n",
              "      <th>month</th>\n",
              "    </tr>\n",
              "  </thead>\n",
              "  <tbody>\n",
              "    <tr>\n",
              "      <th>320307</th>\n",
              "      <td>-28</td>\n",
              "      <td>store10goods1004</td>\n",
              "      <td>0.0</td>\n",
              "      <td>0.0</td>\n",
              "      <td>0.0</td>\n",
              "      <td>0.0</td>\n",
              "      <td>0.0</td>\n",
              "      <td>4</td>\n",
              "    </tr>\n",
              "    <tr>\n",
              "      <th>320308</th>\n",
              "      <td>-28</td>\n",
              "      <td>store10goods11015</td>\n",
              "      <td>0.0</td>\n",
              "      <td>0.0</td>\n",
              "      <td>0.0</td>\n",
              "      <td>0.0</td>\n",
              "      <td>0.0</td>\n",
              "      <td>4</td>\n",
              "    </tr>\n",
              "    <tr>\n",
              "      <th>320309</th>\n",
              "      <td>-28</td>\n",
              "      <td>store10goods11504</td>\n",
              "      <td>0.0</td>\n",
              "      <td>0.0</td>\n",
              "      <td>0.0</td>\n",
              "      <td>0.0</td>\n",
              "      <td>0.0</td>\n",
              "      <td>4</td>\n",
              "    </tr>\n",
              "    <tr>\n",
              "      <th>320310</th>\n",
              "      <td>-28</td>\n",
              "      <td>store10goods11900</td>\n",
              "      <td>0.0</td>\n",
              "      <td>0.0</td>\n",
              "      <td>0.0</td>\n",
              "      <td>0.0</td>\n",
              "      <td>0.0</td>\n",
              "      <td>4</td>\n",
              "    </tr>\n",
              "    <tr>\n",
              "      <th>320311</th>\n",
              "      <td>-28</td>\n",
              "      <td>store10goods12105</td>\n",
              "      <td>0.0</td>\n",
              "      <td>0.0</td>\n",
              "      <td>0.0</td>\n",
              "      <td>0.0</td>\n",
              "      <td>0.0</td>\n",
              "      <td>4</td>\n",
              "    </tr>\n",
              "    <tr>\n",
              "      <th>...</th>\n",
              "      <td>...</td>\n",
              "      <td>...</td>\n",
              "      <td>...</td>\n",
              "      <td>...</td>\n",
              "      <td>...</td>\n",
              "      <td>...</td>\n",
              "      <td>...</td>\n",
              "      <td>...</td>\n",
              "    </tr>\n",
              "    <tr>\n",
              "      <th>1719465</th>\n",
              "      <td>-1</td>\n",
              "      <td>store9goods7527</td>\n",
              "      <td>0.0</td>\n",
              "      <td>0.0</td>\n",
              "      <td>0.0</td>\n",
              "      <td>0.0</td>\n",
              "      <td>0.0</td>\n",
              "      <td>1</td>\n",
              "    </tr>\n",
              "    <tr>\n",
              "      <th>1719466</th>\n",
              "      <td>-1</td>\n",
              "      <td>store9goods7528</td>\n",
              "      <td>0.0</td>\n",
              "      <td>0.0</td>\n",
              "      <td>0.0</td>\n",
              "      <td>0.0</td>\n",
              "      <td>0.0</td>\n",
              "      <td>1</td>\n",
              "    </tr>\n",
              "    <tr>\n",
              "      <th>1719467</th>\n",
              "      <td>-1</td>\n",
              "      <td>store9goods7934</td>\n",
              "      <td>1.0</td>\n",
              "      <td>0.0</td>\n",
              "      <td>0.0</td>\n",
              "      <td>0.0</td>\n",
              "      <td>0.0</td>\n",
              "      <td>1</td>\n",
              "    </tr>\n",
              "    <tr>\n",
              "      <th>1719468</th>\n",
              "      <td>-1</td>\n",
              "      <td>store9goods8364</td>\n",
              "      <td>0.0</td>\n",
              "      <td>0.0</td>\n",
              "      <td>0.0</td>\n",
              "      <td>0.0</td>\n",
              "      <td>0.0</td>\n",
              "      <td>1</td>\n",
              "    </tr>\n",
              "    <tr>\n",
              "      <th>1719469</th>\n",
              "      <td>-1</td>\n",
              "      <td>store9goods8549</td>\n",
              "      <td>0.0</td>\n",
              "      <td>0.0</td>\n",
              "      <td>0.0</td>\n",
              "      <td>0.0</td>\n",
              "      <td>0.0</td>\n",
              "      <td>1</td>\n",
              "    </tr>\n",
              "  </tbody>\n",
              "</table>\n",
              "<p>1399163 rows × 8 columns</p>\n",
              "</div>"
            ],
            "text/plain": [
              "         num_month                 id  id_shift_t1  id_shift_t2  id_shift_t3  \\\n",
              "320307         -28   store10goods1004          0.0          0.0          0.0   \n",
              "320308         -28  store10goods11015          0.0          0.0          0.0   \n",
              "320309         -28  store10goods11504          0.0          0.0          0.0   \n",
              "320310         -28  store10goods11900          0.0          0.0          0.0   \n",
              "320311         -28  store10goods12105          0.0          0.0          0.0   \n",
              "...            ...                ...          ...          ...          ...   \n",
              "1719465         -1    store9goods7527          0.0          0.0          0.0   \n",
              "1719466         -1    store9goods7528          0.0          0.0          0.0   \n",
              "1719467         -1    store9goods7934          1.0          0.0          0.0   \n",
              "1719468         -1    store9goods8364          0.0          0.0          0.0   \n",
              "1719469         -1    store9goods8549          0.0          0.0          0.0   \n",
              "\n",
              "         id_shift_t4  id_shift_t5 month  \n",
              "320307           0.0          0.0     4  \n",
              "320308           0.0          0.0     4  \n",
              "320309           0.0          0.0     4  \n",
              "320310           0.0          0.0     4  \n",
              "320311           0.0          0.0     4  \n",
              "...              ...          ...   ...  \n",
              "1719465          0.0          0.0     1  \n",
              "1719466          0.0          0.0     1  \n",
              "1719467          0.0          0.0     1  \n",
              "1719468          0.0          0.0     1  \n",
              "1719469          0.0          0.0     1  \n",
              "\n",
              "[1399163 rows x 8 columns]"
            ]
          },
          "metadata": {
            "tags": []
          },
          "execution_count": 255
        }
      ]
    },
    {
      "cell_type": "code",
      "metadata": {
        "id": "KxzVuFv-CkKv",
        "colab_type": "code",
        "colab": {
          "base_uri": "https://localhost:8080/",
          "height": 402
        },
        "outputId": "c203f29e-5aeb-4976-f8a7-f883cdf99d99"
      },
      "source": [
        "# train_df=pd.merge(train_df, temporary, on=['id','num_month'], how='left')\n",
        "# train_df"
      ],
      "execution_count": null,
      "outputs": [
        {
          "output_type": "execute_result",
          "data": {
            "text/html": [
              "<div>\n",
              "<style scoped>\n",
              "    .dataframe tbody tr th:only-of-type {\n",
              "        vertical-align: middle;\n",
              "    }\n",
              "\n",
              "    .dataframe tbody tr th {\n",
              "        vertical-align: top;\n",
              "    }\n",
              "\n",
              "    .dataframe thead th {\n",
              "        text-align: right;\n",
              "    }\n",
              "</style>\n",
              "<table border=\"1\" class=\"dataframe\">\n",
              "  <thead>\n",
              "    <tr style=\"text-align: right;\">\n",
              "      <th></th>\n",
              "      <th>num_month</th>\n",
              "      <th>id</th>\n",
              "      <th>id_shift_t1</th>\n",
              "      <th>id_shift_t2</th>\n",
              "      <th>id_shift_t3</th>\n",
              "      <th>id_shift_t4</th>\n",
              "      <th>id_shift_t5</th>\n",
              "      <th>month</th>\n",
              "      <th>price</th>\n",
              "    </tr>\n",
              "  </thead>\n",
              "  <tbody>\n",
              "    <tr>\n",
              "      <th>0</th>\n",
              "      <td>-28</td>\n",
              "      <td>store10goods1004</td>\n",
              "      <td>0.0</td>\n",
              "      <td>0.0</td>\n",
              "      <td>0.0</td>\n",
              "      <td>0.0</td>\n",
              "      <td>0.0</td>\n",
              "      <td>4</td>\n",
              "      <td>5761.0</td>\n",
              "    </tr>\n",
              "    <tr>\n",
              "      <th>1</th>\n",
              "      <td>-28</td>\n",
              "      <td>store10goods11015</td>\n",
              "      <td>0.0</td>\n",
              "      <td>0.0</td>\n",
              "      <td>0.0</td>\n",
              "      <td>0.0</td>\n",
              "      <td>0.0</td>\n",
              "      <td>4</td>\n",
              "      <td>9179.0</td>\n",
              "    </tr>\n",
              "    <tr>\n",
              "      <th>2</th>\n",
              "      <td>-28</td>\n",
              "      <td>store10goods11504</td>\n",
              "      <td>0.0</td>\n",
              "      <td>0.0</td>\n",
              "      <td>0.0</td>\n",
              "      <td>0.0</td>\n",
              "      <td>0.0</td>\n",
              "      <td>4</td>\n",
              "      <td>26447.0</td>\n",
              "    </tr>\n",
              "    <tr>\n",
              "      <th>3</th>\n",
              "      <td>-28</td>\n",
              "      <td>store10goods11900</td>\n",
              "      <td>0.0</td>\n",
              "      <td>0.0</td>\n",
              "      <td>0.0</td>\n",
              "      <td>0.0</td>\n",
              "      <td>0.0</td>\n",
              "      <td>4</td>\n",
              "      <td>7577.0</td>\n",
              "    </tr>\n",
              "    <tr>\n",
              "      <th>4</th>\n",
              "      <td>-28</td>\n",
              "      <td>store10goods12105</td>\n",
              "      <td>0.0</td>\n",
              "      <td>0.0</td>\n",
              "      <td>0.0</td>\n",
              "      <td>0.0</td>\n",
              "      <td>0.0</td>\n",
              "      <td>4</td>\n",
              "      <td>56107.0</td>\n",
              "    </tr>\n",
              "    <tr>\n",
              "      <th>...</th>\n",
              "      <td>...</td>\n",
              "      <td>...</td>\n",
              "      <td>...</td>\n",
              "      <td>...</td>\n",
              "      <td>...</td>\n",
              "      <td>...</td>\n",
              "      <td>...</td>\n",
              "      <td>...</td>\n",
              "      <td>...</td>\n",
              "    </tr>\n",
              "    <tr>\n",
              "      <th>1399158</th>\n",
              "      <td>-1</td>\n",
              "      <td>store9goods7527</td>\n",
              "      <td>0.0</td>\n",
              "      <td>0.0</td>\n",
              "      <td>0.0</td>\n",
              "      <td>0.0</td>\n",
              "      <td>0.0</td>\n",
              "      <td>1</td>\n",
              "      <td>34728.0</td>\n",
              "    </tr>\n",
              "    <tr>\n",
              "      <th>1399159</th>\n",
              "      <td>-1</td>\n",
              "      <td>store9goods7528</td>\n",
              "      <td>0.0</td>\n",
              "      <td>0.0</td>\n",
              "      <td>0.0</td>\n",
              "      <td>0.0</td>\n",
              "      <td>0.0</td>\n",
              "      <td>1</td>\n",
              "      <td>34826.0</td>\n",
              "    </tr>\n",
              "    <tr>\n",
              "      <th>1399160</th>\n",
              "      <td>-1</td>\n",
              "      <td>store9goods7934</td>\n",
              "      <td>1.0</td>\n",
              "      <td>0.0</td>\n",
              "      <td>0.0</td>\n",
              "      <td>0.0</td>\n",
              "      <td>0.0</td>\n",
              "      <td>1</td>\n",
              "      <td>108141.0</td>\n",
              "    </tr>\n",
              "    <tr>\n",
              "      <th>1399161</th>\n",
              "      <td>-1</td>\n",
              "      <td>store9goods8364</td>\n",
              "      <td>0.0</td>\n",
              "      <td>0.0</td>\n",
              "      <td>0.0</td>\n",
              "      <td>0.0</td>\n",
              "      <td>0.0</td>\n",
              "      <td>1</td>\n",
              "      <td>20108.0</td>\n",
              "    </tr>\n",
              "    <tr>\n",
              "      <th>1399162</th>\n",
              "      <td>-1</td>\n",
              "      <td>store9goods8549</td>\n",
              "      <td>0.0</td>\n",
              "      <td>0.0</td>\n",
              "      <td>0.0</td>\n",
              "      <td>0.0</td>\n",
              "      <td>0.0</td>\n",
              "      <td>1</td>\n",
              "      <td>119116.0</td>\n",
              "    </tr>\n",
              "  </tbody>\n",
              "</table>\n",
              "<p>1399163 rows × 9 columns</p>\n",
              "</div>"
            ],
            "text/plain": [
              "         num_month                 id  id_shift_t1  id_shift_t2  id_shift_t3  \\\n",
              "0              -28   store10goods1004          0.0          0.0          0.0   \n",
              "1              -28  store10goods11015          0.0          0.0          0.0   \n",
              "2              -28  store10goods11504          0.0          0.0          0.0   \n",
              "3              -28  store10goods11900          0.0          0.0          0.0   \n",
              "4              -28  store10goods12105          0.0          0.0          0.0   \n",
              "...            ...                ...          ...          ...          ...   \n",
              "1399158         -1    store9goods7527          0.0          0.0          0.0   \n",
              "1399159         -1    store9goods7528          0.0          0.0          0.0   \n",
              "1399160         -1    store9goods7934          1.0          0.0          0.0   \n",
              "1399161         -1    store9goods8364          0.0          0.0          0.0   \n",
              "1399162         -1    store9goods8549          0.0          0.0          0.0   \n",
              "\n",
              "         id_shift_t4  id_shift_t5 month     price  \n",
              "0                0.0          0.0     4    5761.0  \n",
              "1                0.0          0.0     4    9179.0  \n",
              "2                0.0          0.0     4   26447.0  \n",
              "3                0.0          0.0     4    7577.0  \n",
              "4                0.0          0.0     4   56107.0  \n",
              "...              ...          ...   ...       ...  \n",
              "1399158          0.0          0.0     1   34728.0  \n",
              "1399159          0.0          0.0     1   34826.0  \n",
              "1399160          0.0          0.0     1  108141.0  \n",
              "1399161          0.0          0.0     1   20108.0  \n",
              "1399162          0.0          0.0     1  119116.0  \n",
              "\n",
              "[1399163 rows x 9 columns]"
            ]
          },
          "metadata": {
            "tags": []
          },
          "execution_count": 256
        }
      ]
    },
    {
      "cell_type": "code",
      "metadata": {
        "id": "1pcGLlFSxgVF",
        "colab_type": "code",
        "colab": {}
      },
      "source": [
        "#a.isnull().sum()"
      ],
      "execution_count": null,
      "outputs": []
    },
    {
      "cell_type": "code",
      "metadata": {
        "id": "kvQEpg8recdn",
        "colab_type": "code",
        "colab": {}
      },
      "source": [
        "train_df[\"id\"] = train_df[\"id\"].astype(\"category\")\n",
        "test_df[\"id\"] = test_df[\"id\"].astype(\"category\")\n"
      ],
      "execution_count": null,
      "outputs": []
    },
    {
      "cell_type": "code",
      "metadata": {
        "id": "WAZeL-CM5ns0",
        "colab_type": "code",
        "colab": {
          "base_uri": "https://localhost:8080/",
          "height": 402
        },
        "outputId": "5ed11866-c55d-44c4-d188-b59c054acb29"
      },
      "source": [
        "# temporary=temporary.drop(\"num_month\",axis=1)\n",
        "# temporary"
      ],
      "execution_count": null,
      "outputs": [
        {
          "output_type": "execute_result",
          "data": {
            "text/html": [
              "<div>\n",
              "<style scoped>\n",
              "    .dataframe tbody tr th:only-of-type {\n",
              "        vertical-align: middle;\n",
              "    }\n",
              "\n",
              "    .dataframe tbody tr th {\n",
              "        vertical-align: top;\n",
              "    }\n",
              "\n",
              "    .dataframe thead th {\n",
              "        text-align: right;\n",
              "    }\n",
              "</style>\n",
              "<table border=\"1\" class=\"dataframe\">\n",
              "  <thead>\n",
              "    <tr style=\"text-align: right;\">\n",
              "      <th></th>\n",
              "      <th>id</th>\n",
              "      <th>price</th>\n",
              "    </tr>\n",
              "  </thead>\n",
              "  <tbody>\n",
              "    <tr>\n",
              "      <th>0</th>\n",
              "      <td>store10goods10098</td>\n",
              "      <td>46841.0</td>\n",
              "    </tr>\n",
              "    <tr>\n",
              "      <th>1</th>\n",
              "      <td>store10goods10173</td>\n",
              "      <td>14994.0</td>\n",
              "    </tr>\n",
              "    <tr>\n",
              "      <th>2</th>\n",
              "      <td>store10goods1018</td>\n",
              "      <td>29604.0</td>\n",
              "    </tr>\n",
              "    <tr>\n",
              "      <th>3</th>\n",
              "      <td>store10goods10277</td>\n",
              "      <td>10482.0</td>\n",
              "    </tr>\n",
              "    <tr>\n",
              "      <th>4</th>\n",
              "      <td>store10goods10338</td>\n",
              "      <td>14805.0</td>\n",
              "    </tr>\n",
              "    <tr>\n",
              "      <th>...</th>\n",
              "      <td>...</td>\n",
              "      <td>...</td>\n",
              "    </tr>\n",
              "    <tr>\n",
              "      <th>1719465</th>\n",
              "      <td>store9goods7527</td>\n",
              "      <td>34728.0</td>\n",
              "    </tr>\n",
              "    <tr>\n",
              "      <th>1719466</th>\n",
              "      <td>store9goods7528</td>\n",
              "      <td>34826.0</td>\n",
              "    </tr>\n",
              "    <tr>\n",
              "      <th>1719467</th>\n",
              "      <td>store9goods7934</td>\n",
              "      <td>108141.0</td>\n",
              "    </tr>\n",
              "    <tr>\n",
              "      <th>1719468</th>\n",
              "      <td>store9goods8364</td>\n",
              "      <td>20108.0</td>\n",
              "    </tr>\n",
              "    <tr>\n",
              "      <th>1719469</th>\n",
              "      <td>store9goods8549</td>\n",
              "      <td>119116.0</td>\n",
              "    </tr>\n",
              "  </tbody>\n",
              "</table>\n",
              "<p>1719470 rows × 2 columns</p>\n",
              "</div>"
            ],
            "text/plain": [
              "                        id     price\n",
              "0        store10goods10098   46841.0\n",
              "1        store10goods10173   14994.0\n",
              "2         store10goods1018   29604.0\n",
              "3        store10goods10277   10482.0\n",
              "4        store10goods10338   14805.0\n",
              "...                    ...       ...\n",
              "1719465    store9goods7527   34728.0\n",
              "1719466    store9goods7528   34826.0\n",
              "1719467    store9goods7934  108141.0\n",
              "1719468    store9goods8364   20108.0\n",
              "1719469    store9goods8549  119116.0\n",
              "\n",
              "[1719470 rows x 2 columns]"
            ]
          },
          "metadata": {
            "tags": []
          },
          "execution_count": 259
        }
      ]
    },
    {
      "cell_type": "code",
      "metadata": {
        "id": "JJSTM9eqJYPu",
        "colab_type": "code",
        "colab": {
          "base_uri": "https://localhost:8080/",
          "height": 402
        },
        "outputId": "c33aa694-a8e6-422c-c8e2-984cd23a81d2"
      },
      "source": [
        "# tem=temporary.groupby(\"id\").mean()[[\"price\"]].reset_index()\n",
        "# tem.columns=['id', 'price']\n",
        "# tem"
      ],
      "execution_count": null,
      "outputs": [
        {
          "output_type": "execute_result",
          "data": {
            "text/html": [
              "<div>\n",
              "<style scoped>\n",
              "    .dataframe tbody tr th:only-of-type {\n",
              "        vertical-align: middle;\n",
              "    }\n",
              "\n",
              "    .dataframe tbody tr th {\n",
              "        vertical-align: top;\n",
              "    }\n",
              "\n",
              "    .dataframe thead th {\n",
              "        text-align: right;\n",
              "    }\n",
              "</style>\n",
              "<table border=\"1\" class=\"dataframe\">\n",
              "  <thead>\n",
              "    <tr style=\"text-align: right;\">\n",
              "      <th></th>\n",
              "      <th>id</th>\n",
              "      <th>price</th>\n",
              "    </tr>\n",
              "  </thead>\n",
              "  <tbody>\n",
              "    <tr>\n",
              "      <th>0</th>\n",
              "      <td>store10goods10013</td>\n",
              "      <td>7605.0</td>\n",
              "    </tr>\n",
              "    <tr>\n",
              "      <th>1</th>\n",
              "      <td>store10goods1004</td>\n",
              "      <td>5777.0</td>\n",
              "    </tr>\n",
              "    <tr>\n",
              "      <th>2</th>\n",
              "      <td>store10goods10045</td>\n",
              "      <td>52557.0</td>\n",
              "    </tr>\n",
              "    <tr>\n",
              "      <th>3</th>\n",
              "      <td>store10goods10090</td>\n",
              "      <td>6726.0</td>\n",
              "    </tr>\n",
              "    <tr>\n",
              "      <th>4</th>\n",
              "      <td>store10goods10098</td>\n",
              "      <td>46841.0</td>\n",
              "    </tr>\n",
              "    <tr>\n",
              "      <th>...</th>\n",
              "      <td>...</td>\n",
              "      <td>...</td>\n",
              "    </tr>\n",
              "    <tr>\n",
              "      <th>503350</th>\n",
              "      <td>store9goods992</td>\n",
              "      <td>10007.0</td>\n",
              "    </tr>\n",
              "    <tr>\n",
              "      <th>503351</th>\n",
              "      <td>store9goods994</td>\n",
              "      <td>10074.0</td>\n",
              "    </tr>\n",
              "    <tr>\n",
              "      <th>503352</th>\n",
              "      <td>store9goods999</td>\n",
              "      <td>9939.0</td>\n",
              "    </tr>\n",
              "    <tr>\n",
              "      <th>503353</th>\n",
              "      <td>store9goods9997</td>\n",
              "      <td>29651.0</td>\n",
              "    </tr>\n",
              "    <tr>\n",
              "      <th>503354</th>\n",
              "      <td>store9goods9998</td>\n",
              "      <td>40307.0</td>\n",
              "    </tr>\n",
              "  </tbody>\n",
              "</table>\n",
              "<p>503355 rows × 2 columns</p>\n",
              "</div>"
            ],
            "text/plain": [
              "                       id    price\n",
              "0       store10goods10013   7605.0\n",
              "1        store10goods1004   5777.0\n",
              "2       store10goods10045  52557.0\n",
              "3       store10goods10090   6726.0\n",
              "4       store10goods10098  46841.0\n",
              "...                   ...      ...\n",
              "503350     store9goods992  10007.0\n",
              "503351     store9goods994  10074.0\n",
              "503352     store9goods999   9939.0\n",
              "503353    store9goods9997  29651.0\n",
              "503354    store9goods9998  40307.0\n",
              "\n",
              "[503355 rows x 2 columns]"
            ]
          },
          "metadata": {
            "tags": []
          },
          "execution_count": 260
        }
      ]
    },
    {
      "cell_type": "code",
      "metadata": {
        "id": "CY-f9knxHWBO",
        "colab_type": "code",
        "colab": {
          "base_uri": "https://localhost:8080/",
          "height": 402
        },
        "outputId": "9b7a5254-896a-4550-c8a4-09c4d219dc19"
      },
      "source": [
        "# test_df=pd.merge(test_df, tem, on='id', how='left')\n",
        "# test_df"
      ],
      "execution_count": null,
      "outputs": [
        {
          "output_type": "execute_result",
          "data": {
            "text/html": [
              "<div>\n",
              "<style scoped>\n",
              "    .dataframe tbody tr th:only-of-type {\n",
              "        vertical-align: middle;\n",
              "    }\n",
              "\n",
              "    .dataframe tbody tr th {\n",
              "        vertical-align: top;\n",
              "    }\n",
              "\n",
              "    .dataframe thead th {\n",
              "        text-align: right;\n",
              "    }\n",
              "</style>\n",
              "<table border=\"1\" class=\"dataframe\">\n",
              "  <thead>\n",
              "    <tr style=\"text-align: right;\">\n",
              "      <th></th>\n",
              "      <th>num_month</th>\n",
              "      <th>id</th>\n",
              "      <th>id_shift_t1</th>\n",
              "      <th>id_shift_t2</th>\n",
              "      <th>id_shift_t3</th>\n",
              "      <th>id_shift_t4</th>\n",
              "      <th>id_shift_t5</th>\n",
              "      <th>month</th>\n",
              "      <th>price</th>\n",
              "    </tr>\n",
              "  </thead>\n",
              "  <tbody>\n",
              "    <tr>\n",
              "      <th>0</th>\n",
              "      <td>0</td>\n",
              "      <td>store3goods15900</td>\n",
              "      <td>1.0</td>\n",
              "      <td>2.0</td>\n",
              "      <td>0.0</td>\n",
              "      <td>0.0</td>\n",
              "      <td>0.0</td>\n",
              "      <td>0</td>\n",
              "      <td>59496.500000</td>\n",
              "    </tr>\n",
              "    <tr>\n",
              "      <th>1</th>\n",
              "      <td>0</td>\n",
              "      <td>store3goods18326</td>\n",
              "      <td>0.0</td>\n",
              "      <td>0.0</td>\n",
              "      <td>0.0</td>\n",
              "      <td>0.0</td>\n",
              "      <td>0.0</td>\n",
              "      <td>0</td>\n",
              "      <td>NaN</td>\n",
              "    </tr>\n",
              "    <tr>\n",
              "      <th>2</th>\n",
              "      <td>0</td>\n",
              "      <td>store3goods5665</td>\n",
              "      <td>1.0</td>\n",
              "      <td>1.0</td>\n",
              "      <td>2.0</td>\n",
              "      <td>2.0</td>\n",
              "      <td>1.0</td>\n",
              "      <td>0</td>\n",
              "      <td>228743.600000</td>\n",
              "    </tr>\n",
              "    <tr>\n",
              "      <th>3</th>\n",
              "      <td>0</td>\n",
              "      <td>store3goods15859</td>\n",
              "      <td>2.0</td>\n",
              "      <td>0.0</td>\n",
              "      <td>0.0</td>\n",
              "      <td>0.0</td>\n",
              "      <td>0.0</td>\n",
              "      <td>0</td>\n",
              "      <td>44342.500000</td>\n",
              "    </tr>\n",
              "    <tr>\n",
              "      <th>4</th>\n",
              "      <td>0</td>\n",
              "      <td>store3goods8826</td>\n",
              "      <td>0.0</td>\n",
              "      <td>0.0</td>\n",
              "      <td>0.0</td>\n",
              "      <td>0.0</td>\n",
              "      <td>0.0</td>\n",
              "      <td>0</td>\n",
              "      <td>NaN</td>\n",
              "    </tr>\n",
              "    <tr>\n",
              "      <th>...</th>\n",
              "      <td>...</td>\n",
              "      <td>...</td>\n",
              "      <td>...</td>\n",
              "      <td>...</td>\n",
              "      <td>...</td>\n",
              "      <td>...</td>\n",
              "      <td>...</td>\n",
              "      <td>...</td>\n",
              "      <td>...</td>\n",
              "    </tr>\n",
              "    <tr>\n",
              "      <th>214195</th>\n",
              "      <td>0</td>\n",
              "      <td>store60goods8851</td>\n",
              "      <td>0.0</td>\n",
              "      <td>0.0</td>\n",
              "      <td>0.0</td>\n",
              "      <td>0.0</td>\n",
              "      <td>0.0</td>\n",
              "      <td>0</td>\n",
              "      <td>NaN</td>\n",
              "    </tr>\n",
              "    <tr>\n",
              "      <th>214196</th>\n",
              "      <td>0</td>\n",
              "      <td>store60goods1539</td>\n",
              "      <td>2.0</td>\n",
              "      <td>6.0</td>\n",
              "      <td>0.0</td>\n",
              "      <td>0.0</td>\n",
              "      <td>0.0</td>\n",
              "      <td>0</td>\n",
              "      <td>50650.750000</td>\n",
              "    </tr>\n",
              "    <tr>\n",
              "      <th>214197</th>\n",
              "      <td>0</td>\n",
              "      <td>store60goods13719</td>\n",
              "      <td>2.0</td>\n",
              "      <td>6.0</td>\n",
              "      <td>2.0</td>\n",
              "      <td>0.0</td>\n",
              "      <td>0.0</td>\n",
              "      <td>0</td>\n",
              "      <td>21464.166667</td>\n",
              "    </tr>\n",
              "    <tr>\n",
              "      <th>214198</th>\n",
              "      <td>0</td>\n",
              "      <td>store60goods6074</td>\n",
              "      <td>1.0</td>\n",
              "      <td>1.0</td>\n",
              "      <td>1.0</td>\n",
              "      <td>0.0</td>\n",
              "      <td>0.0</td>\n",
              "      <td>0</td>\n",
              "      <td>119415.333333</td>\n",
              "    </tr>\n",
              "    <tr>\n",
              "      <th>214199</th>\n",
              "      <td>0</td>\n",
              "      <td>store60goods21442</td>\n",
              "      <td>1.0</td>\n",
              "      <td>1.0</td>\n",
              "      <td>1.0</td>\n",
              "      <td>0.0</td>\n",
              "      <td>0.0</td>\n",
              "      <td>0</td>\n",
              "      <td>44776.000000</td>\n",
              "    </tr>\n",
              "  </tbody>\n",
              "</table>\n",
              "<p>214200 rows × 9 columns</p>\n",
              "</div>"
            ],
            "text/plain": [
              "        num_month                 id  id_shift_t1  id_shift_t2  id_shift_t3  \\\n",
              "0               0   store3goods15900          1.0          2.0          0.0   \n",
              "1               0   store3goods18326          0.0          0.0          0.0   \n",
              "2               0    store3goods5665          1.0          1.0          2.0   \n",
              "3               0   store3goods15859          2.0          0.0          0.0   \n",
              "4               0    store3goods8826          0.0          0.0          0.0   \n",
              "...           ...                ...          ...          ...          ...   \n",
              "214195          0   store60goods8851          0.0          0.0          0.0   \n",
              "214196          0   store60goods1539          2.0          6.0          0.0   \n",
              "214197          0  store60goods13719          2.0          6.0          2.0   \n",
              "214198          0   store60goods6074          1.0          1.0          1.0   \n",
              "214199          0  store60goods21442          1.0          1.0          1.0   \n",
              "\n",
              "        id_shift_t4  id_shift_t5 month          price  \n",
              "0               0.0          0.0     0   59496.500000  \n",
              "1               0.0          0.0     0            NaN  \n",
              "2               2.0          1.0     0  228743.600000  \n",
              "3               0.0          0.0     0   44342.500000  \n",
              "4               0.0          0.0     0            NaN  \n",
              "...             ...          ...   ...            ...  \n",
              "214195          0.0          0.0     0            NaN  \n",
              "214196          0.0          0.0     0   50650.750000  \n",
              "214197          0.0          0.0     0   21464.166667  \n",
              "214198          0.0          0.0     0  119415.333333  \n",
              "214199          0.0          0.0     0   44776.000000  \n",
              "\n",
              "[214200 rows x 9 columns]"
            ]
          },
          "metadata": {
            "tags": []
          },
          "execution_count": 261
        }
      ]
    },
    {
      "cell_type": "code",
      "metadata": {
        "id": "Lb1NFa2NHATZ",
        "colab_type": "code",
        "colab": {
          "base_uri": "https://localhost:8080/",
          "height": 52
        },
        "outputId": "47124e70-8b54-4a8b-a6da-6be29bd615e7"
      },
      "source": [
        "print(len(test))\n",
        "print(len(test_df))"
      ],
      "execution_count": null,
      "outputs": [
        {
          "output_type": "stream",
          "text": [
            "214200\n",
            "214200\n"
          ],
          "name": "stdout"
        }
      ]
    },
    {
      "cell_type": "code",
      "metadata": {
        "id": "WFBS3iVzhd-4",
        "colab_type": "code",
        "colab": {}
      },
      "source": [
        ""
      ],
      "execution_count": null,
      "outputs": []
    },
    {
      "cell_type": "code",
      "metadata": {
        "id": "PR2U7O7wgl2B",
        "colab_type": "code",
        "colab": {
          "base_uri": "https://localhost:8080/",
          "height": 402
        },
        "outputId": "3986654d-7734-4924-a15a-526e03246f7f"
      },
      "source": [
        "test_df"
      ],
      "execution_count": null,
      "outputs": [
        {
          "output_type": "execute_result",
          "data": {
            "text/html": [
              "<div>\n",
              "<style scoped>\n",
              "    .dataframe tbody tr th:only-of-type {\n",
              "        vertical-align: middle;\n",
              "    }\n",
              "\n",
              "    .dataframe tbody tr th {\n",
              "        vertical-align: top;\n",
              "    }\n",
              "\n",
              "    .dataframe thead th {\n",
              "        text-align: right;\n",
              "    }\n",
              "</style>\n",
              "<table border=\"1\" class=\"dataframe\">\n",
              "  <thead>\n",
              "    <tr style=\"text-align: right;\">\n",
              "      <th></th>\n",
              "      <th>num_month</th>\n",
              "      <th>id</th>\n",
              "      <th>id_shift_t1</th>\n",
              "      <th>id_shift_t2</th>\n",
              "      <th>id_shift_t3</th>\n",
              "      <th>id_shift_t4</th>\n",
              "      <th>id_shift_t5</th>\n",
              "      <th>month</th>\n",
              "      <th>price</th>\n",
              "    </tr>\n",
              "  </thead>\n",
              "  <tbody>\n",
              "    <tr>\n",
              "      <th>0</th>\n",
              "      <td>0</td>\n",
              "      <td>store3goods15900</td>\n",
              "      <td>1.0</td>\n",
              "      <td>2.0</td>\n",
              "      <td>0.0</td>\n",
              "      <td>0.0</td>\n",
              "      <td>0.0</td>\n",
              "      <td>0</td>\n",
              "      <td>59496.500000</td>\n",
              "    </tr>\n",
              "    <tr>\n",
              "      <th>1</th>\n",
              "      <td>0</td>\n",
              "      <td>store3goods18326</td>\n",
              "      <td>0.0</td>\n",
              "      <td>0.0</td>\n",
              "      <td>0.0</td>\n",
              "      <td>0.0</td>\n",
              "      <td>0.0</td>\n",
              "      <td>0</td>\n",
              "      <td>NaN</td>\n",
              "    </tr>\n",
              "    <tr>\n",
              "      <th>2</th>\n",
              "      <td>0</td>\n",
              "      <td>store3goods5665</td>\n",
              "      <td>1.0</td>\n",
              "      <td>1.0</td>\n",
              "      <td>2.0</td>\n",
              "      <td>2.0</td>\n",
              "      <td>1.0</td>\n",
              "      <td>0</td>\n",
              "      <td>228743.600000</td>\n",
              "    </tr>\n",
              "    <tr>\n",
              "      <th>3</th>\n",
              "      <td>0</td>\n",
              "      <td>store3goods15859</td>\n",
              "      <td>2.0</td>\n",
              "      <td>0.0</td>\n",
              "      <td>0.0</td>\n",
              "      <td>0.0</td>\n",
              "      <td>0.0</td>\n",
              "      <td>0</td>\n",
              "      <td>44342.500000</td>\n",
              "    </tr>\n",
              "    <tr>\n",
              "      <th>4</th>\n",
              "      <td>0</td>\n",
              "      <td>store3goods8826</td>\n",
              "      <td>0.0</td>\n",
              "      <td>0.0</td>\n",
              "      <td>0.0</td>\n",
              "      <td>0.0</td>\n",
              "      <td>0.0</td>\n",
              "      <td>0</td>\n",
              "      <td>NaN</td>\n",
              "    </tr>\n",
              "    <tr>\n",
              "      <th>...</th>\n",
              "      <td>...</td>\n",
              "      <td>...</td>\n",
              "      <td>...</td>\n",
              "      <td>...</td>\n",
              "      <td>...</td>\n",
              "      <td>...</td>\n",
              "      <td>...</td>\n",
              "      <td>...</td>\n",
              "      <td>...</td>\n",
              "    </tr>\n",
              "    <tr>\n",
              "      <th>214195</th>\n",
              "      <td>0</td>\n",
              "      <td>store60goods8851</td>\n",
              "      <td>0.0</td>\n",
              "      <td>0.0</td>\n",
              "      <td>0.0</td>\n",
              "      <td>0.0</td>\n",
              "      <td>0.0</td>\n",
              "      <td>0</td>\n",
              "      <td>NaN</td>\n",
              "    </tr>\n",
              "    <tr>\n",
              "      <th>214196</th>\n",
              "      <td>0</td>\n",
              "      <td>store60goods1539</td>\n",
              "      <td>2.0</td>\n",
              "      <td>6.0</td>\n",
              "      <td>0.0</td>\n",
              "      <td>0.0</td>\n",
              "      <td>0.0</td>\n",
              "      <td>0</td>\n",
              "      <td>50650.750000</td>\n",
              "    </tr>\n",
              "    <tr>\n",
              "      <th>214197</th>\n",
              "      <td>0</td>\n",
              "      <td>store60goods13719</td>\n",
              "      <td>2.0</td>\n",
              "      <td>6.0</td>\n",
              "      <td>2.0</td>\n",
              "      <td>0.0</td>\n",
              "      <td>0.0</td>\n",
              "      <td>0</td>\n",
              "      <td>21464.166667</td>\n",
              "    </tr>\n",
              "    <tr>\n",
              "      <th>214198</th>\n",
              "      <td>0</td>\n",
              "      <td>store60goods6074</td>\n",
              "      <td>1.0</td>\n",
              "      <td>1.0</td>\n",
              "      <td>1.0</td>\n",
              "      <td>0.0</td>\n",
              "      <td>0.0</td>\n",
              "      <td>0</td>\n",
              "      <td>119415.333333</td>\n",
              "    </tr>\n",
              "    <tr>\n",
              "      <th>214199</th>\n",
              "      <td>0</td>\n",
              "      <td>store60goods21442</td>\n",
              "      <td>1.0</td>\n",
              "      <td>1.0</td>\n",
              "      <td>1.0</td>\n",
              "      <td>0.0</td>\n",
              "      <td>0.0</td>\n",
              "      <td>0</td>\n",
              "      <td>44776.000000</td>\n",
              "    </tr>\n",
              "  </tbody>\n",
              "</table>\n",
              "<p>214200 rows × 9 columns</p>\n",
              "</div>"
            ],
            "text/plain": [
              "        num_month                 id  id_shift_t1  id_shift_t2  id_shift_t3  \\\n",
              "0               0   store3goods15900          1.0          2.0          0.0   \n",
              "1               0   store3goods18326          0.0          0.0          0.0   \n",
              "2               0    store3goods5665          1.0          1.0          2.0   \n",
              "3               0   store3goods15859          2.0          0.0          0.0   \n",
              "4               0    store3goods8826          0.0          0.0          0.0   \n",
              "...           ...                ...          ...          ...          ...   \n",
              "214195          0   store60goods8851          0.0          0.0          0.0   \n",
              "214196          0   store60goods1539          2.0          6.0          0.0   \n",
              "214197          0  store60goods13719          2.0          6.0          2.0   \n",
              "214198          0   store60goods6074          1.0          1.0          1.0   \n",
              "214199          0  store60goods21442          1.0          1.0          1.0   \n",
              "\n",
              "        id_shift_t4  id_shift_t5 month          price  \n",
              "0               0.0          0.0     0   59496.500000  \n",
              "1               0.0          0.0     0            NaN  \n",
              "2               2.0          1.0     0  228743.600000  \n",
              "3               0.0          0.0     0   44342.500000  \n",
              "4               0.0          0.0     0            NaN  \n",
              "...             ...          ...   ...            ...  \n",
              "214195          0.0          0.0     0            NaN  \n",
              "214196          0.0          0.0     0   50650.750000  \n",
              "214197          0.0          0.0     0   21464.166667  \n",
              "214198          0.0          0.0     0  119415.333333  \n",
              "214199          0.0          0.0     0   44776.000000  \n",
              "\n",
              "[214200 rows x 9 columns]"
            ]
          },
          "metadata": {
            "tags": []
          },
          "execution_count": 263
        }
      ]
    },
    {
      "cell_type": "markdown",
      "metadata": {
        "id": "qVCe5nG-mIGb",
        "colab_type": "text"
      },
      "source": [
        "# モデル"
      ]
    },
    {
      "cell_type": "code",
      "metadata": {
        "id": "GQLGPU5mmWUv",
        "colab_type": "code",
        "colab": {
          "base_uri": "https://localhost:8080/",
          "height": 52
        },
        "outputId": "8f1514c0-14e5-4633-be63-2b0d685882cd"
      },
      "source": [
        "print(train_df.shape)\n",
        "print(test_df.shape)"
      ],
      "execution_count": null,
      "outputs": [
        {
          "output_type": "stream",
          "text": [
            "(1399163, 9)\n",
            "(214200, 9)\n"
          ],
          "name": "stdout"
        }
      ]
    },
    {
      "cell_type": "code",
      "metadata": {
        "id": "Xnbnct75lZJs",
        "colab_type": "code",
        "colab": {}
      },
      "source": [
        "light_params = {\n",
        "    'boosting_type': 'gbdt',\n",
        "    'objective': 'regression',\n",
        "    'metric': 'rmse',\n",
        "    'seed': 42,\n",
        "    'max_depth': 5,\n",
        "    'num_leaves': 2**5,\n",
        "    'learning_rate': 0.1,\n",
        "    \"colsample_bytree\":0.7,\n",
        "    \"n_jobs\": -1,\n",
        "    \"verbose\": -1\n",
        "}\n",
        "\n"
      ],
      "execution_count": null,
      "outputs": []
    },
    {
      "cell_type": "code",
      "metadata": {
        "id": "ttu5Jq_PMwzZ",
        "colab_type": "code",
        "colab": {
          "base_uri": "https://localhost:8080/",
          "height": 228
        },
        "outputId": "7c4562f3-9a78-4151-fe0c-daac283d339e"
      },
      "source": [
        "# tr_idx"
      ],
      "execution_count": null,
      "outputs": [
        {
          "output_type": "execute_result",
          "data": {
            "text/plain": [
              "0           True\n",
              "1           True\n",
              "2           True\n",
              "3           True\n",
              "4           True\n",
              "           ...  \n",
              "1399158    False\n",
              "1399159    False\n",
              "1399160    False\n",
              "1399161    False\n",
              "1399162    False\n",
              "Name: num_month, Length: 1399163, dtype: bool"
            ]
          },
          "metadata": {
            "tags": []
          },
          "execution_count": 266
        }
      ]
    },
    {
      "cell_type": "code",
      "metadata": {
        "id": "QKsyQB4lNFP-",
        "colab_type": "code",
        "colab": {
          "base_uri": "https://localhost:8080/",
          "height": 34
        },
        "outputId": "c291e56e-cc88-422f-ecb8-ff8e5b5610f9"
      },
      "source": [
        "len(train_df)"
      ],
      "execution_count": null,
      "outputs": [
        {
          "output_type": "execute_result",
          "data": {
            "text/plain": [
              "1399163"
            ]
          },
          "metadata": {
            "tags": []
          },
          "execution_count": 267
        }
      ]
    },
    {
      "cell_type": "code",
      "metadata": {
        "id": "oKkHMRZwNLBy",
        "colab_type": "code",
        "colab": {
          "base_uri": "https://localhost:8080/",
          "height": 34
        },
        "outputId": "ec5bf6fc-716a-43cb-b84d-3cef54ed8d9b"
      },
      "source": [
        "len(y)"
      ],
      "execution_count": null,
      "outputs": [
        {
          "output_type": "execute_result",
          "data": {
            "text/plain": [
              "1399163"
            ]
          },
          "metadata": {
            "tags": []
          },
          "execution_count": 268
        }
      ]
    },
    {
      "cell_type": "code",
      "metadata": {
        "id": "xsvS3w1SNO4u",
        "colab_type": "code",
        "colab": {
          "base_uri": "https://localhost:8080/",
          "height": 228
        },
        "outputId": "d04b8776-541d-4f19-8caf-6ef1a62ee7a4"
      },
      "source": [
        "y"
      ],
      "execution_count": null,
      "outputs": [
        {
          "output_type": "execute_result",
          "data": {
            "text/plain": [
              "320307     1.0\n",
              "320308     1.0\n",
              "320309     1.0\n",
              "320310     1.0\n",
              "320311     1.0\n",
              "          ... \n",
              "1719465    1.0\n",
              "1719466    1.0\n",
              "1719467    1.0\n",
              "1719468    1.0\n",
              "1719469    1.0\n",
              "Name: units_sold_month, Length: 1399163, dtype: float64"
            ]
          },
          "metadata": {
            "tags": []
          },
          "execution_count": 269
        }
      ]
    },
    {
      "cell_type": "code",
      "metadata": {
        "id": "HWzKDKeKNdAw",
        "colab_type": "code",
        "colab": {}
      },
      "source": [
        "tr_idx = train_df[\"num_month\"] < -1\n",
        "val_idx = train_df[\"num_month\"] == -1"
      ],
      "execution_count": null,
      "outputs": []
    },
    {
      "cell_type": "code",
      "metadata": {
        "id": "GrnbhxhWNk1x",
        "colab_type": "code",
        "colab": {
          "base_uri": "https://localhost:8080/",
          "height": 402
        },
        "outputId": "a6552422-552c-4dc7-830f-5a8a390667b8"
      },
      "source": [
        "train_df[tr_idx]"
      ],
      "execution_count": null,
      "outputs": [
        {
          "output_type": "execute_result",
          "data": {
            "text/html": [
              "<div>\n",
              "<style scoped>\n",
              "    .dataframe tbody tr th:only-of-type {\n",
              "        vertical-align: middle;\n",
              "    }\n",
              "\n",
              "    .dataframe tbody tr th {\n",
              "        vertical-align: top;\n",
              "    }\n",
              "\n",
              "    .dataframe thead th {\n",
              "        text-align: right;\n",
              "    }\n",
              "</style>\n",
              "<table border=\"1\" class=\"dataframe\">\n",
              "  <thead>\n",
              "    <tr style=\"text-align: right;\">\n",
              "      <th></th>\n",
              "      <th>num_month</th>\n",
              "      <th>id</th>\n",
              "      <th>id_shift_t1</th>\n",
              "      <th>id_shift_t2</th>\n",
              "      <th>id_shift_t3</th>\n",
              "      <th>id_shift_t4</th>\n",
              "      <th>id_shift_t5</th>\n",
              "      <th>month</th>\n",
              "      <th>price</th>\n",
              "    </tr>\n",
              "  </thead>\n",
              "  <tbody>\n",
              "    <tr>\n",
              "      <th>0</th>\n",
              "      <td>-28</td>\n",
              "      <td>store10goods1004</td>\n",
              "      <td>0.0</td>\n",
              "      <td>0.0</td>\n",
              "      <td>0.0</td>\n",
              "      <td>0.0</td>\n",
              "      <td>0.0</td>\n",
              "      <td>4</td>\n",
              "      <td>5761.0</td>\n",
              "    </tr>\n",
              "    <tr>\n",
              "      <th>1</th>\n",
              "      <td>-28</td>\n",
              "      <td>store10goods11015</td>\n",
              "      <td>0.0</td>\n",
              "      <td>0.0</td>\n",
              "      <td>0.0</td>\n",
              "      <td>0.0</td>\n",
              "      <td>0.0</td>\n",
              "      <td>4</td>\n",
              "      <td>9179.0</td>\n",
              "    </tr>\n",
              "    <tr>\n",
              "      <th>2</th>\n",
              "      <td>-28</td>\n",
              "      <td>store10goods11504</td>\n",
              "      <td>0.0</td>\n",
              "      <td>0.0</td>\n",
              "      <td>0.0</td>\n",
              "      <td>0.0</td>\n",
              "      <td>0.0</td>\n",
              "      <td>4</td>\n",
              "      <td>26447.0</td>\n",
              "    </tr>\n",
              "    <tr>\n",
              "      <th>3</th>\n",
              "      <td>-28</td>\n",
              "      <td>store10goods11900</td>\n",
              "      <td>0.0</td>\n",
              "      <td>0.0</td>\n",
              "      <td>0.0</td>\n",
              "      <td>0.0</td>\n",
              "      <td>0.0</td>\n",
              "      <td>4</td>\n",
              "      <td>7577.0</td>\n",
              "    </tr>\n",
              "    <tr>\n",
              "      <th>4</th>\n",
              "      <td>-28</td>\n",
              "      <td>store10goods12105</td>\n",
              "      <td>0.0</td>\n",
              "      <td>0.0</td>\n",
              "      <td>0.0</td>\n",
              "      <td>0.0</td>\n",
              "      <td>0.0</td>\n",
              "      <td>4</td>\n",
              "      <td>56107.0</td>\n",
              "    </tr>\n",
              "    <tr>\n",
              "      <th>...</th>\n",
              "      <td>...</td>\n",
              "      <td>...</td>\n",
              "      <td>...</td>\n",
              "      <td>...</td>\n",
              "      <td>...</td>\n",
              "      <td>...</td>\n",
              "      <td>...</td>\n",
              "      <td>...</td>\n",
              "      <td>...</td>\n",
              "    </tr>\n",
              "    <tr>\n",
              "      <th>1366714</th>\n",
              "      <td>-2</td>\n",
              "      <td>store9goods9054</td>\n",
              "      <td>0.0</td>\n",
              "      <td>0.0</td>\n",
              "      <td>0.0</td>\n",
              "      <td>0.0</td>\n",
              "      <td>0.0</td>\n",
              "      <td>2</td>\n",
              "      <td>19901.0</td>\n",
              "    </tr>\n",
              "    <tr>\n",
              "      <th>1366715</th>\n",
              "      <td>-2</td>\n",
              "      <td>store9goods9356</td>\n",
              "      <td>1.0</td>\n",
              "      <td>1.0</td>\n",
              "      <td>1.0</td>\n",
              "      <td>0.0</td>\n",
              "      <td>0.0</td>\n",
              "      <td>2</td>\n",
              "      <td>35317.0</td>\n",
              "    </tr>\n",
              "    <tr>\n",
              "      <th>1366716</th>\n",
              "      <td>-2</td>\n",
              "      <td>store9goods9407</td>\n",
              "      <td>0.0</td>\n",
              "      <td>0.0</td>\n",
              "      <td>0.0</td>\n",
              "      <td>0.0</td>\n",
              "      <td>0.0</td>\n",
              "      <td>2</td>\n",
              "      <td>35288.0</td>\n",
              "    </tr>\n",
              "    <tr>\n",
              "      <th>1366717</th>\n",
              "      <td>-2</td>\n",
              "      <td>store9goods9411</td>\n",
              "      <td>0.0</td>\n",
              "      <td>0.0</td>\n",
              "      <td>0.0</td>\n",
              "      <td>0.0</td>\n",
              "      <td>0.0</td>\n",
              "      <td>2</td>\n",
              "      <td>34992.0</td>\n",
              "    </tr>\n",
              "    <tr>\n",
              "      <th>1366718</th>\n",
              "      <td>-2</td>\n",
              "      <td>store9goods983</td>\n",
              "      <td>0.0</td>\n",
              "      <td>0.0</td>\n",
              "      <td>0.0</td>\n",
              "      <td>0.0</td>\n",
              "      <td>0.0</td>\n",
              "      <td>2</td>\n",
              "      <td>30145.0</td>\n",
              "    </tr>\n",
              "  </tbody>\n",
              "</table>\n",
              "<p>1366719 rows × 9 columns</p>\n",
              "</div>"
            ],
            "text/plain": [
              "         num_month                 id  id_shift_t1  id_shift_t2  id_shift_t3  \\\n",
              "0              -28   store10goods1004          0.0          0.0          0.0   \n",
              "1              -28  store10goods11015          0.0          0.0          0.0   \n",
              "2              -28  store10goods11504          0.0          0.0          0.0   \n",
              "3              -28  store10goods11900          0.0          0.0          0.0   \n",
              "4              -28  store10goods12105          0.0          0.0          0.0   \n",
              "...            ...                ...          ...          ...          ...   \n",
              "1366714         -2    store9goods9054          0.0          0.0          0.0   \n",
              "1366715         -2    store9goods9356          1.0          1.0          1.0   \n",
              "1366716         -2    store9goods9407          0.0          0.0          0.0   \n",
              "1366717         -2    store9goods9411          0.0          0.0          0.0   \n",
              "1366718         -2     store9goods983          0.0          0.0          0.0   \n",
              "\n",
              "         id_shift_t4  id_shift_t5 month    price  \n",
              "0                0.0          0.0     4   5761.0  \n",
              "1                0.0          0.0     4   9179.0  \n",
              "2                0.0          0.0     4  26447.0  \n",
              "3                0.0          0.0     4   7577.0  \n",
              "4                0.0          0.0     4  56107.0  \n",
              "...              ...          ...   ...      ...  \n",
              "1366714          0.0          0.0     2  19901.0  \n",
              "1366715          0.0          0.0     2  35317.0  \n",
              "1366716          0.0          0.0     2  35288.0  \n",
              "1366717          0.0          0.0     2  34992.0  \n",
              "1366718          0.0          0.0     2  30145.0  \n",
              "\n",
              "[1366719 rows x 9 columns]"
            ]
          },
          "metadata": {
            "tags": []
          },
          "execution_count": 271
        }
      ]
    },
    {
      "cell_type": "code",
      "metadata": {
        "id": "9cOw2jPFOBNy",
        "colab_type": "code",
        "colab": {
          "base_uri": "https://localhost:8080/",
          "height": 402
        },
        "outputId": "ba1158d6-5b55-437c-8f5d-bfa800cfe954"
      },
      "source": [
        "train_df[val_idx]"
      ],
      "execution_count": null,
      "outputs": [
        {
          "output_type": "execute_result",
          "data": {
            "text/html": [
              "<div>\n",
              "<style scoped>\n",
              "    .dataframe tbody tr th:only-of-type {\n",
              "        vertical-align: middle;\n",
              "    }\n",
              "\n",
              "    .dataframe tbody tr th {\n",
              "        vertical-align: top;\n",
              "    }\n",
              "\n",
              "    .dataframe thead th {\n",
              "        text-align: right;\n",
              "    }\n",
              "</style>\n",
              "<table border=\"1\" class=\"dataframe\">\n",
              "  <thead>\n",
              "    <tr style=\"text-align: right;\">\n",
              "      <th></th>\n",
              "      <th>num_month</th>\n",
              "      <th>id</th>\n",
              "      <th>id_shift_t1</th>\n",
              "      <th>id_shift_t2</th>\n",
              "      <th>id_shift_t3</th>\n",
              "      <th>id_shift_t4</th>\n",
              "      <th>id_shift_t5</th>\n",
              "      <th>month</th>\n",
              "      <th>price</th>\n",
              "    </tr>\n",
              "  </thead>\n",
              "  <tbody>\n",
              "    <tr>\n",
              "      <th>1366719</th>\n",
              "      <td>-1</td>\n",
              "      <td>store10goods12882</td>\n",
              "      <td>0.0</td>\n",
              "      <td>0.0</td>\n",
              "      <td>0.0</td>\n",
              "      <td>0.0</td>\n",
              "      <td>0.0</td>\n",
              "      <td>1</td>\n",
              "      <td>27153.0</td>\n",
              "    </tr>\n",
              "    <tr>\n",
              "      <th>1366720</th>\n",
              "      <td>-1</td>\n",
              "      <td>store10goods1468</td>\n",
              "      <td>4.0</td>\n",
              "      <td>0.0</td>\n",
              "      <td>0.0</td>\n",
              "      <td>0.0</td>\n",
              "      <td>0.0</td>\n",
              "      <td>1</td>\n",
              "      <td>86010.0</td>\n",
              "    </tr>\n",
              "    <tr>\n",
              "      <th>1366721</th>\n",
              "      <td>-1</td>\n",
              "      <td>store10goods14810</td>\n",
              "      <td>0.0</td>\n",
              "      <td>0.0</td>\n",
              "      <td>0.0</td>\n",
              "      <td>0.0</td>\n",
              "      <td>0.0</td>\n",
              "      <td>1</td>\n",
              "      <td>68494.0</td>\n",
              "    </tr>\n",
              "    <tr>\n",
              "      <th>1366722</th>\n",
              "      <td>-1</td>\n",
              "      <td>store10goods15595</td>\n",
              "      <td>0.0</td>\n",
              "      <td>0.0</td>\n",
              "      <td>0.0</td>\n",
              "      <td>0.0</td>\n",
              "      <td>0.0</td>\n",
              "      <td>1</td>\n",
              "      <td>18685.0</td>\n",
              "    </tr>\n",
              "    <tr>\n",
              "      <th>1366723</th>\n",
              "      <td>-1</td>\n",
              "      <td>store10goods15799</td>\n",
              "      <td>0.0</td>\n",
              "      <td>0.0</td>\n",
              "      <td>0.0</td>\n",
              "      <td>0.0</td>\n",
              "      <td>0.0</td>\n",
              "      <td>1</td>\n",
              "      <td>26482.0</td>\n",
              "    </tr>\n",
              "    <tr>\n",
              "      <th>...</th>\n",
              "      <td>...</td>\n",
              "      <td>...</td>\n",
              "      <td>...</td>\n",
              "      <td>...</td>\n",
              "      <td>...</td>\n",
              "      <td>...</td>\n",
              "      <td>...</td>\n",
              "      <td>...</td>\n",
              "      <td>...</td>\n",
              "    </tr>\n",
              "    <tr>\n",
              "      <th>1399158</th>\n",
              "      <td>-1</td>\n",
              "      <td>store9goods7527</td>\n",
              "      <td>0.0</td>\n",
              "      <td>0.0</td>\n",
              "      <td>0.0</td>\n",
              "      <td>0.0</td>\n",
              "      <td>0.0</td>\n",
              "      <td>1</td>\n",
              "      <td>34728.0</td>\n",
              "    </tr>\n",
              "    <tr>\n",
              "      <th>1399159</th>\n",
              "      <td>-1</td>\n",
              "      <td>store9goods7528</td>\n",
              "      <td>0.0</td>\n",
              "      <td>0.0</td>\n",
              "      <td>0.0</td>\n",
              "      <td>0.0</td>\n",
              "      <td>0.0</td>\n",
              "      <td>1</td>\n",
              "      <td>34826.0</td>\n",
              "    </tr>\n",
              "    <tr>\n",
              "      <th>1399160</th>\n",
              "      <td>-1</td>\n",
              "      <td>store9goods7934</td>\n",
              "      <td>1.0</td>\n",
              "      <td>0.0</td>\n",
              "      <td>0.0</td>\n",
              "      <td>0.0</td>\n",
              "      <td>0.0</td>\n",
              "      <td>1</td>\n",
              "      <td>108141.0</td>\n",
              "    </tr>\n",
              "    <tr>\n",
              "      <th>1399161</th>\n",
              "      <td>-1</td>\n",
              "      <td>store9goods8364</td>\n",
              "      <td>0.0</td>\n",
              "      <td>0.0</td>\n",
              "      <td>0.0</td>\n",
              "      <td>0.0</td>\n",
              "      <td>0.0</td>\n",
              "      <td>1</td>\n",
              "      <td>20108.0</td>\n",
              "    </tr>\n",
              "    <tr>\n",
              "      <th>1399162</th>\n",
              "      <td>-1</td>\n",
              "      <td>store9goods8549</td>\n",
              "      <td>0.0</td>\n",
              "      <td>0.0</td>\n",
              "      <td>0.0</td>\n",
              "      <td>0.0</td>\n",
              "      <td>0.0</td>\n",
              "      <td>1</td>\n",
              "      <td>119116.0</td>\n",
              "    </tr>\n",
              "  </tbody>\n",
              "</table>\n",
              "<p>32444 rows × 9 columns</p>\n",
              "</div>"
            ],
            "text/plain": [
              "         num_month                 id  id_shift_t1  id_shift_t2  id_shift_t3  \\\n",
              "1366719         -1  store10goods12882          0.0          0.0          0.0   \n",
              "1366720         -1   store10goods1468          4.0          0.0          0.0   \n",
              "1366721         -1  store10goods14810          0.0          0.0          0.0   \n",
              "1366722         -1  store10goods15595          0.0          0.0          0.0   \n",
              "1366723         -1  store10goods15799          0.0          0.0          0.0   \n",
              "...            ...                ...          ...          ...          ...   \n",
              "1399158         -1    store9goods7527          0.0          0.0          0.0   \n",
              "1399159         -1    store9goods7528          0.0          0.0          0.0   \n",
              "1399160         -1    store9goods7934          1.0          0.0          0.0   \n",
              "1399161         -1    store9goods8364          0.0          0.0          0.0   \n",
              "1399162         -1    store9goods8549          0.0          0.0          0.0   \n",
              "\n",
              "         id_shift_t4  id_shift_t5 month     price  \n",
              "1366719          0.0          0.0     1   27153.0  \n",
              "1366720          0.0          0.0     1   86010.0  \n",
              "1366721          0.0          0.0     1   68494.0  \n",
              "1366722          0.0          0.0     1   18685.0  \n",
              "1366723          0.0          0.0     1   26482.0  \n",
              "...              ...          ...   ...       ...  \n",
              "1399158          0.0          0.0     1   34728.0  \n",
              "1399159          0.0          0.0     1   34826.0  \n",
              "1399160          0.0          0.0     1  108141.0  \n",
              "1399161          0.0          0.0     1   20108.0  \n",
              "1399162          0.0          0.0     1  119116.0  \n",
              "\n",
              "[32444 rows x 9 columns]"
            ]
          },
          "metadata": {
            "tags": []
          },
          "execution_count": 272
        }
      ]
    },
    {
      "cell_type": "code",
      "metadata": {
        "id": "hk7Yx7CfNXvK",
        "colab_type": "code",
        "colab": {
          "base_uri": "https://localhost:8080/",
          "height": 228
        },
        "outputId": "37cadea4-68af-479d-a09a-6eb76b7418f6"
      },
      "source": [
        "y[:1366719]"
      ],
      "execution_count": null,
      "outputs": [
        {
          "output_type": "execute_result",
          "data": {
            "text/plain": [
              "320307     1.0\n",
              "320308     1.0\n",
              "320309     1.0\n",
              "320310     1.0\n",
              "320311     1.0\n",
              "          ... \n",
              "1687021    1.0\n",
              "1687022    0.0\n",
              "1687023    1.0\n",
              "1687024    1.0\n",
              "1687025    1.0\n",
              "Name: units_sold_month, Length: 1366719, dtype: float64"
            ]
          },
          "metadata": {
            "tags": []
          },
          "execution_count": 276
        }
      ]
    },
    {
      "cell_type": "code",
      "metadata": {
        "id": "ijzMbfmvPqG9",
        "colab_type": "code",
        "colab": {
          "base_uri": "https://localhost:8080/",
          "height": 228
        },
        "outputId": "d7211846-98da-4a6b-d62a-f29e27942ec8"
      },
      "source": [
        "y[1366719:]"
      ],
      "execution_count": null,
      "outputs": [
        {
          "output_type": "execute_result",
          "data": {
            "text/plain": [
              "1687026    1.0\n",
              "1687027    1.0\n",
              "1687028    1.0\n",
              "1687029    1.0\n",
              "1687030    1.0\n",
              "          ... \n",
              "1719465    1.0\n",
              "1719466    1.0\n",
              "1719467    1.0\n",
              "1719468    1.0\n",
              "1719469    1.0\n",
              "Name: units_sold_month, Length: 32444, dtype: float64"
            ]
          },
          "metadata": {
            "tags": []
          },
          "execution_count": 277
        }
      ]
    },
    {
      "cell_type": "code",
      "metadata": {
        "id": "0q_RUO7imKyi",
        "colab_type": "code",
        "colab": {
          "base_uri": "https://localhost:8080/",
          "height": 635
        },
        "outputId": "818c0103-f666-409f-d37c-5c199621771f"
      },
      "source": [
        "# バリデーション期間を-1とする\n",
        "# va_period_list = [-1, -2, -3]\n",
        "va_period_list = [-1]\n",
        "count=0\n",
        "for va_period in va_period_list:\n",
        "    print(count)\n",
        "    tr_idx = train_df[\"num_month\"] < va_period\n",
        "    val_idx = train_df[\"num_month\"] == va_period \n",
        "    x_train, x_val = train_df[tr_idx], train_df[val_idx]\n",
        "    y_train, y_val = y[:1366719], y[1366719:]\n",
        "    \n",
        "    # Datasetに入れて学習させる\n",
        "    train_set = lgb.Dataset(x_train, y_train)\n",
        "    val_set = lgb.Dataset(x_val, y_val, reference=train_set)\n",
        "    # Training\n",
        "    model = lgb.train(light_params, train_set, num_boost_round=8000, early_stopping_rounds=20,\n",
        "                      valid_sets=[train_set, val_set], verbose_eval=10)\n",
        "     \n",
        "    test_pred = model.predict(test_df)\n",
        "\n",
        "    oof = model.predict(x_val)\n",
        "    rmse = np.sqrt(mean_squared_error(y_val, oof))\n",
        "    print(f\"RMSE : {rmse}\")\n",
        "  \n",
        "print(rmse)"
      ],
      "execution_count": null,
      "outputs": [
        {
          "output_type": "stream",
          "text": [
            "0\n"
          ],
          "name": "stdout"
        },
        {
          "output_type": "stream",
          "text": [
            "/usr/local/lib/python3.6/dist-packages/lightgbm/basic.py:762: UserWarning: categorical_feature in param dict is overridden.\n",
            "  warnings.warn('categorical_feature in param dict is overridden.')\n"
          ],
          "name": "stderr"
        },
        {
          "output_type": "stream",
          "text": [
            "Training until validation scores don't improve for 20 rounds.\n",
            "[10]\ttraining's rmse: 5.3618\tvalid_1's rmse: 15.7406\n",
            "[20]\ttraining's rmse: 4.86474\tvalid_1's rmse: 15.5869\n",
            "[30]\ttraining's rmse: 4.69122\tvalid_1's rmse: 15.537\n",
            "[40]\ttraining's rmse: 4.60118\tvalid_1's rmse: 15.5178\n",
            "[50]\ttraining's rmse: 4.55708\tvalid_1's rmse: 15.5119\n",
            "[60]\ttraining's rmse: 4.53113\tvalid_1's rmse: 15.5073\n",
            "[70]\ttraining's rmse: 4.49964\tvalid_1's rmse: 15.5081\n",
            "[80]\ttraining's rmse: 4.47812\tvalid_1's rmse: 15.5081\n",
            "Early stopping, best iteration is:\n",
            "[60]\ttraining's rmse: 4.53113\tvalid_1's rmse: 15.5073\n"
          ],
          "name": "stdout"
        },
        {
          "output_type": "error",
          "ename": "ValueError",
          "evalue": "ignored",
          "traceback": [
            "\u001b[0;31m---------------------------------------------------------------------------\u001b[0m",
            "\u001b[0;31mValueError\u001b[0m                                Traceback (most recent call last)",
            "\u001b[0;32m<ipython-input-278-f9fd8772862b>\u001b[0m in \u001b[0;36m<module>\u001b[0;34m()\u001b[0m\n\u001b[1;32m     17\u001b[0m                       valid_sets=[train_set, val_set], verbose_eval=10)\n\u001b[1;32m     18\u001b[0m \u001b[0;34m\u001b[0m\u001b[0m\n\u001b[0;32m---> 19\u001b[0;31m     \u001b[0mtest_pred\u001b[0m \u001b[0;34m=\u001b[0m \u001b[0mmodel\u001b[0m\u001b[0;34m.\u001b[0m\u001b[0mpredict\u001b[0m\u001b[0;34m(\u001b[0m\u001b[0mtest_df\u001b[0m\u001b[0;34m)\u001b[0m\u001b[0;34m\u001b[0m\u001b[0;34m\u001b[0m\u001b[0m\n\u001b[0m\u001b[1;32m     20\u001b[0m \u001b[0;34m\u001b[0m\u001b[0m\n\u001b[1;32m     21\u001b[0m     \u001b[0moof\u001b[0m \u001b[0;34m=\u001b[0m \u001b[0mmodel\u001b[0m\u001b[0;34m.\u001b[0m\u001b[0mpredict\u001b[0m\u001b[0;34m(\u001b[0m\u001b[0mx_val\u001b[0m\u001b[0;34m)\u001b[0m\u001b[0;34m\u001b[0m\u001b[0;34m\u001b[0m\u001b[0m\n",
            "\u001b[0;32m/usr/local/lib/python3.6/dist-packages/lightgbm/basic.py\u001b[0m in \u001b[0;36mpredict\u001b[0;34m(self, data, num_iteration, raw_score, pred_leaf, pred_contrib, data_has_header, is_reshape, **kwargs)\u001b[0m\n\u001b[1;32m   2201\u001b[0m         return predictor.predict(data, num_iteration,\n\u001b[1;32m   2202\u001b[0m                                  \u001b[0mraw_score\u001b[0m\u001b[0;34m,\u001b[0m \u001b[0mpred_leaf\u001b[0m\u001b[0;34m,\u001b[0m \u001b[0mpred_contrib\u001b[0m\u001b[0;34m,\u001b[0m\u001b[0;34m\u001b[0m\u001b[0;34m\u001b[0m\u001b[0m\n\u001b[0;32m-> 2203\u001b[0;31m                                  data_has_header, is_reshape)\n\u001b[0m\u001b[1;32m   2204\u001b[0m \u001b[0;34m\u001b[0m\u001b[0m\n\u001b[1;32m   2205\u001b[0m     \u001b[0;32mdef\u001b[0m \u001b[0mrefit\u001b[0m\u001b[0;34m(\u001b[0m\u001b[0mself\u001b[0m\u001b[0;34m,\u001b[0m \u001b[0mdata\u001b[0m\u001b[0;34m,\u001b[0m \u001b[0mlabel\u001b[0m\u001b[0;34m,\u001b[0m \u001b[0mdecay_rate\u001b[0m\u001b[0;34m=\u001b[0m\u001b[0;36m0.9\u001b[0m\u001b[0;34m,\u001b[0m \u001b[0;34m**\u001b[0m\u001b[0mkwargs\u001b[0m\u001b[0;34m)\u001b[0m\u001b[0;34m:\u001b[0m\u001b[0;34m\u001b[0m\u001b[0;34m\u001b[0m\u001b[0m\n",
            "\u001b[0;32m/usr/local/lib/python3.6/dist-packages/lightgbm/basic.py\u001b[0m in \u001b[0;36mpredict\u001b[0;34m(self, data, num_iteration, raw_score, pred_leaf, pred_contrib, data_has_header, is_reshape)\u001b[0m\n\u001b[1;32m    434\u001b[0m         \u001b[0;32mif\u001b[0m \u001b[0misinstance\u001b[0m\u001b[0;34m(\u001b[0m\u001b[0mdata\u001b[0m\u001b[0;34m,\u001b[0m \u001b[0mDataset\u001b[0m\u001b[0;34m)\u001b[0m\u001b[0;34m:\u001b[0m\u001b[0;34m\u001b[0m\u001b[0;34m\u001b[0m\u001b[0m\n\u001b[1;32m    435\u001b[0m             \u001b[0;32mraise\u001b[0m \u001b[0mTypeError\u001b[0m\u001b[0;34m(\u001b[0m\u001b[0;34m\"Cannot use Dataset instance for prediction, please use raw data instead\"\u001b[0m\u001b[0;34m)\u001b[0m\u001b[0;34m\u001b[0m\u001b[0;34m\u001b[0m\u001b[0m\n\u001b[0;32m--> 436\u001b[0;31m         \u001b[0mdata\u001b[0m \u001b[0;34m=\u001b[0m \u001b[0m_data_from_pandas\u001b[0m\u001b[0;34m(\u001b[0m\u001b[0mdata\u001b[0m\u001b[0;34m,\u001b[0m \u001b[0;32mNone\u001b[0m\u001b[0;34m,\u001b[0m \u001b[0;32mNone\u001b[0m\u001b[0;34m,\u001b[0m \u001b[0mself\u001b[0m\u001b[0;34m.\u001b[0m\u001b[0mpandas_categorical\u001b[0m\u001b[0;34m)\u001b[0m\u001b[0;34m[\u001b[0m\u001b[0;36m0\u001b[0m\u001b[0;34m]\u001b[0m\u001b[0;34m\u001b[0m\u001b[0;34m\u001b[0m\u001b[0m\n\u001b[0m\u001b[1;32m    437\u001b[0m         \u001b[0mpredict_type\u001b[0m \u001b[0;34m=\u001b[0m \u001b[0mC_API_PREDICT_NORMAL\u001b[0m\u001b[0;34m\u001b[0m\u001b[0;34m\u001b[0m\u001b[0m\n\u001b[1;32m    438\u001b[0m         \u001b[0;32mif\u001b[0m \u001b[0mraw_score\u001b[0m\u001b[0;34m:\u001b[0m\u001b[0;34m\u001b[0m\u001b[0;34m\u001b[0m\u001b[0m\n",
            "\u001b[0;32m/usr/local/lib/python3.6/dist-packages/lightgbm/basic.py\u001b[0m in \u001b[0;36m_data_from_pandas\u001b[0;34m(data, feature_name, categorical_feature, pandas_categorical)\u001b[0m\n\u001b[1;32m    252\u001b[0m         \u001b[0;32melse\u001b[0m\u001b[0;34m:\u001b[0m\u001b[0;34m\u001b[0m\u001b[0;34m\u001b[0m\u001b[0m\n\u001b[1;32m    253\u001b[0m             \u001b[0;32mif\u001b[0m \u001b[0mlen\u001b[0m\u001b[0;34m(\u001b[0m\u001b[0mcat_cols\u001b[0m\u001b[0;34m)\u001b[0m \u001b[0;34m!=\u001b[0m \u001b[0mlen\u001b[0m\u001b[0;34m(\u001b[0m\u001b[0mpandas_categorical\u001b[0m\u001b[0;34m)\u001b[0m\u001b[0;34m:\u001b[0m\u001b[0;34m\u001b[0m\u001b[0;34m\u001b[0m\u001b[0m\n\u001b[0;32m--> 254\u001b[0;31m                 \u001b[0;32mraise\u001b[0m \u001b[0mValueError\u001b[0m\u001b[0;34m(\u001b[0m\u001b[0;34m'train and valid dataset categorical_feature do not match.'\u001b[0m\u001b[0;34m)\u001b[0m\u001b[0;34m\u001b[0m\u001b[0;34m\u001b[0m\u001b[0m\n\u001b[0m\u001b[1;32m    255\u001b[0m             \u001b[0;32mfor\u001b[0m \u001b[0mcol\u001b[0m\u001b[0;34m,\u001b[0m \u001b[0mcategory\u001b[0m \u001b[0;32min\u001b[0m \u001b[0mzip_\u001b[0m\u001b[0;34m(\u001b[0m\u001b[0mcat_cols\u001b[0m\u001b[0;34m,\u001b[0m \u001b[0mpandas_categorical\u001b[0m\u001b[0;34m)\u001b[0m\u001b[0;34m:\u001b[0m\u001b[0;34m\u001b[0m\u001b[0;34m\u001b[0m\u001b[0m\n\u001b[1;32m    256\u001b[0m                 \u001b[0;32mif\u001b[0m \u001b[0mlist\u001b[0m\u001b[0;34m(\u001b[0m\u001b[0mdata\u001b[0m\u001b[0;34m[\u001b[0m\u001b[0mcol\u001b[0m\u001b[0;34m]\u001b[0m\u001b[0;34m.\u001b[0m\u001b[0mcat\u001b[0m\u001b[0;34m.\u001b[0m\u001b[0mcategories\u001b[0m\u001b[0;34m)\u001b[0m \u001b[0;34m!=\u001b[0m \u001b[0mlist\u001b[0m\u001b[0;34m(\u001b[0m\u001b[0mcategory\u001b[0m\u001b[0;34m)\u001b[0m\u001b[0;34m:\u001b[0m\u001b[0;34m\u001b[0m\u001b[0;34m\u001b[0m\u001b[0m\n",
            "\u001b[0;31mValueError\u001b[0m: train and valid dataset categorical_feature do not match."
          ]
        }
      ]
    },
    {
      "cell_type": "code",
      "metadata": {
        "id": "KKGONXl40Z_k",
        "colab_type": "code",
        "colab": {
          "base_uri": "https://localhost:8080/",
          "height": 34
        },
        "outputId": "b5c1ac3b-f79a-45e5-f365-aef9a288f660"
      },
      "source": [
        "#print(score)\n",
        "3.0046788760004324"
      ],
      "execution_count": null,
      "outputs": [
        {
          "output_type": "execute_result",
          "data": {
            "text/plain": [
              "3.0046788760004324"
            ]
          },
          "metadata": {
            "tags": []
          },
          "execution_count": 32
        }
      ]
    },
    {
      "cell_type": "code",
      "metadata": {
        "id": "MmCFe6R7obgd",
        "colab_type": "code",
        "colab": {
          "base_uri": "https://localhost:8080/",
          "height": 748
        },
        "outputId": "f406c3d6-5e6e-47df-eee1-3179023ad780"
      },
      "source": [
        "lgb.plot_importance(model, importance_type=\"gain\", max_num_features=40, figsize=(12, 12)) #max_num_features=20,"
      ],
      "execution_count": null,
      "outputs": [
        {
          "output_type": "execute_result",
          "data": {
            "text/plain": [
              "<matplotlib.axes._subplots.AxesSubplot at 0x7fb710a911d0>"
            ]
          },
          "metadata": {
            "tags": []
          },
          "execution_count": 82
        },
        {
          "output_type": "display_data",
          "data": {
            "image/png": "[encoded data removed]",
            "text/plain": [
              "<Figure size 864x864 with 1 Axes>"
            ]
          },
          "metadata": {
            "tags": [],
            "needs_background": "light"
          }
        }
      ]
    },
    {
      "cell_type": "code",
      "metadata": {
        "id": "74H_7f1RrsVA",
        "colab_type": "code",
        "colab": {}
      },
      "source": [
        "sub = pd.read_csv(\"drive/My Drive/GCI2020summer/コンペ第3回/sample_submission.csv\").iloc[:,1:]\n",
        "sub[\"units_sold_month\"] = test_pred.round(3)\n",
        "sub.to_csv(\"drive/My Drive/GCI2020summer/コンペ第3回/baseline.csv\", index=False)"
      ],
      "execution_count": null,
      "outputs": []
    },
    {
      "cell_type": "code",
      "metadata": {
        "id": "bZgkHTtq4lGl",
        "colab_type": "code",
        "colab": {
          "base_uri": "https://localhost:8080/",
          "height": 402
        },
        "outputId": "f81b4f88-5794-4a07-cd32-46853a506869"
      },
      "source": [
        "sub"
      ],
      "execution_count": null,
      "outputs": [
        {
          "output_type": "execute_result",
          "data": {
            "text/html": [
              "<div>\n",
              "<style scoped>\n",
              "    .dataframe tbody tr th:only-of-type {\n",
              "        vertical-align: middle;\n",
              "    }\n",
              "\n",
              "    .dataframe tbody tr th {\n",
              "        vertical-align: top;\n",
              "    }\n",
              "\n",
              "    .dataframe thead th {\n",
              "        text-align: right;\n",
              "    }\n",
              "</style>\n",
              "<table border=\"1\" class=\"dataframe\">\n",
              "  <thead>\n",
              "    <tr style=\"text-align: right;\">\n",
              "      <th></th>\n",
              "      <th>units_sold_month</th>\n",
              "    </tr>\n",
              "  </thead>\n",
              "  <tbody>\n",
              "    <tr>\n",
              "      <th>0</th>\n",
              "      <td>1.317</td>\n",
              "    </tr>\n",
              "    <tr>\n",
              "      <th>1</th>\n",
              "      <td>1.916</td>\n",
              "    </tr>\n",
              "    <tr>\n",
              "      <th>2</th>\n",
              "      <td>1.299</td>\n",
              "    </tr>\n",
              "    <tr>\n",
              "      <th>3</th>\n",
              "      <td>1.627</td>\n",
              "    </tr>\n",
              "    <tr>\n",
              "      <th>4</th>\n",
              "      <td>1.916</td>\n",
              "    </tr>\n",
              "    <tr>\n",
              "      <th>...</th>\n",
              "      <td>...</td>\n",
              "    </tr>\n",
              "    <tr>\n",
              "      <th>214195</th>\n",
              "      <td>1.916</td>\n",
              "    </tr>\n",
              "    <tr>\n",
              "      <th>214196</th>\n",
              "      <td>1.933</td>\n",
              "    </tr>\n",
              "    <tr>\n",
              "      <th>214197</th>\n",
              "      <td>1.933</td>\n",
              "    </tr>\n",
              "    <tr>\n",
              "      <th>214198</th>\n",
              "      <td>1.259</td>\n",
              "    </tr>\n",
              "    <tr>\n",
              "      <th>214199</th>\n",
              "      <td>1.259</td>\n",
              "    </tr>\n",
              "  </tbody>\n",
              "</table>\n",
              "<p>214200 rows × 1 columns</p>\n",
              "</div>"
            ],
            "text/plain": [
              "        units_sold_month\n",
              "0                  1.317\n",
              "1                  1.916\n",
              "2                  1.299\n",
              "3                  1.627\n",
              "4                  1.916\n",
              "...                  ...\n",
              "214195             1.916\n",
              "214196             1.933\n",
              "214197             1.933\n",
              "214198             1.259\n",
              "214199             1.259\n",
              "\n",
              "[214200 rows x 1 columns]"
            ]
          },
          "metadata": {
            "tags": []
          },
          "execution_count": 87
        }
      ]
    },
    {
      "cell_type": "code",
      "metadata": {
        "id": "KAZAgQuku0dD",
        "colab_type": "code",
        "colab": {}
      },
      "source": [
        ""
      ],
      "execution_count": null,
      "outputs": []
    },
    {
      "cell_type": "code",
      "metadata": {
        "id": "9j94nBWutoh8",
        "colab_type": "code",
        "colab": {
          "base_uri": "https://localhost:8080/",
          "height": 175
        },
        "outputId": "a218cc1d-050c-42ef-d982-8a1d6e4180d8"
      },
      "source": [
        "sub[\"units_sold_month\"].describe()"
      ],
      "execution_count": null,
      "outputs": [
        {
          "output_type": "execute_result",
          "data": {
            "text/plain": [
              "count    214200.000000\n",
              "mean          1.699590\n",
              "std           1.712642\n",
              "min           0.468000\n",
              "25%           1.358000\n",
              "50%           1.712000\n",
              "75%           1.916000\n",
              "max         355.736000\n",
              "Name: units_sold_month, dtype: float64"
            ]
          },
          "metadata": {
            "tags": []
          },
          "execution_count": 88
        }
      ]
    },
    {
      "cell_type": "code",
      "metadata": {
        "id": "Hl82iSkutrtW",
        "colab_type": "code",
        "colab": {}
      },
      "source": [
        ""
      ],
      "execution_count": null,
      "outputs": []
    },
    {
      "cell_type": "code",
      "metadata": {
        "id": "x-v9d0j5vFhg",
        "colab_type": "code",
        "colab": {}
      },
      "source": [
        ""
      ],
      "execution_count": null,
      "outputs": []
    }
  ]
}