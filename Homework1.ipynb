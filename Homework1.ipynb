{
  "nbformat": 4,
  "nbformat_minor": 0,
  "metadata": {
    "kernelspec": {
      "display_name": "Python 3",
      "language": "python",
      "name": "python3"
    },
    "language_info": {
      "codemirror_mode": {
        "name": "ipython",
        "version": 3
      },
      "file_extension": ".py",
      "mimetype": "text/x-python",
      "name": "python",
      "nbconvert_exporter": "python",
      "pygments_lexer": "ipython3",
      "version": "3.6.10"
    },
    "colab": {
      "name": "Homework1.ipynb",
      "provenance": []
    }
  },
  "cells": [
    {
      "cell_type": "markdown",
      "metadata": {
        "id": "SM_86Msfvec8",
        "colab_type": "text"
      },
      "source": [
        "# 課題（iLect上で解答を提出してください）"
      ]
    },
    {
      "cell_type": "markdown",
      "metadata": {
        "id": "0cF-quiyvec9",
        "colab_type": "text"
      },
      "source": [
        "## Numpy、Scipy、Pandas、Matplotlibの基礎"
      ]
    },
    {
      "cell_type": "markdown",
      "metadata": {
        "id": "S4hVNjLMvec9",
        "colab_type": "text"
      },
      "source": [
        " $n\\times n$ 正方行列をインプットデータとして、その行列式を返り値とする関数を作成してください。\n",
        "\n",
        "例えば、行列 $\\begin{bmatrix}3 & 2 & 1 \\\\\n",
        "      5 & 3 & 7 \\\\\n",
        "      1 & 1 & 1\\end{bmatrix}$\n",
        "は、次のようにnumpyの配列として扱います。\n",
        "\n",
        "```python\n",
        "A = np.array([[3,2,1],[5,3,7],[1,1,1]])\n",
        "```\n"
      ]
    },
    {
      "cell_type": "markdown",
      "metadata": {
        "id": "bdgogJMRvec-",
        "colab_type": "text"
      },
      "source": [
        "提出するときは、以下の点に注意してください。  \n",
        ">- 以下の関数homeworkの!!WRITE ME!!に処理を書いてください。(**「!!WRITE ME!!」は消して、記入してください。**)\n",
        ">- 実際の提出は記述されたhomework関数全てになり、**提出場所はilect上にあるHomeworkからSaveしてください。Solutionに関数を貼り付けます。**\n",
        ">- 返り値は数値型です。"
      ]
    },
    {
      "cell_type": "code",
      "metadata": {
        "id": "aC5SE9bgvec_",
        "colab_type": "code",
        "colab": {}
      },
      "source": [
        "# common\n",
        "import numpy as np\n",
        "from numpy import linalg as LA"
      ],
      "execution_count": 0,
      "outputs": []
    },
    {
      "cell_type": "code",
      "metadata": {
        "id": "a44NS6nUvedC",
        "colab_type": "code",
        "colab": {}
      },
      "source": [
        "# working place. everything \n",
        "def homework(A):\n",
        "    my_result = LA.det(A)\n",
        "    return my_result"
      ],
      "execution_count": 0,
      "outputs": []
    },
    {
      "cell_type": "code",
      "metadata": {
        "id": "gsf9c_2E6E0F",
        "colab_type": "code",
        "outputId": "96e8670c-a632-430b-fe5a-64102d92a091",
        "colab": {
          "base_uri": "https://localhost:8080/",
          "height": 140
        }
      },
      "source": [
        "A = np.array([[3,2,1],[5,3,7],[1,1,1]])\n",
        "B = np.array([[1,3],[2,4]])\n",
        "print(A)\n",
        "print(B)\n",
        "print(homework(A))\n",
        "print(homework(B))"
      ],
      "execution_count": 0,
      "outputs": [
        {
          "output_type": "stream",
          "text": [
            "[[3 2 1]\n",
            " [5 3 7]\n",
            " [1 1 1]]\n",
            "[[1 3]\n",
            " [2 4]]\n",
            "-6.0\n",
            "-2.0\n"
          ],
          "name": "stdout"
        }
      ]
    },
    {
      "cell_type": "code",
      "metadata": {
        "id": "gceQEL_W6NS-",
        "colab_type": "code",
        "outputId": "03094a31-8ba0-40b9-d464-a845d415e3df",
        "colab": {
          "base_uri": "https://localhost:8080/",
          "height": 34
        }
      },
      "source": [
        "3*3*1+1*1*5+2*7*1-1*1*3-2*5*1-3*1*7"
      ],
      "execution_count": 0,
      "outputs": [
        {
          "output_type": "execute_result",
          "data": {
            "text/plain": [
              "-6"
            ]
          },
          "metadata": {
            "tags": []
          },
          "execution_count": 16
        }
      ]
    },
    {
      "cell_type": "code",
      "metadata": {
        "id": "AU3qNZUA_lb_",
        "colab_type": "code",
        "colab": {}
      },
      "source": [
        ""
      ],
      "execution_count": 0,
      "outputs": []
    }
  ]
}