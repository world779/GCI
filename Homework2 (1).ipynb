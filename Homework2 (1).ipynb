{
  "nbformat": 4,
  "nbformat_minor": 0,
  "metadata": {
    "kernelspec": {
      "display_name": "Python 3",
      "language": "python",
      "name": "python3"
    },
    "language_info": {
      "codemirror_mode": {
        "name": "ipython",
        "version": 3
      },
      "file_extension": ".py",
      "mimetype": "text/x-python",
      "name": "python",
      "nbconvert_exporter": "python",
      "pygments_lexer": "ipython3",
      "version": "3.6.10"
    },
    "colab": {
      "name": "Homework2.ipynb",
      "provenance": [],
      "collapsed_sections": []
    }
  },
  "cells": [
    {
      "cell_type": "markdown",
      "metadata": {
        "id": "WQXbn4EBVJlJ",
        "colab_type": "text"
      },
      "source": [
        "# 課題（Omnicampus上で解答を提出してください）"
      ]
    },
    {
      "cell_type": "markdown",
      "metadata": {
        "id": "8BAjExtFVJlK",
        "colab_type": "text"
      },
      "source": [
        "以下のサイトにあるデータ（ワインの品質）が分析対象になります。\n",
        "\n",
        "http://archive.ics.uci.edu/ml/machine-learning-databases/wine-quality/winequality-red.csv\n",
        "\n",
        "このデータを読み込み、カラムの`total sulfur dioxide`について分位点でn個（nはデータ数を越えず、同一の値が分割位置に当たらない自然数）に分割し、それぞれのグループについてpHの平均値を算出してください。さらに、このn個のグループのそれぞれのpHの平均値の中で、1番小さい平均値と1番大きな平均値を足して、その合計値を返り値とするような関数を作成してください。\n",
        "\n",
        "提出するときは、以下の点に注意してください。  \n",
        ">- 以下の関数homeworkの!!WRITE ME!!に処理を書いてください。(**「!!WRITE ME!!」は消して、記入してください。**)\n",
        ">- 実際の提出は記述されたhomework関数全てになり、**提出場所はOmnicampus上にあるHomeworkからSaveしてください。Solutionに関数を貼り付けます。**   \n",
        ">- 返り値が数値型(1つ)になるようにしてください。\n",
        ">- 関数は1つにまとめてください。"
      ]
    },
    {
      "cell_type": "code",
      "metadata": {
        "id": "W2-Lj5sVVJlL",
        "colab_type": "code",
        "colab": {}
      },
      "source": [
        "# common\n",
        "import numpy as np\n",
        "import pandas as pd\n",
        "from pandas import DataFrame\n",
        "# URL\n",
        "url_winequality_data = \"http://archive.ics.uci.edu/ml/machine-learning-databases/wine-quality/winequality-red.csv\""
      ],
      "execution_count": 0,
      "outputs": []
    },
    {
      "cell_type": "code",
      "metadata": {
        "id": "k6ElFoVTVJlQ",
        "colab_type": "code",
        "colab": {}
      },
      "source": [
        "# working place. everything \n",
        "def homework(url_winequality_data, n):\n",
        "    data = pd.read_csv(url_winequality_data, sep=\";\")\n",
        "    cut=pd.qcut(data[\"total sulfur dioxide\"], n)\n",
        "    group=data.groupby(cut).mean()\n",
        "    sort_group=group.sort_values(\"pH\")\n",
        "    result=sort_group.reset_index(drop=True)\n",
        "    ph=result[\"pH\"]\n",
        "    my_result=ph[0]+ph[n-1]\n",
        "    return my_result"
      ],
      "execution_count": 0,
      "outputs": []
    },
    {
      "cell_type": "code",
      "metadata": {
        "id": "Dxu1c1Nvr43R",
        "colab_type": "code",
        "outputId": "8c43a4a0-6f1c-4633-e212-3f43eaea8a21",
        "colab": {
          "base_uri": "https://localhost:8080/",
          "height": 34
        }
      },
      "source": [
        "homework(url_winequality_data,10)"
      ],
      "execution_count": 0,
      "outputs": [
        {
          "output_type": "execute_result",
          "data": {
            "text/plain": [
              "6.604986413043478"
            ]
          },
          "metadata": {
            "tags": []
          },
          "execution_count": 115
        }
      ]
    },
    {
      "cell_type": "code",
      "metadata": {
        "id": "WAczUs4BV_2p",
        "colab_type": "code",
        "outputId": "fba23260-f19e-4d0a-e221-5b7f13e49e48",
        "colab": {
          "base_uri": "https://localhost:8080/",
          "height": 195
        }
      },
      "source": [
        "my_result = pd.read_csv(url_winequality_data, sep=\";\")\n",
        "my_result.head()"
      ],
      "execution_count": 0,
      "outputs": [
        {
          "output_type": "execute_result",
          "data": {
            "text/html": [
              "<div>\n",
              "<style scoped>\n",
              "    .dataframe tbody tr th:only-of-type {\n",
              "        vertical-align: middle;\n",
              "    }\n",
              "\n",
              "    .dataframe tbody tr th {\n",
              "        vertical-align: top;\n",
              "    }\n",
              "\n",
              "    .dataframe thead th {\n",
              "        text-align: right;\n",
              "    }\n",
              "</style>\n",
              "<table border=\"1\" class=\"dataframe\">\n",
              "  <thead>\n",
              "    <tr style=\"text-align: right;\">\n",
              "      <th></th>\n",
              "      <th>fixed acidity</th>\n",
              "      <th>volatile acidity</th>\n",
              "      <th>citric acid</th>\n",
              "      <th>residual sugar</th>\n",
              "      <th>chlorides</th>\n",
              "      <th>free sulfur dioxide</th>\n",
              "      <th>total sulfur dioxide</th>\n",
              "      <th>density</th>\n",
              "      <th>pH</th>\n",
              "      <th>sulphates</th>\n",
              "      <th>alcohol</th>\n",
              "      <th>quality</th>\n",
              "    </tr>\n",
              "  </thead>\n",
              "  <tbody>\n",
              "    <tr>\n",
              "      <th>0</th>\n",
              "      <td>7.4</td>\n",
              "      <td>0.70</td>\n",
              "      <td>0.00</td>\n",
              "      <td>1.9</td>\n",
              "      <td>0.076</td>\n",
              "      <td>11.0</td>\n",
              "      <td>34.0</td>\n",
              "      <td>0.9978</td>\n",
              "      <td>3.51</td>\n",
              "      <td>0.56</td>\n",
              "      <td>9.4</td>\n",
              "      <td>5</td>\n",
              "    </tr>\n",
              "    <tr>\n",
              "      <th>1</th>\n",
              "      <td>7.8</td>\n",
              "      <td>0.88</td>\n",
              "      <td>0.00</td>\n",
              "      <td>2.6</td>\n",
              "      <td>0.098</td>\n",
              "      <td>25.0</td>\n",
              "      <td>67.0</td>\n",
              "      <td>0.9968</td>\n",
              "      <td>3.20</td>\n",
              "      <td>0.68</td>\n",
              "      <td>9.8</td>\n",
              "      <td>5</td>\n",
              "    </tr>\n",
              "    <tr>\n",
              "      <th>2</th>\n",
              "      <td>7.8</td>\n",
              "      <td>0.76</td>\n",
              "      <td>0.04</td>\n",
              "      <td>2.3</td>\n",
              "      <td>0.092</td>\n",
              "      <td>15.0</td>\n",
              "      <td>54.0</td>\n",
              "      <td>0.9970</td>\n",
              "      <td>3.26</td>\n",
              "      <td>0.65</td>\n",
              "      <td>9.8</td>\n",
              "      <td>5</td>\n",
              "    </tr>\n",
              "    <tr>\n",
              "      <th>3</th>\n",
              "      <td>11.2</td>\n",
              "      <td>0.28</td>\n",
              "      <td>0.56</td>\n",
              "      <td>1.9</td>\n",
              "      <td>0.075</td>\n",
              "      <td>17.0</td>\n",
              "      <td>60.0</td>\n",
              "      <td>0.9980</td>\n",
              "      <td>3.16</td>\n",
              "      <td>0.58</td>\n",
              "      <td>9.8</td>\n",
              "      <td>6</td>\n",
              "    </tr>\n",
              "    <tr>\n",
              "      <th>4</th>\n",
              "      <td>7.4</td>\n",
              "      <td>0.70</td>\n",
              "      <td>0.00</td>\n",
              "      <td>1.9</td>\n",
              "      <td>0.076</td>\n",
              "      <td>11.0</td>\n",
              "      <td>34.0</td>\n",
              "      <td>0.9978</td>\n",
              "      <td>3.51</td>\n",
              "      <td>0.56</td>\n",
              "      <td>9.4</td>\n",
              "      <td>5</td>\n",
              "    </tr>\n",
              "  </tbody>\n",
              "</table>\n",
              "</div>"
            ],
            "text/plain": [
              "   fixed acidity  volatile acidity  citric acid  ...  sulphates  alcohol  quality\n",
              "0            7.4              0.70         0.00  ...       0.56      9.4        5\n",
              "1            7.8              0.88         0.00  ...       0.68      9.8        5\n",
              "2            7.8              0.76         0.04  ...       0.65      9.8        5\n",
              "3           11.2              0.28         0.56  ...       0.58      9.8        6\n",
              "4            7.4              0.70         0.00  ...       0.56      9.4        5\n",
              "\n",
              "[5 rows x 12 columns]"
            ]
          },
          "metadata": {
            "tags": []
          },
          "execution_count": 12
        }
      ]
    },
    {
      "cell_type": "code",
      "metadata": {
        "id": "2lYs_nYFaYsO",
        "colab_type": "code",
        "colab": {}
      },
      "source": [
        ""
      ],
      "execution_count": 0,
      "outputs": []
    },
    {
      "cell_type": "code",
      "metadata": {
        "id": "MpYIR7-HgdKL",
        "colab_type": "code",
        "colab": {}
      },
      "source": [
        ""
      ],
      "execution_count": 0,
      "outputs": []
    },
    {
      "cell_type": "code",
      "metadata": {
        "id": "0ND-uDtMiY4c",
        "colab_type": "code",
        "outputId": "d1cb758c-4c74-4a7a-cad8-786117bc92a5",
        "colab": {
          "base_uri": "https://localhost:8080/",
          "height": 263
        }
      },
      "source": [
        "group=pd.qcut(my_result[\"total sulfur dioxide\"], 10)\n",
        "group"
      ],
      "execution_count": 0,
      "outputs": [
        {
          "output_type": "execute_result",
          "data": {
            "text/plain": [
              "0       (30.0, 38.0]\n",
              "1       (55.0, 69.0]\n",
              "2       (45.8, 55.0]\n",
              "3       (55.0, 69.0]\n",
              "4       (30.0, 38.0]\n",
              "            ...     \n",
              "1594    (38.0, 45.8]\n",
              "1595    (45.8, 55.0]\n",
              "1596    (38.0, 45.8]\n",
              "1597    (38.0, 45.8]\n",
              "1598    (38.0, 45.8]\n",
              "Name: total sulfur dioxide, Length: 1599, dtype: category\n",
              "Categories (10, interval[float64]): [(5.999, 14.0] < (14.0, 19.0] < (19.0, 24.0] < (24.0, 30.0] < ... <\n",
              "                                     (45.8, 55.0] < (55.0, 69.0] < (69.0, 93.2] < (93.2, 289.0]]"
            ]
          },
          "metadata": {
            "tags": []
          },
          "execution_count": 41
        }
      ]
    },
    {
      "cell_type": "code",
      "metadata": {
        "id": "FOPf8qKco_48",
        "colab_type": "code",
        "outputId": "2ebcc9e6-78d7-42dd-9e1d-eb02a7411ffa",
        "colab": {
          "base_uri": "https://localhost:8080/",
          "height": 210
        }
      },
      "source": [
        "pd.value_counts(group)  #データの確認"
      ],
      "execution_count": 0,
      "outputs": [
        {
          "output_type": "execute_result",
          "data": {
            "text/plain": [
              "(30.0, 38.0]     184\n",
              "(5.999, 14.0]    178\n",
              "(45.8, 55.0]     167\n",
              "(93.2, 289.0]    160\n",
              "(69.0, 93.2]     159\n",
              "(24.0, 30.0]     158\n",
              "(55.0, 69.0]     154\n",
              "(19.0, 24.0]     153\n",
              "(14.0, 19.0]     152\n",
              "(38.0, 45.8]     134\n",
              "Name: total sulfur dioxide, dtype: int64"
            ]
          },
          "metadata": {
            "tags": []
          },
          "execution_count": 44
        }
      ]
    },
    {
      "cell_type": "code",
      "metadata": {
        "id": "rzcteAlalxIo",
        "colab_type": "code",
        "outputId": "e1c7a4b5-8f43-4860-f3f6-2169bba8660a",
        "colab": {
          "base_uri": "https://localhost:8080/",
          "height": 406
        }
      },
      "source": [
        "res=my_result.groupby(group).mean()\n",
        "res"
      ],
      "execution_count": 0,
      "outputs": [
        {
          "output_type": "execute_result",
          "data": {
            "text/html": [
              "<div>\n",
              "<style scoped>\n",
              "    .dataframe tbody tr th:only-of-type {\n",
              "        vertical-align: middle;\n",
              "    }\n",
              "\n",
              "    .dataframe tbody tr th {\n",
              "        vertical-align: top;\n",
              "    }\n",
              "\n",
              "    .dataframe thead th {\n",
              "        text-align: right;\n",
              "    }\n",
              "</style>\n",
              "<table border=\"1\" class=\"dataframe\">\n",
              "  <thead>\n",
              "    <tr style=\"text-align: right;\">\n",
              "      <th></th>\n",
              "      <th>fixed acidity</th>\n",
              "      <th>volatile acidity</th>\n",
              "      <th>citric acid</th>\n",
              "      <th>residual sugar</th>\n",
              "      <th>chlorides</th>\n",
              "      <th>free sulfur dioxide</th>\n",
              "      <th>total sulfur dioxide</th>\n",
              "      <th>density</th>\n",
              "      <th>pH</th>\n",
              "      <th>sulphates</th>\n",
              "      <th>alcohol</th>\n",
              "      <th>quality</th>\n",
              "    </tr>\n",
              "    <tr>\n",
              "      <th>total sulfur dioxide</th>\n",
              "      <th></th>\n",
              "      <th></th>\n",
              "      <th></th>\n",
              "      <th></th>\n",
              "      <th></th>\n",
              "      <th></th>\n",
              "      <th></th>\n",
              "      <th></th>\n",
              "      <th></th>\n",
              "      <th></th>\n",
              "      <th></th>\n",
              "      <th></th>\n",
              "    </tr>\n",
              "  </thead>\n",
              "  <tbody>\n",
              "    <tr>\n",
              "      <th>(5.999, 14.0]</th>\n",
              "      <td>8.335393</td>\n",
              "      <td>0.536770</td>\n",
              "      <td>0.263539</td>\n",
              "      <td>2.486798</td>\n",
              "      <td>0.083803</td>\n",
              "      <td>4.831461</td>\n",
              "      <td>11.314607</td>\n",
              "      <td>0.996122</td>\n",
              "      <td>3.325449</td>\n",
              "      <td>0.607416</td>\n",
              "      <td>10.889045</td>\n",
              "      <td>5.668539</td>\n",
              "    </tr>\n",
              "    <tr>\n",
              "      <th>(14.0, 19.0]</th>\n",
              "      <td>8.892763</td>\n",
              "      <td>0.508618</td>\n",
              "      <td>0.312763</td>\n",
              "      <td>2.493421</td>\n",
              "      <td>0.088053</td>\n",
              "      <td>6.940789</td>\n",
              "      <td>16.980263</td>\n",
              "      <td>0.996764</td>\n",
              "      <td>3.267237</td>\n",
              "      <td>0.652434</td>\n",
              "      <td>10.616776</td>\n",
              "      <td>5.868421</td>\n",
              "    </tr>\n",
              "    <tr>\n",
              "      <th>(19.0, 24.0]</th>\n",
              "      <td>8.930719</td>\n",
              "      <td>0.499183</td>\n",
              "      <td>0.312614</td>\n",
              "      <td>2.434967</td>\n",
              "      <td>0.083758</td>\n",
              "      <td>9.176471</td>\n",
              "      <td>22.098039</td>\n",
              "      <td>0.997015</td>\n",
              "      <td>3.283137</td>\n",
              "      <td>0.697974</td>\n",
              "      <td>10.543137</td>\n",
              "      <td>5.758170</td>\n",
              "    </tr>\n",
              "    <tr>\n",
              "      <th>(24.0, 30.0]</th>\n",
              "      <td>8.191772</td>\n",
              "      <td>0.496487</td>\n",
              "      <td>0.251772</td>\n",
              "      <td>2.189241</td>\n",
              "      <td>0.079620</td>\n",
              "      <td>11.537975</td>\n",
              "      <td>27.297468</td>\n",
              "      <td>0.996515</td>\n",
              "      <td>3.320190</td>\n",
              "      <td>0.665949</td>\n",
              "      <td>10.499789</td>\n",
              "      <td>5.810127</td>\n",
              "    </tr>\n",
              "    <tr>\n",
              "      <th>(30.0, 38.0]</th>\n",
              "      <td>8.071196</td>\n",
              "      <td>0.549891</td>\n",
              "      <td>0.206033</td>\n",
              "      <td>2.212228</td>\n",
              "      <td>0.086777</td>\n",
              "      <td>14.065217</td>\n",
              "      <td>34.538043</td>\n",
              "      <td>0.996626</td>\n",
              "      <td>3.347174</td>\n",
              "      <td>0.629946</td>\n",
              "      <td>10.405707</td>\n",
              "      <td>5.663043</td>\n",
              "    </tr>\n",
              "    <tr>\n",
              "      <th>(38.0, 45.8]</th>\n",
              "      <td>8.358209</td>\n",
              "      <td>0.509664</td>\n",
              "      <td>0.275522</td>\n",
              "      <td>2.514179</td>\n",
              "      <td>0.088985</td>\n",
              "      <td>17.447761</td>\n",
              "      <td>42.208955</td>\n",
              "      <td>0.996750</td>\n",
              "      <td>3.326045</td>\n",
              "      <td>0.657015</td>\n",
              "      <td>10.486567</td>\n",
              "      <td>5.768657</td>\n",
              "    </tr>\n",
              "    <tr>\n",
              "      <th>(45.8, 55.0]</th>\n",
              "      <td>8.389820</td>\n",
              "      <td>0.516168</td>\n",
              "      <td>0.264790</td>\n",
              "      <td>2.487725</td>\n",
              "      <td>0.081629</td>\n",
              "      <td>21.488024</td>\n",
              "      <td>50.149701</td>\n",
              "      <td>0.996907</td>\n",
              "      <td>3.331377</td>\n",
              "      <td>0.685569</td>\n",
              "      <td>10.437725</td>\n",
              "      <td>5.634731</td>\n",
              "    </tr>\n",
              "    <tr>\n",
              "      <th>(55.0, 69.0]</th>\n",
              "      <td>8.064286</td>\n",
              "      <td>0.535065</td>\n",
              "      <td>0.267338</td>\n",
              "      <td>2.365260</td>\n",
              "      <td>0.108058</td>\n",
              "      <td>22.428571</td>\n",
              "      <td>62.506494</td>\n",
              "      <td>0.996878</td>\n",
              "      <td>3.315260</td>\n",
              "      <td>0.692208</td>\n",
              "      <td>10.164827</td>\n",
              "      <td>5.487013</td>\n",
              "    </tr>\n",
              "    <tr>\n",
              "      <th>(69.0, 93.2]</th>\n",
              "      <td>8.103145</td>\n",
              "      <td>0.561447</td>\n",
              "      <td>0.275597</td>\n",
              "      <td>2.964465</td>\n",
              "      <td>0.086704</td>\n",
              "      <td>24.333333</td>\n",
              "      <td>81.471698</td>\n",
              "      <td>0.997049</td>\n",
              "      <td>3.328931</td>\n",
              "      <td>0.638113</td>\n",
              "      <td>10.199895</td>\n",
              "      <td>5.496855</td>\n",
              "    </tr>\n",
              "    <tr>\n",
              "      <th>(93.2, 289.0]</th>\n",
              "      <td>7.940625</td>\n",
              "      <td>0.556031</td>\n",
              "      <td>0.294937</td>\n",
              "      <td>3.277812</td>\n",
              "      <td>0.088831</td>\n",
              "      <td>27.528125</td>\n",
              "      <td>119.043750</td>\n",
              "      <td>0.996939</td>\n",
              "      <td>3.257812</td>\n",
              "      <td>0.666125</td>\n",
              "      <td>9.951042</td>\n",
              "      <td>5.231250</td>\n",
              "    </tr>\n",
              "  </tbody>\n",
              "</table>\n",
              "</div>"
            ],
            "text/plain": [
              "                      fixed acidity  volatile acidity  ...    alcohol   quality\n",
              "total sulfur dioxide                                   ...                     \n",
              "(5.999, 14.0]              8.335393          0.536770  ...  10.889045  5.668539\n",
              "(14.0, 19.0]               8.892763          0.508618  ...  10.616776  5.868421\n",
              "(19.0, 24.0]               8.930719          0.499183  ...  10.543137  5.758170\n",
              "(24.0, 30.0]               8.191772          0.496487  ...  10.499789  5.810127\n",
              "(30.0, 38.0]               8.071196          0.549891  ...  10.405707  5.663043\n",
              "(38.0, 45.8]               8.358209          0.509664  ...  10.486567  5.768657\n",
              "(45.8, 55.0]               8.389820          0.516168  ...  10.437725  5.634731\n",
              "(55.0, 69.0]               8.064286          0.535065  ...  10.164827  5.487013\n",
              "(69.0, 93.2]               8.103145          0.561447  ...  10.199895  5.496855\n",
              "(93.2, 289.0]              7.940625          0.556031  ...   9.951042  5.231250\n",
              "\n",
              "[10 rows x 12 columns]"
            ]
          },
          "metadata": {
            "tags": []
          },
          "execution_count": 46
        }
      ]
    },
    {
      "cell_type": "code",
      "metadata": {
        "id": "R7O8DuTpn-ZY",
        "colab_type": "code",
        "outputId": "eb95800c-10da-47dd-aff6-b69eb28a94c7",
        "colab": {
          "base_uri": "https://localhost:8080/",
          "height": 406
        }
      },
      "source": [
        "re=res.sort_values(\"pH\")\n",
        "re"
      ],
      "execution_count": 0,
      "outputs": [
        {
          "output_type": "execute_result",
          "data": {
            "text/html": [
              "<div>\n",
              "<style scoped>\n",
              "    .dataframe tbody tr th:only-of-type {\n",
              "        vertical-align: middle;\n",
              "    }\n",
              "\n",
              "    .dataframe tbody tr th {\n",
              "        vertical-align: top;\n",
              "    }\n",
              "\n",
              "    .dataframe thead th {\n",
              "        text-align: right;\n",
              "    }\n",
              "</style>\n",
              "<table border=\"1\" class=\"dataframe\">\n",
              "  <thead>\n",
              "    <tr style=\"text-align: right;\">\n",
              "      <th></th>\n",
              "      <th>fixed acidity</th>\n",
              "      <th>volatile acidity</th>\n",
              "      <th>citric acid</th>\n",
              "      <th>residual sugar</th>\n",
              "      <th>chlorides</th>\n",
              "      <th>free sulfur dioxide</th>\n",
              "      <th>total sulfur dioxide</th>\n",
              "      <th>density</th>\n",
              "      <th>pH</th>\n",
              "      <th>sulphates</th>\n",
              "      <th>alcohol</th>\n",
              "      <th>quality</th>\n",
              "    </tr>\n",
              "    <tr>\n",
              "      <th>total sulfur dioxide</th>\n",
              "      <th></th>\n",
              "      <th></th>\n",
              "      <th></th>\n",
              "      <th></th>\n",
              "      <th></th>\n",
              "      <th></th>\n",
              "      <th></th>\n",
              "      <th></th>\n",
              "      <th></th>\n",
              "      <th></th>\n",
              "      <th></th>\n",
              "      <th></th>\n",
              "    </tr>\n",
              "  </thead>\n",
              "  <tbody>\n",
              "    <tr>\n",
              "      <th>(93.2, 289.0]</th>\n",
              "      <td>7.940625</td>\n",
              "      <td>0.556031</td>\n",
              "      <td>0.294937</td>\n",
              "      <td>3.277812</td>\n",
              "      <td>0.088831</td>\n",
              "      <td>27.528125</td>\n",
              "      <td>119.043750</td>\n",
              "      <td>0.996939</td>\n",
              "      <td>3.257812</td>\n",
              "      <td>0.666125</td>\n",
              "      <td>9.951042</td>\n",
              "      <td>5.231250</td>\n",
              "    </tr>\n",
              "    <tr>\n",
              "      <th>(14.0, 19.0]</th>\n",
              "      <td>8.892763</td>\n",
              "      <td>0.508618</td>\n",
              "      <td>0.312763</td>\n",
              "      <td>2.493421</td>\n",
              "      <td>0.088053</td>\n",
              "      <td>6.940789</td>\n",
              "      <td>16.980263</td>\n",
              "      <td>0.996764</td>\n",
              "      <td>3.267237</td>\n",
              "      <td>0.652434</td>\n",
              "      <td>10.616776</td>\n",
              "      <td>5.868421</td>\n",
              "    </tr>\n",
              "    <tr>\n",
              "      <th>(19.0, 24.0]</th>\n",
              "      <td>8.930719</td>\n",
              "      <td>0.499183</td>\n",
              "      <td>0.312614</td>\n",
              "      <td>2.434967</td>\n",
              "      <td>0.083758</td>\n",
              "      <td>9.176471</td>\n",
              "      <td>22.098039</td>\n",
              "      <td>0.997015</td>\n",
              "      <td>3.283137</td>\n",
              "      <td>0.697974</td>\n",
              "      <td>10.543137</td>\n",
              "      <td>5.758170</td>\n",
              "    </tr>\n",
              "    <tr>\n",
              "      <th>(55.0, 69.0]</th>\n",
              "      <td>8.064286</td>\n",
              "      <td>0.535065</td>\n",
              "      <td>0.267338</td>\n",
              "      <td>2.365260</td>\n",
              "      <td>0.108058</td>\n",
              "      <td>22.428571</td>\n",
              "      <td>62.506494</td>\n",
              "      <td>0.996878</td>\n",
              "      <td>3.315260</td>\n",
              "      <td>0.692208</td>\n",
              "      <td>10.164827</td>\n",
              "      <td>5.487013</td>\n",
              "    </tr>\n",
              "    <tr>\n",
              "      <th>(24.0, 30.0]</th>\n",
              "      <td>8.191772</td>\n",
              "      <td>0.496487</td>\n",
              "      <td>0.251772</td>\n",
              "      <td>2.189241</td>\n",
              "      <td>0.079620</td>\n",
              "      <td>11.537975</td>\n",
              "      <td>27.297468</td>\n",
              "      <td>0.996515</td>\n",
              "      <td>3.320190</td>\n",
              "      <td>0.665949</td>\n",
              "      <td>10.499789</td>\n",
              "      <td>5.810127</td>\n",
              "    </tr>\n",
              "    <tr>\n",
              "      <th>(5.999, 14.0]</th>\n",
              "      <td>8.335393</td>\n",
              "      <td>0.536770</td>\n",
              "      <td>0.263539</td>\n",
              "      <td>2.486798</td>\n",
              "      <td>0.083803</td>\n",
              "      <td>4.831461</td>\n",
              "      <td>11.314607</td>\n",
              "      <td>0.996122</td>\n",
              "      <td>3.325449</td>\n",
              "      <td>0.607416</td>\n",
              "      <td>10.889045</td>\n",
              "      <td>5.668539</td>\n",
              "    </tr>\n",
              "    <tr>\n",
              "      <th>(38.0, 45.8]</th>\n",
              "      <td>8.358209</td>\n",
              "      <td>0.509664</td>\n",
              "      <td>0.275522</td>\n",
              "      <td>2.514179</td>\n",
              "      <td>0.088985</td>\n",
              "      <td>17.447761</td>\n",
              "      <td>42.208955</td>\n",
              "      <td>0.996750</td>\n",
              "      <td>3.326045</td>\n",
              "      <td>0.657015</td>\n",
              "      <td>10.486567</td>\n",
              "      <td>5.768657</td>\n",
              "    </tr>\n",
              "    <tr>\n",
              "      <th>(69.0, 93.2]</th>\n",
              "      <td>8.103145</td>\n",
              "      <td>0.561447</td>\n",
              "      <td>0.275597</td>\n",
              "      <td>2.964465</td>\n",
              "      <td>0.086704</td>\n",
              "      <td>24.333333</td>\n",
              "      <td>81.471698</td>\n",
              "      <td>0.997049</td>\n",
              "      <td>3.328931</td>\n",
              "      <td>0.638113</td>\n",
              "      <td>10.199895</td>\n",
              "      <td>5.496855</td>\n",
              "    </tr>\n",
              "    <tr>\n",
              "      <th>(45.8, 55.0]</th>\n",
              "      <td>8.389820</td>\n",
              "      <td>0.516168</td>\n",
              "      <td>0.264790</td>\n",
              "      <td>2.487725</td>\n",
              "      <td>0.081629</td>\n",
              "      <td>21.488024</td>\n",
              "      <td>50.149701</td>\n",
              "      <td>0.996907</td>\n",
              "      <td>3.331377</td>\n",
              "      <td>0.685569</td>\n",
              "      <td>10.437725</td>\n",
              "      <td>5.634731</td>\n",
              "    </tr>\n",
              "    <tr>\n",
              "      <th>(30.0, 38.0]</th>\n",
              "      <td>8.071196</td>\n",
              "      <td>0.549891</td>\n",
              "      <td>0.206033</td>\n",
              "      <td>2.212228</td>\n",
              "      <td>0.086777</td>\n",
              "      <td>14.065217</td>\n",
              "      <td>34.538043</td>\n",
              "      <td>0.996626</td>\n",
              "      <td>3.347174</td>\n",
              "      <td>0.629946</td>\n",
              "      <td>10.405707</td>\n",
              "      <td>5.663043</td>\n",
              "    </tr>\n",
              "  </tbody>\n",
              "</table>\n",
              "</div>"
            ],
            "text/plain": [
              "                      fixed acidity  volatile acidity  ...    alcohol   quality\n",
              "total sulfur dioxide                                   ...                     \n",
              "(93.2, 289.0]              7.940625          0.556031  ...   9.951042  5.231250\n",
              "(14.0, 19.0]               8.892763          0.508618  ...  10.616776  5.868421\n",
              "(19.0, 24.0]               8.930719          0.499183  ...  10.543137  5.758170\n",
              "(55.0, 69.0]               8.064286          0.535065  ...  10.164827  5.487013\n",
              "(24.0, 30.0]               8.191772          0.496487  ...  10.499789  5.810127\n",
              "(5.999, 14.0]              8.335393          0.536770  ...  10.889045  5.668539\n",
              "(38.0, 45.8]               8.358209          0.509664  ...  10.486567  5.768657\n",
              "(69.0, 93.2]               8.103145          0.561447  ...  10.199895  5.496855\n",
              "(45.8, 55.0]               8.389820          0.516168  ...  10.437725  5.634731\n",
              "(30.0, 38.0]               8.071196          0.549891  ...  10.405707  5.663043\n",
              "\n",
              "[10 rows x 12 columns]"
            ]
          },
          "metadata": {
            "tags": []
          },
          "execution_count": 78
        }
      ]
    },
    {
      "cell_type": "code",
      "metadata": {
        "id": "FjcrvyP_vGdM",
        "colab_type": "code",
        "outputId": "a49ed245-a710-4f79-9ef2-74f0be72997e",
        "colab": {
          "base_uri": "https://localhost:8080/",
          "height": 343
        }
      },
      "source": [
        "df_r = re.reset_index(drop=True)\n",
        "df_r"
      ],
      "execution_count": 0,
      "outputs": [
        {
          "output_type": "execute_result",
          "data": {
            "text/html": [
              "<div>\n",
              "<style scoped>\n",
              "    .dataframe tbody tr th:only-of-type {\n",
              "        vertical-align: middle;\n",
              "    }\n",
              "\n",
              "    .dataframe tbody tr th {\n",
              "        vertical-align: top;\n",
              "    }\n",
              "\n",
              "    .dataframe thead th {\n",
              "        text-align: right;\n",
              "    }\n",
              "</style>\n",
              "<table border=\"1\" class=\"dataframe\">\n",
              "  <thead>\n",
              "    <tr style=\"text-align: right;\">\n",
              "      <th></th>\n",
              "      <th>fixed acidity</th>\n",
              "      <th>volatile acidity</th>\n",
              "      <th>citric acid</th>\n",
              "      <th>residual sugar</th>\n",
              "      <th>chlorides</th>\n",
              "      <th>free sulfur dioxide</th>\n",
              "      <th>total sulfur dioxide</th>\n",
              "      <th>density</th>\n",
              "      <th>pH</th>\n",
              "      <th>sulphates</th>\n",
              "      <th>alcohol</th>\n",
              "      <th>quality</th>\n",
              "    </tr>\n",
              "  </thead>\n",
              "  <tbody>\n",
              "    <tr>\n",
              "      <th>0</th>\n",
              "      <td>7.940625</td>\n",
              "      <td>0.556031</td>\n",
              "      <td>0.294937</td>\n",
              "      <td>3.277812</td>\n",
              "      <td>0.088831</td>\n",
              "      <td>27.528125</td>\n",
              "      <td>119.043750</td>\n",
              "      <td>0.996939</td>\n",
              "      <td>3.257812</td>\n",
              "      <td>0.666125</td>\n",
              "      <td>9.951042</td>\n",
              "      <td>5.231250</td>\n",
              "    </tr>\n",
              "    <tr>\n",
              "      <th>1</th>\n",
              "      <td>8.892763</td>\n",
              "      <td>0.508618</td>\n",
              "      <td>0.312763</td>\n",
              "      <td>2.493421</td>\n",
              "      <td>0.088053</td>\n",
              "      <td>6.940789</td>\n",
              "      <td>16.980263</td>\n",
              "      <td>0.996764</td>\n",
              "      <td>3.267237</td>\n",
              "      <td>0.652434</td>\n",
              "      <td>10.616776</td>\n",
              "      <td>5.868421</td>\n",
              "    </tr>\n",
              "    <tr>\n",
              "      <th>2</th>\n",
              "      <td>8.930719</td>\n",
              "      <td>0.499183</td>\n",
              "      <td>0.312614</td>\n",
              "      <td>2.434967</td>\n",
              "      <td>0.083758</td>\n",
              "      <td>9.176471</td>\n",
              "      <td>22.098039</td>\n",
              "      <td>0.997015</td>\n",
              "      <td>3.283137</td>\n",
              "      <td>0.697974</td>\n",
              "      <td>10.543137</td>\n",
              "      <td>5.758170</td>\n",
              "    </tr>\n",
              "    <tr>\n",
              "      <th>3</th>\n",
              "      <td>8.064286</td>\n",
              "      <td>0.535065</td>\n",
              "      <td>0.267338</td>\n",
              "      <td>2.365260</td>\n",
              "      <td>0.108058</td>\n",
              "      <td>22.428571</td>\n",
              "      <td>62.506494</td>\n",
              "      <td>0.996878</td>\n",
              "      <td>3.315260</td>\n",
              "      <td>0.692208</td>\n",
              "      <td>10.164827</td>\n",
              "      <td>5.487013</td>\n",
              "    </tr>\n",
              "    <tr>\n",
              "      <th>4</th>\n",
              "      <td>8.191772</td>\n",
              "      <td>0.496487</td>\n",
              "      <td>0.251772</td>\n",
              "      <td>2.189241</td>\n",
              "      <td>0.079620</td>\n",
              "      <td>11.537975</td>\n",
              "      <td>27.297468</td>\n",
              "      <td>0.996515</td>\n",
              "      <td>3.320190</td>\n",
              "      <td>0.665949</td>\n",
              "      <td>10.499789</td>\n",
              "      <td>5.810127</td>\n",
              "    </tr>\n",
              "    <tr>\n",
              "      <th>5</th>\n",
              "      <td>8.335393</td>\n",
              "      <td>0.536770</td>\n",
              "      <td>0.263539</td>\n",
              "      <td>2.486798</td>\n",
              "      <td>0.083803</td>\n",
              "      <td>4.831461</td>\n",
              "      <td>11.314607</td>\n",
              "      <td>0.996122</td>\n",
              "      <td>3.325449</td>\n",
              "      <td>0.607416</td>\n",
              "      <td>10.889045</td>\n",
              "      <td>5.668539</td>\n",
              "    </tr>\n",
              "    <tr>\n",
              "      <th>6</th>\n",
              "      <td>8.358209</td>\n",
              "      <td>0.509664</td>\n",
              "      <td>0.275522</td>\n",
              "      <td>2.514179</td>\n",
              "      <td>0.088985</td>\n",
              "      <td>17.447761</td>\n",
              "      <td>42.208955</td>\n",
              "      <td>0.996750</td>\n",
              "      <td>3.326045</td>\n",
              "      <td>0.657015</td>\n",
              "      <td>10.486567</td>\n",
              "      <td>5.768657</td>\n",
              "    </tr>\n",
              "    <tr>\n",
              "      <th>7</th>\n",
              "      <td>8.103145</td>\n",
              "      <td>0.561447</td>\n",
              "      <td>0.275597</td>\n",
              "      <td>2.964465</td>\n",
              "      <td>0.086704</td>\n",
              "      <td>24.333333</td>\n",
              "      <td>81.471698</td>\n",
              "      <td>0.997049</td>\n",
              "      <td>3.328931</td>\n",
              "      <td>0.638113</td>\n",
              "      <td>10.199895</td>\n",
              "      <td>5.496855</td>\n",
              "    </tr>\n",
              "    <tr>\n",
              "      <th>8</th>\n",
              "      <td>8.389820</td>\n",
              "      <td>0.516168</td>\n",
              "      <td>0.264790</td>\n",
              "      <td>2.487725</td>\n",
              "      <td>0.081629</td>\n",
              "      <td>21.488024</td>\n",
              "      <td>50.149701</td>\n",
              "      <td>0.996907</td>\n",
              "      <td>3.331377</td>\n",
              "      <td>0.685569</td>\n",
              "      <td>10.437725</td>\n",
              "      <td>5.634731</td>\n",
              "    </tr>\n",
              "    <tr>\n",
              "      <th>9</th>\n",
              "      <td>8.071196</td>\n",
              "      <td>0.549891</td>\n",
              "      <td>0.206033</td>\n",
              "      <td>2.212228</td>\n",
              "      <td>0.086777</td>\n",
              "      <td>14.065217</td>\n",
              "      <td>34.538043</td>\n",
              "      <td>0.996626</td>\n",
              "      <td>3.347174</td>\n",
              "      <td>0.629946</td>\n",
              "      <td>10.405707</td>\n",
              "      <td>5.663043</td>\n",
              "    </tr>\n",
              "  </tbody>\n",
              "</table>\n",
              "</div>"
            ],
            "text/plain": [
              "   fixed acidity  volatile acidity  citric acid  ...  sulphates    alcohol   quality\n",
              "0       7.940625          0.556031     0.294937  ...   0.666125   9.951042  5.231250\n",
              "1       8.892763          0.508618     0.312763  ...   0.652434  10.616776  5.868421\n",
              "2       8.930719          0.499183     0.312614  ...   0.697974  10.543137  5.758170\n",
              "3       8.064286          0.535065     0.267338  ...   0.692208  10.164827  5.487013\n",
              "4       8.191772          0.496487     0.251772  ...   0.665949  10.499789  5.810127\n",
              "5       8.335393          0.536770     0.263539  ...   0.607416  10.889045  5.668539\n",
              "6       8.358209          0.509664     0.275522  ...   0.657015  10.486567  5.768657\n",
              "7       8.103145          0.561447     0.275597  ...   0.638113  10.199895  5.496855\n",
              "8       8.389820          0.516168     0.264790  ...   0.685569  10.437725  5.634731\n",
              "9       8.071196          0.549891     0.206033  ...   0.629946  10.405707  5.663043\n",
              "\n",
              "[10 rows x 12 columns]"
            ]
          },
          "metadata": {
            "tags": []
          },
          "execution_count": 111
        }
      ]
    },
    {
      "cell_type": "code",
      "metadata": {
        "id": "5yD03bqapkpv",
        "colab_type": "code",
        "outputId": "767ca897-0677-4dfe-9c2e-0535bc71a387",
        "colab": {
          "base_uri": "https://localhost:8080/",
          "height": 210
        }
      },
      "source": [
        "r=df_r[\"pH\"]\n",
        "r"
      ],
      "execution_count": 0,
      "outputs": [
        {
          "output_type": "execute_result",
          "data": {
            "text/plain": [
              "0    3.257812\n",
              "1    3.267237\n",
              "2    3.283137\n",
              "3    3.315260\n",
              "4    3.320190\n",
              "5    3.325449\n",
              "6    3.326045\n",
              "7    3.328931\n",
              "8    3.331377\n",
              "9    3.347174\n",
              "Name: pH, dtype: float64"
            ]
          },
          "metadata": {
            "tags": []
          },
          "execution_count": 104
        }
      ]
    },
    {
      "cell_type": "code",
      "metadata": {
        "id": "qmkUhQ9Zua3R",
        "colab_type": "code",
        "outputId": "cea618e9-775f-46a8-c9c0-823d0fea33a9",
        "colab": {
          "base_uri": "https://localhost:8080/",
          "height": 34
        }
      },
      "source": [
        "r[0]"
      ],
      "execution_count": 0,
      "outputs": [
        {
          "output_type": "execute_result",
          "data": {
            "text/plain": [
              "3.257812499999999"
            ]
          },
          "metadata": {
            "tags": []
          },
          "execution_count": 105
        }
      ]
    },
    {
      "cell_type": "code",
      "metadata": {
        "id": "IeniLGDQsvNz",
        "colab_type": "code",
        "colab": {}
      },
      "source": [
        ""
      ],
      "execution_count": 0,
      "outputs": []
    },
    {
      "cell_type": "code",
      "metadata": {
        "id": "aCw0lrrmqDnS",
        "colab_type": "code",
        "colab": {}
      },
      "source": [
        ""
      ],
      "execution_count": 0,
      "outputs": []
    },
    {
      "cell_type": "code",
      "metadata": {
        "id": "OQiDNY_QsRKO",
        "colab_type": "code",
        "colab": {}
      },
      "source": [
        ""
      ],
      "execution_count": 0,
      "outputs": []
    },
    {
      "cell_type": "code",
      "metadata": {
        "id": "W9wsIliZvyXP",
        "colab_type": "code",
        "outputId": "c7072a64-853f-44e5-e33d-dfb58334248f",
        "colab": {
          "base_uri": "https://localhost:8080/",
          "height": 34
        }
      },
      "source": [
        "r[0]+r[10-1]"
      ],
      "execution_count": 0,
      "outputs": [
        {
          "output_type": "execute_result",
          "data": {
            "text/plain": [
              "6.604986413043478"
            ]
          },
          "metadata": {
            "tags": []
          },
          "execution_count": 106
        }
      ]
    },
    {
      "cell_type": "code",
      "metadata": {
        "id": "RqUgTU5aqQUm",
        "colab_type": "code",
        "outputId": "ba41cd4e-d8a2-47b3-f467-d205dc562719",
        "colab": {
          "base_uri": "https://localhost:8080/",
          "height": 34
        }
      },
      "source": [
        "3.257812+3.347174"
      ],
      "execution_count": 0,
      "outputs": [
        {
          "output_type": "execute_result",
          "data": {
            "text/plain": [
              "6.604986"
            ]
          },
          "metadata": {
            "tags": []
          },
          "execution_count": 59
        }
      ]
    },
    {
      "cell_type": "code",
      "metadata": {
        "id": "k92f_nkTrwCf",
        "colab_type": "code",
        "colab": {}
      },
      "source": [
        "6.604986413043478"
      ],
      "execution_count": 0,
      "outputs": []
    }
  ]
}