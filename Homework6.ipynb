{
  "nbformat": 4,
  "nbformat_minor": 0,
  "metadata": {
    "kernelspec": {
      "display_name": "Python 3",
      "language": "python",
      "name": "python3"
    },
    "language_info": {
      "codemirror_mode": {
        "name": "ipython",
        "version": 3
      },
      "file_extension": ".py",
      "mimetype": "text/x-python",
      "name": "python",
      "nbconvert_exporter": "python",
      "pygments_lexer": "ipython3",
      "version": "3.6.10"
    },
    "colab": {
      "name": "Homework6.ipynb",
      "provenance": [],
      "collapsed_sections": []
    }
  },
  "cells": [
    {
      "cell_type": "markdown",
      "metadata": {
        "id": "1RwNDQSsOnP6",
        "colab_type": "text"
      },
      "source": [
        "# 課題（Omnicampus上で解答を提出してください）"
      ]
    },
    {
      "cell_type": "markdown",
      "metadata": {
        "id": "DBMYSX1OOnP7",
        "colab_type": "text"
      },
      "source": [
        "homework3などで扱った購買データを利用して以下の問いに答えて、課題を提出してください。（データの前処理は、以下の記載の通りに行ってください。）\n",
        "    \n",
        "Chapter8の講義資料の総合問題8-1で求めた最も支持度が高かった商品の2つの組み合わせについて、**リフト値**を求めてください。  \n",
        "最も支持度が高かった商品の`\"StockCode\"`を、再度求める必要は無く、コード内で直接記入してください。  \n",
        "その際、`\"StockCode\"`を**文字型**で指定してください。  \n",
        ">例：`\"StockCode\"`が`00001`のデータを参照する場合  \n",
        ">- 正：`target_online_retail_data_tb[\"StockCode\"]==\"00001\"`  \n",
        ">- 誤：`target_online_retail_data_tb[\"StockCode\"]==00001`\n",
        "\n",
        "提出するときは、以下の点に注意してください。  \n",
        ">- 以下の関数homeworkの!!WRITE ME!!に処理を書いてください。(**「!!WRITE ME!!」は消して、記入してください。**)\n",
        ">- 実際の提出は記述されたhomework関数全てになり、**提出場所はOmnicampus右上にある青字のHomeworkドロップダウンメニューからHomework 6を選んでください。Solutionに関数を貼り付けてからSaveを押してください。**\n",
        ">- `#common`のセルで事前に前処理されたデータ`target_online_retail_data_tb`をそのまま用いてください。\n",
        ">- 返り値が数値型になるようにしてください。  "
      ]
    },
    {
      "cell_type": "code",
      "metadata": {
        "id": "OvN89NZsOnP8",
        "colab_type": "code",
        "colab": {}
      },
      "source": [
        "# common\n",
        "import pandas as pd\n",
        "import numpy as np\n",
        "\n",
        "## init part(データの読み込みと前処理)\n",
        "file_url = \"http://archive.ics.uci.edu/ml/machine-learning-databases/00352/Online%20Retail.xlsx\"\n",
        "online_retail_data = pd.ExcelFile(file_url)\n",
        "online_retail_data_table = online_retail_data.parse('Online Retail')\n",
        "\n",
        "online_retail_data_table['cancel_flg'] = online_retail_data_table.InvoiceNo.map(lambda x:str(x)[0])\n",
        "\n",
        "# 数字があるものとIDがNullでないものが対象\n",
        "target_online_retail_data_tb = online_retail_data_table[(online_retail_data_table.cancel_flg == '5') \n",
        "                                                        & (online_retail_data_table.CustomerID.notnull())]\n",
        "\n",
        "target_online_retail_data_tb = target_online_retail_data_tb.assign(TotalPrice=target_online_retail_data_tb.Quantity * target_online_retail_data_tb.UnitPrice)\n",
        "\n",
        "# StockCodeを全て文字型として扱う\n",
        "target_online_retail_data_tb = target_online_retail_data_tb.astype({'StockCode': str})"
      ],
      "execution_count": null,
      "outputs": []
    },
    {
      "cell_type": "code",
      "metadata": {
        "id": "JkIFOpk9OnQC",
        "colab_type": "code",
        "colab": {}
      },
      "source": [
        "def homework(target_online_retail_data_tb):\n",
        "    # InoivceNoの先頭1文字をcancel_flgとして追加\n",
        "    target_online_retail_data_tb['cancel_flg'] = target_online_retail_data_tb.InvoiceNo.map(lambda x:str(x)[0])\n",
        "\n",
        "    # cancel_flgでグルーピングして集計\n",
        "    target_online_retail_data_tb.groupby('cancel_flg').size()\n",
        "\n",
        "    trans = target_online_retail_data_tb[(target_online_retail_data_tb.cancel_flg == '5') & (target_online_retail_data_tb.CustomerID.notnull())]\n",
        "\n",
        "    # すべてのInvoiceNoをtrans_allとして抽出\n",
        "    trans_all = set(trans.InvoiceNo) \n",
        "\n",
        "    # 商品20725を購入したデータをtrans_aとする\n",
        "    trans_a = set(trans[trans['StockCode']=='20725'].InvoiceNo)\n",
        "\n",
        "    # 商品22383を購入したデータをtrans_bとする\n",
        "    trans_b = set(trans[trans['StockCode']=='22383'].InvoiceNo)\n",
        "\n",
        "    # 商品20725および22383を購入したデータをtrans_abとする\n",
        "    trans_ab = trans_a&trans_b\n",
        "\n",
        "    # 全体のバスケットに占める商品Bの購買率を計算\n",
        "    support_b = len(trans_b) / len(trans_all)\n",
        "\n",
        "    # 商品Aを購買したときの商品Bの購買率を計算\n",
        "    confidence = len(trans_ab) / len(trans_a)\n",
        "\n",
        "    # リスト値を計算\n",
        "    my_result = confidence / support_b\n",
        "\n",
        "    return my_result"
      ],
      "execution_count": null,
      "outputs": []
    },
    {
      "cell_type": "code",
      "metadata": {
        "id": "Tj1UEoKwZ1lF",
        "colab_type": "code",
        "colab": {
          "base_uri": "https://localhost:8080/",
          "height": 34
        },
        "outputId": "a9642773-64d1-4eeb-bd80-dd0bb4a1e7a4"
      },
      "source": [
        "homework(target_online_retail_data_tb)"
      ],
      "execution_count": null,
      "outputs": [
        {
          "output_type": "execute_result",
          "data": {
            "text/plain": [
              "7.155601605739843"
            ]
          },
          "metadata": {
            "tags": []
          },
          "execution_count": 10
        }
      ]
    },
    {
      "cell_type": "code",
      "metadata": {
        "id": "ttcSSUyOZakW",
        "colab_type": "code",
        "colab": {
          "base_uri": "https://localhost:8080/",
          "height": 402
        },
        "outputId": "0e541f5b-2d79-4e31-d478-4e6e97a057ba"
      },
      "source": [
        "target_online_retail_data_tb"
      ],
      "execution_count": null,
      "outputs": [
        {
          "output_type": "execute_result",
          "data": {
            "text/html": [
              "<div>\n",
              "<style scoped>\n",
              "    .dataframe tbody tr th:only-of-type {\n",
              "        vertical-align: middle;\n",
              "    }\n",
              "\n",
              "    .dataframe tbody tr th {\n",
              "        vertical-align: top;\n",
              "    }\n",
              "\n",
              "    .dataframe thead th {\n",
              "        text-align: right;\n",
              "    }\n",
              "</style>\n",
              "<table border=\"1\" class=\"dataframe\">\n",
              "  <thead>\n",
              "    <tr style=\"text-align: right;\">\n",
              "      <th></th>\n",
              "      <th>InvoiceNo</th>\n",
              "      <th>StockCode</th>\n",
              "      <th>Description</th>\n",
              "      <th>Quantity</th>\n",
              "      <th>InvoiceDate</th>\n",
              "      <th>UnitPrice</th>\n",
              "      <th>CustomerID</th>\n",
              "      <th>Country</th>\n",
              "      <th>cancel_flg</th>\n",
              "      <th>TotalPrice</th>\n",
              "    </tr>\n",
              "  </thead>\n",
              "  <tbody>\n",
              "    <tr>\n",
              "      <th>0</th>\n",
              "      <td>536365</td>\n",
              "      <td>85123A</td>\n",
              "      <td>WHITE HANGING HEART T-LIGHT HOLDER</td>\n",
              "      <td>6</td>\n",
              "      <td>2010-12-01 08:26:00</td>\n",
              "      <td>2.55</td>\n",
              "      <td>17850.0</td>\n",
              "      <td>United Kingdom</td>\n",
              "      <td>5</td>\n",
              "      <td>15.30</td>\n",
              "    </tr>\n",
              "    <tr>\n",
              "      <th>1</th>\n",
              "      <td>536365</td>\n",
              "      <td>71053</td>\n",
              "      <td>WHITE METAL LANTERN</td>\n",
              "      <td>6</td>\n",
              "      <td>2010-12-01 08:26:00</td>\n",
              "      <td>3.39</td>\n",
              "      <td>17850.0</td>\n",
              "      <td>United Kingdom</td>\n",
              "      <td>5</td>\n",
              "      <td>20.34</td>\n",
              "    </tr>\n",
              "    <tr>\n",
              "      <th>2</th>\n",
              "      <td>536365</td>\n",
              "      <td>84406B</td>\n",
              "      <td>CREAM CUPID HEARTS COAT HANGER</td>\n",
              "      <td>8</td>\n",
              "      <td>2010-12-01 08:26:00</td>\n",
              "      <td>2.75</td>\n",
              "      <td>17850.0</td>\n",
              "      <td>United Kingdom</td>\n",
              "      <td>5</td>\n",
              "      <td>22.00</td>\n",
              "    </tr>\n",
              "    <tr>\n",
              "      <th>3</th>\n",
              "      <td>536365</td>\n",
              "      <td>84029G</td>\n",
              "      <td>KNITTED UNION FLAG HOT WATER BOTTLE</td>\n",
              "      <td>6</td>\n",
              "      <td>2010-12-01 08:26:00</td>\n",
              "      <td>3.39</td>\n",
              "      <td>17850.0</td>\n",
              "      <td>United Kingdom</td>\n",
              "      <td>5</td>\n",
              "      <td>20.34</td>\n",
              "    </tr>\n",
              "    <tr>\n",
              "      <th>4</th>\n",
              "      <td>536365</td>\n",
              "      <td>84029E</td>\n",
              "      <td>RED WOOLLY HOTTIE WHITE HEART.</td>\n",
              "      <td>6</td>\n",
              "      <td>2010-12-01 08:26:00</td>\n",
              "      <td>3.39</td>\n",
              "      <td>17850.0</td>\n",
              "      <td>United Kingdom</td>\n",
              "      <td>5</td>\n",
              "      <td>20.34</td>\n",
              "    </tr>\n",
              "    <tr>\n",
              "      <th>...</th>\n",
              "      <td>...</td>\n",
              "      <td>...</td>\n",
              "      <td>...</td>\n",
              "      <td>...</td>\n",
              "      <td>...</td>\n",
              "      <td>...</td>\n",
              "      <td>...</td>\n",
              "      <td>...</td>\n",
              "      <td>...</td>\n",
              "      <td>...</td>\n",
              "    </tr>\n",
              "    <tr>\n",
              "      <th>541904</th>\n",
              "      <td>581587</td>\n",
              "      <td>22613</td>\n",
              "      <td>PACK OF 20 SPACEBOY NAPKINS</td>\n",
              "      <td>12</td>\n",
              "      <td>2011-12-09 12:50:00</td>\n",
              "      <td>0.85</td>\n",
              "      <td>12680.0</td>\n",
              "      <td>France</td>\n",
              "      <td>5</td>\n",
              "      <td>10.20</td>\n",
              "    </tr>\n",
              "    <tr>\n",
              "      <th>541905</th>\n",
              "      <td>581587</td>\n",
              "      <td>22899</td>\n",
              "      <td>CHILDREN'S APRON DOLLY GIRL</td>\n",
              "      <td>6</td>\n",
              "      <td>2011-12-09 12:50:00</td>\n",
              "      <td>2.10</td>\n",
              "      <td>12680.0</td>\n",
              "      <td>France</td>\n",
              "      <td>5</td>\n",
              "      <td>12.60</td>\n",
              "    </tr>\n",
              "    <tr>\n",
              "      <th>541906</th>\n",
              "      <td>581587</td>\n",
              "      <td>23254</td>\n",
              "      <td>CHILDRENS CUTLERY DOLLY GIRL</td>\n",
              "      <td>4</td>\n",
              "      <td>2011-12-09 12:50:00</td>\n",
              "      <td>4.15</td>\n",
              "      <td>12680.0</td>\n",
              "      <td>France</td>\n",
              "      <td>5</td>\n",
              "      <td>16.60</td>\n",
              "    </tr>\n",
              "    <tr>\n",
              "      <th>541907</th>\n",
              "      <td>581587</td>\n",
              "      <td>23255</td>\n",
              "      <td>CHILDRENS CUTLERY CIRCUS PARADE</td>\n",
              "      <td>4</td>\n",
              "      <td>2011-12-09 12:50:00</td>\n",
              "      <td>4.15</td>\n",
              "      <td>12680.0</td>\n",
              "      <td>France</td>\n",
              "      <td>5</td>\n",
              "      <td>16.60</td>\n",
              "    </tr>\n",
              "    <tr>\n",
              "      <th>541908</th>\n",
              "      <td>581587</td>\n",
              "      <td>22138</td>\n",
              "      <td>BAKING SET 9 PIECE RETROSPOT</td>\n",
              "      <td>3</td>\n",
              "      <td>2011-12-09 12:50:00</td>\n",
              "      <td>4.95</td>\n",
              "      <td>12680.0</td>\n",
              "      <td>France</td>\n",
              "      <td>5</td>\n",
              "      <td>14.85</td>\n",
              "    </tr>\n",
              "  </tbody>\n",
              "</table>\n",
              "<p>397924 rows × 10 columns</p>\n",
              "</div>"
            ],
            "text/plain": [
              "       InvoiceNo StockCode  ... cancel_flg  TotalPrice\n",
              "0         536365    85123A  ...          5       15.30\n",
              "1         536365     71053  ...          5       20.34\n",
              "2         536365    84406B  ...          5       22.00\n",
              "3         536365    84029G  ...          5       20.34\n",
              "4         536365    84029E  ...          5       20.34\n",
              "...          ...       ...  ...        ...         ...\n",
              "541904    581587     22613  ...          5       10.20\n",
              "541905    581587     22899  ...          5       12.60\n",
              "541906    581587     23254  ...          5       16.60\n",
              "541907    581587     23255  ...          5       16.60\n",
              "541908    581587     22138  ...          5       14.85\n",
              "\n",
              "[397924 rows x 10 columns]"
            ]
          },
          "metadata": {
            "tags": []
          },
          "execution_count": 2
        }
      ]
    },
    {
      "cell_type": "code",
      "metadata": {
        "id": "__RWfmUhaBBu",
        "colab_type": "code",
        "colab": {
          "base_uri": "https://localhost:8080/",
          "height": 70
        },
        "outputId": "88079ac3-2278-4bbb-cce5-e56d189ad333"
      },
      "source": [
        "# InoivceNoの先頭1文字をcancel_flgとして追加\n",
        "target_online_retail_data_tb['cancel_flg'] = target_online_retail_data_tb.InvoiceNo.map(lambda x:str(x)[0])\n",
        "\n",
        "# cancel_flgでグルーピングして集計\n",
        "target_online_retail_data_tb.groupby('cancel_flg').size()"
      ],
      "execution_count": null,
      "outputs": [
        {
          "output_type": "execute_result",
          "data": {
            "text/plain": [
              "cancel_flg\n",
              "5    397924\n",
              "dtype: int64"
            ]
          },
          "metadata": {
            "tags": []
          },
          "execution_count": 3
        }
      ]
    },
    {
      "cell_type": "code",
      "metadata": {
        "id": "JqsbqHZSaDTw",
        "colab_type": "code",
        "colab": {}
      },
      "source": [
        "trans = target_online_retail_data_tb[(target_online_retail_data_tb.cancel_flg == '5') & (target_online_retail_data_tb.CustomerID.notnull())]"
      ],
      "execution_count": null,
      "outputs": []
    },
    {
      "cell_type": "code",
      "metadata": {
        "id": "ZpWxHnmFZ2P_",
        "colab_type": "code",
        "colab": {
          "base_uri": "https://localhost:8080/",
          "height": 70
        },
        "outputId": "a85b86c8-f7b4-4d2c-d12d-b932f7845775"
      },
      "source": [
        "# すべてのInvoiceNoをtrans_allとして抽出\n",
        "trans_all = set(trans.InvoiceNo) \n",
        "\n",
        "# 商品20725を購入したデータをtrans_aとする\n",
        "trans_a = set(trans[trans['StockCode']=='20725'].InvoiceNo)\n",
        "print(len(trans_a))\n",
        "\n",
        "# 商品22383を購入したデータをtrans_bとする\n",
        "trans_b = set(trans[trans['StockCode']=='22383'].InvoiceNo)\n",
        "print(len(trans_b))\n",
        "\n",
        "# 商品20725および22383を購入したデータをtrans_abとする\n",
        "trans_ab = trans_a&trans_b\n",
        "print(len(trans_ab))"
      ],
      "execution_count": null,
      "outputs": [
        {
          "output_type": "stream",
          "text": [
            "1289\n",
            "1043\n",
            "519\n"
          ],
          "name": "stdout"
        }
      ]
    },
    {
      "cell_type": "code",
      "metadata": {
        "id": "0DbECf_eZc6m",
        "colab_type": "code",
        "colab": {
          "base_uri": "https://localhost:8080/",
          "height": 52
        },
        "outputId": "7d29d667-fe4f-4b9d-b768-046d2161e771"
      },
      "source": [
        "# trans_ab の、両商品を含むバスケットの数を表示\n",
        "print('両商品を含むバスケットの数:{}'.format(len(trans_ab)))\n",
        "print('両商品を含むバスケットの全体に占める割合:{:.3f}'.format(len(trans_ab)/len(trans_all)))"
      ],
      "execution_count": null,
      "outputs": [
        {
          "output_type": "stream",
          "text": [
            "両商品を含むバスケットの数:519\n",
            "両商品を含むバスケットの全体に占める割合:0.028\n"
          ],
          "name": "stdout"
        }
      ]
    },
    {
      "cell_type": "code",
      "metadata": {
        "id": "FHBF2ORBacMF",
        "colab_type": "code",
        "colab": {
          "base_uri": "https://localhost:8080/",
          "height": 34
        },
        "outputId": "191e9b24-97df-41c9-af3b-db4549275ebf"
      },
      "source": [
        "# 全体のバスケットに占める商品Bの購買率を計算\n",
        "support_b = len(trans_b) / len(trans_all)\n",
        "\n",
        "# 商品Aを購買したときの商品Bの購買率を計算\n",
        "confidence = len(trans_ab) / len(trans_a)\n",
        "\n",
        "# リスト値を計算\n",
        "lift = confidence / support_b\n",
        "print('lift:{:.3f}'.format(lift))"
      ],
      "execution_count": null,
      "outputs": [
        {
          "output_type": "stream",
          "text": [
            "lift:7.156\n"
          ],
          "name": "stdout"
        }
      ]
    },
    {
      "cell_type": "code",
      "metadata": {
        "id": "TsdO_luTang6",
        "colab_type": "code",
        "colab": {}
      },
      "source": [
        ""
      ],
      "execution_count": null,
      "outputs": []
    }
  ]
}