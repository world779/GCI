{
  "nbformat": 4,
  "nbformat_minor": 0,
  "metadata": {
    "kernelspec": {
      "display_name": "Python 3",
      "language": "python",
      "name": "python3"
    },
    "language_info": {
      "codemirror_mode": {
        "name": "ipython",
        "version": 3
      },
      "file_extension": ".py",
      "mimetype": "text/x-python",
      "name": "python",
      "nbconvert_exporter": "python",
      "pygments_lexer": "ipython3",
      "version": "3.6.10"
    },
    "colab": {
      "name": "Homework5.ipynb",
      "provenance": []
    }
  },
  "cells": [
    {
      "cell_type": "markdown",
      "metadata": {
        "id": "uI9Vc9TpTFmB",
        "colab_type": "text"
      },
      "source": [
        "# 課題（Omnicampus上で解答を提出してください）"
      ]
    },
    {
      "cell_type": "markdown",
      "metadata": {
        "id": "ACNmFbnoTFmI",
        "colab_type": "text"
      },
      "source": [
        "分析対象データとして、`sklearn`の`datasets`から`load_iris`(アヤメの花)を読み込んで、目的変数を`iris.target`、説明変数を`iris.data`として、学習データと検証データに分け、複数のモデルを構築します。\n",
        "\n",
        "- ロジスティック回帰分析\n",
        "- SVM\n",
        "- 決定木\n",
        "- k-NN($k=6$で固定）\n",
        "\n",
        "上の4つのモデルを使って、学習と検証を実施してください。\n",
        "これらの中で、検証データに対して、最も正解率が高いモデルを文字型で回答してください。\n",
        "\n",
        "提出するときは、以下の点に注意してください。  \n",
        ">- 以下の関数homeworkの!!WRITE ME!!に処理を書いてください。(**「!!WRITE ME!!」は消して、記入してください。**)\n",
        ">- 実際の提出は記述されたhomework関数全てになり、**提出場所はOmnicampus右上にある青字のHomeworkドロップダウンメニューからHomework5を選んでください。Solutionに関数を貼り付けてからSaveを押してください。**  \n",
        ">- 前処理は以下のコードを使って、これを引数としてください。今回は特に標準化等は実施していません。\n",
        ">- 全ての計算を関数の中で行ってください。`best_method`に直接モデル名を記入して提出することはやめてください。\n",
        ">- 学習データと検証データの分け方に違いが生じないように、 train_test_splitのrandom_stateは0にしています。  \n",
        ">- 返り値は一番正解率が高いモデル名として、文字型にしてください。returnされる値は一つになるようにしてください。  \n",
        "(例)DecisionTreeClassifier　（返り値）\n",
        ">- モデル名は、`model.__class__.__name__`で取得できます。"
      ]
    },
    {
      "cell_type": "code",
      "metadata": {
        "id": "4WCGHjakTFmM",
        "colab_type": "code",
        "colab": {}
      },
      "source": [
        "# common\n",
        "# ロジスティック回帰\n",
        "from sklearn.linear_model import LogisticRegression\n",
        "# SVM\n",
        "from sklearn.svm import LinearSVC\n",
        "# 決定木\n",
        "from sklearn.tree import  DecisionTreeClassifier\n",
        "# k-NN\n",
        "from sklearn.neighbors import  KNeighborsClassifier\n",
        "\n",
        "# データ分割\n",
        "from sklearn.model_selection import train_test_split\n",
        "\n",
        "#分析対象データ\n",
        "from sklearn.datasets import load_iris\n",
        "\n",
        "# data\n",
        "iris = load_iris()\n",
        "X_train, X_test, y_train, y_test = train_test_split(iris.data, iris.target, stratify = iris.target, random_state=0)\n",
        "\n",
        "# initial value\n",
        "best_score = 0\n",
        "best_method = \"\""
      ],
      "execution_count": null,
      "outputs": []
    },
    {
      "cell_type": "code",
      "metadata": {
        "id": "vV9G0S3bTFmi",
        "colab_type": "code",
        "colab": {}
      },
      "source": [
        "def homework(X_train, X_test, y_train, y_test, best_score, best_method):\n",
        "  from sklearn.metrics import accuracy_score\n",
        "  lr=LogisticRegression()\n",
        "  lr.fit(X_train, y_train)\n",
        "  lr_pred=lr.predict(X_test)\n",
        "  lr_result=accuracy_score(y_test, lr_pred)\n",
        "\n",
        "  svm=LinearSVC()\n",
        "  svm.fit(X_train, y_train)\n",
        "  svm_pred=svm.predict(X_test)\n",
        "  svm_result=accuracy_score(y_test, svm_pred)\n",
        "\n",
        "  dtc=DecisionTreeClassifier()\n",
        "  dtc.fit(X_train, y_train)\n",
        "  dtc_pred=dtc.predict(X_test)\n",
        "  dtc_result=accuracy_score(y_test, dtc_pred)\n",
        "\n",
        "  knn=KNeighborsClassifier()\n",
        "  knn.fit(X_train, y_train)\n",
        "  knn_pred=knn.predict(X_test)\n",
        "  knn_result=accuracy_score(y_test, knn_pred)\n",
        "\n",
        "\n",
        "  best_score=lr_result\n",
        "  if best_score<svm_result:\n",
        "    min=svm_result\n",
        "\n",
        "  elif best_score<dtc_result:\n",
        "    min=dtc_result\n",
        "\n",
        "  elif best_score<knn_result:\n",
        "    min=knn_result\n",
        "\n",
        "  if best_score==lr_result:\n",
        "    best_method=lr.__class__.__name__\n",
        "\n",
        "  elif best_score==svm_result:\n",
        "    best_method=svm.__class__.__name__\n",
        "\n",
        "  elif best_score==dtc_result:\n",
        "    best_method=dtc.__class__.__name__\n",
        "\n",
        "  elif best_score==knn_result:\n",
        "    best_method=knn.__class__.__name__\n",
        "\n",
        "  return best_method"
      ],
      "execution_count": null,
      "outputs": []
    },
    {
      "cell_type": "code",
      "metadata": {
        "id": "lLqVAam8fBXt",
        "colab_type": "code",
        "colab": {
          "base_uri": "https://localhost:8080/",
          "height": 210
        },
        "outputId": "eb53b9b9-2712-444a-8b30-6cd3884aa0b7"
      },
      "source": [
        "homework(X_train, X_test, y_train, y_test, best_score, best_method)"
      ],
      "execution_count": null,
      "outputs": [
        {
          "output_type": "stream",
          "text": [
            "/usr/local/lib/python3.6/dist-packages/sklearn/linear_model/_logistic.py:940: ConvergenceWarning: lbfgs failed to converge (status=1):\n",
            "STOP: TOTAL NO. of ITERATIONS REACHED LIMIT.\n",
            "\n",
            "Increase the number of iterations (max_iter) or scale the data as shown in:\n",
            "    https://scikit-learn.org/stable/modules/preprocessing.html\n",
            "Please also refer to the documentation for alternative solver options:\n",
            "    https://scikit-learn.org/stable/modules/linear_model.html#logistic-regression\n",
            "  extra_warning_msg=_LOGISTIC_SOLVER_CONVERGENCE_MSG)\n",
            "/usr/local/lib/python3.6/dist-packages/sklearn/svm/_base.py:947: ConvergenceWarning: Liblinear failed to converge, increase the number of iterations.\n",
            "  \"the number of iterations.\", ConvergenceWarning)\n"
          ],
          "name": "stderr"
        },
        {
          "output_type": "execute_result",
          "data": {
            "text/plain": [
              "'LogisticRegression'"
            ]
          },
          "metadata": {
            "tags": []
          },
          "execution_count": 33
        }
      ]
    },
    {
      "cell_type": "code",
      "metadata": {
        "id": "XNaV_HxGWYsd",
        "colab_type": "code",
        "colab": {
          "base_uri": "https://localhost:8080/",
          "height": 402
        },
        "outputId": "6344633a-b5a6-44c9-816b-626d64e00263"
      },
      "source": [
        "import pandas as pd\n",
        "pd.DataFrame(iris.data, columns=iris.feature_names)"
      ],
      "execution_count": null,
      "outputs": [
        {
          "output_type": "execute_result",
          "data": {
            "text/html": [
              "<div>\n",
              "<style scoped>\n",
              "    .dataframe tbody tr th:only-of-type {\n",
              "        vertical-align: middle;\n",
              "    }\n",
              "\n",
              "    .dataframe tbody tr th {\n",
              "        vertical-align: top;\n",
              "    }\n",
              "\n",
              "    .dataframe thead th {\n",
              "        text-align: right;\n",
              "    }\n",
              "</style>\n",
              "<table border=\"1\" class=\"dataframe\">\n",
              "  <thead>\n",
              "    <tr style=\"text-align: right;\">\n",
              "      <th></th>\n",
              "      <th>sepal length (cm)</th>\n",
              "      <th>sepal width (cm)</th>\n",
              "      <th>petal length (cm)</th>\n",
              "      <th>petal width (cm)</th>\n",
              "    </tr>\n",
              "  </thead>\n",
              "  <tbody>\n",
              "    <tr>\n",
              "      <th>0</th>\n",
              "      <td>5.1</td>\n",
              "      <td>3.5</td>\n",
              "      <td>1.4</td>\n",
              "      <td>0.2</td>\n",
              "    </tr>\n",
              "    <tr>\n",
              "      <th>1</th>\n",
              "      <td>4.9</td>\n",
              "      <td>3.0</td>\n",
              "      <td>1.4</td>\n",
              "      <td>0.2</td>\n",
              "    </tr>\n",
              "    <tr>\n",
              "      <th>2</th>\n",
              "      <td>4.7</td>\n",
              "      <td>3.2</td>\n",
              "      <td>1.3</td>\n",
              "      <td>0.2</td>\n",
              "    </tr>\n",
              "    <tr>\n",
              "      <th>3</th>\n",
              "      <td>4.6</td>\n",
              "      <td>3.1</td>\n",
              "      <td>1.5</td>\n",
              "      <td>0.2</td>\n",
              "    </tr>\n",
              "    <tr>\n",
              "      <th>4</th>\n",
              "      <td>5.0</td>\n",
              "      <td>3.6</td>\n",
              "      <td>1.4</td>\n",
              "      <td>0.2</td>\n",
              "    </tr>\n",
              "    <tr>\n",
              "      <th>...</th>\n",
              "      <td>...</td>\n",
              "      <td>...</td>\n",
              "      <td>...</td>\n",
              "      <td>...</td>\n",
              "    </tr>\n",
              "    <tr>\n",
              "      <th>145</th>\n",
              "      <td>6.7</td>\n",
              "      <td>3.0</td>\n",
              "      <td>5.2</td>\n",
              "      <td>2.3</td>\n",
              "    </tr>\n",
              "    <tr>\n",
              "      <th>146</th>\n",
              "      <td>6.3</td>\n",
              "      <td>2.5</td>\n",
              "      <td>5.0</td>\n",
              "      <td>1.9</td>\n",
              "    </tr>\n",
              "    <tr>\n",
              "      <th>147</th>\n",
              "      <td>6.5</td>\n",
              "      <td>3.0</td>\n",
              "      <td>5.2</td>\n",
              "      <td>2.0</td>\n",
              "    </tr>\n",
              "    <tr>\n",
              "      <th>148</th>\n",
              "      <td>6.2</td>\n",
              "      <td>3.4</td>\n",
              "      <td>5.4</td>\n",
              "      <td>2.3</td>\n",
              "    </tr>\n",
              "    <tr>\n",
              "      <th>149</th>\n",
              "      <td>5.9</td>\n",
              "      <td>3.0</td>\n",
              "      <td>5.1</td>\n",
              "      <td>1.8</td>\n",
              "    </tr>\n",
              "  </tbody>\n",
              "</table>\n",
              "<p>150 rows × 4 columns</p>\n",
              "</div>"
            ],
            "text/plain": [
              "     sepal length (cm)  sepal width (cm)  petal length (cm)  petal width (cm)\n",
              "0                  5.1               3.5                1.4               0.2\n",
              "1                  4.9               3.0                1.4               0.2\n",
              "2                  4.7               3.2                1.3               0.2\n",
              "3                  4.6               3.1                1.5               0.2\n",
              "4                  5.0               3.6                1.4               0.2\n",
              "..                 ...               ...                ...               ...\n",
              "145                6.7               3.0                5.2               2.3\n",
              "146                6.3               2.5                5.0               1.9\n",
              "147                6.5               3.0                5.2               2.0\n",
              "148                6.2               3.4                5.4               2.3\n",
              "149                5.9               3.0                5.1               1.8\n",
              "\n",
              "[150 rows x 4 columns]"
            ]
          },
          "metadata": {
            "tags": []
          },
          "execution_count": 10
        }
      ]
    },
    {
      "cell_type": "code",
      "metadata": {
        "id": "E-UibBsDTcbf",
        "colab_type": "code",
        "colab": {
          "base_uri": "https://localhost:8080/",
          "height": 158
        },
        "outputId": "b47ee8ed-e4b8-45e0-a80a-a5452f148ef2"
      },
      "source": [
        "lr=LogisticRegression()\n",
        "lr.fit(X_train, y_train)\n",
        "lr_pred=lr.predict(X_test)"
      ],
      "execution_count": null,
      "outputs": [
        {
          "output_type": "stream",
          "text": [
            "/usr/local/lib/python3.6/dist-packages/sklearn/linear_model/_logistic.py:940: ConvergenceWarning: lbfgs failed to converge (status=1):\n",
            "STOP: TOTAL NO. of ITERATIONS REACHED LIMIT.\n",
            "\n",
            "Increase the number of iterations (max_iter) or scale the data as shown in:\n",
            "    https://scikit-learn.org/stable/modules/preprocessing.html\n",
            "Please also refer to the documentation for alternative solver options:\n",
            "    https://scikit-learn.org/stable/modules/linear_model.html#logistic-regression\n",
            "  extra_warning_msg=_LOGISTIC_SOLVER_CONVERGENCE_MSG)\n"
          ],
          "name": "stderr"
        }
      ]
    },
    {
      "cell_type": "code",
      "metadata": {
        "id": "of-wx40WTngi",
        "colab_type": "code",
        "colab": {}
      },
      "source": [
        "from sklearn.metrics import accuracy_score\n",
        "lr_result=accuracy_score(y_test, lr_pred)"
      ],
      "execution_count": null,
      "outputs": []
    },
    {
      "cell_type": "code",
      "metadata": {
        "id": "yf_i5ivXWVOT",
        "colab_type": "code",
        "colab": {
          "base_uri": "https://localhost:8080/",
          "height": 52
        },
        "outputId": "0f54fc50-dc1c-4d48-d5ab-cab70d9f5300"
      },
      "source": [
        "print(y_pred)"
      ],
      "execution_count": null,
      "outputs": [
        {
          "output_type": "stream",
          "text": [
            "[0 0 0 0 1 1 1 0 1 2 2 2 1 2 1 0 0 2 0 1 2 1 1 0 2 0 0 1 2 1 0 1 2 2 0 1 2\n",
            " 2]\n"
          ],
          "name": "stdout"
        }
      ]
    },
    {
      "cell_type": "code",
      "metadata": {
        "id": "Qc53Xw6XaKhx",
        "colab_type": "code",
        "colab": {
          "base_uri": "https://localhost:8080/",
          "height": 52
        },
        "outputId": "4e9cc2ab-2f05-48d3-cf25-9d1cd731fdeb"
      },
      "source": [
        "svm=LinearSVC()\n",
        "svm.fit(X_train, y_train)\n",
        "svm_pred=svm.predict(X_test)\n",
        "svm_result=accuracy_score(y_test, svm_pred)"
      ],
      "execution_count": null,
      "outputs": [
        {
          "output_type": "stream",
          "text": [
            "/usr/local/lib/python3.6/dist-packages/sklearn/svm/_base.py:947: ConvergenceWarning: Liblinear failed to converge, increase the number of iterations.\n",
            "  \"the number of iterations.\", ConvergenceWarning)\n"
          ],
          "name": "stderr"
        }
      ]
    },
    {
      "cell_type": "code",
      "metadata": {
        "id": "mZLjOSJ1bU3c",
        "colab_type": "code",
        "colab": {}
      },
      "source": [
        "dtc=DecisionTreeClassifier()\n",
        "dtc.fit(X_train, y_train)\n",
        "dtc_pred=dtc.predict(X_test)\n",
        "dtc_result=accuracy_score(y_test, dtc_pred)"
      ],
      "execution_count": null,
      "outputs": []
    },
    {
      "cell_type": "code",
      "metadata": {
        "id": "j1Vrm0i0br9H",
        "colab_type": "code",
        "colab": {}
      },
      "source": [
        "knn=KNeighborsClassifier()\n",
        "knn.fit(X_train, y_train)\n",
        "knn_pred=knn.predict(X_test)\n",
        "knn_result=accuracy_score(y_test, knn_pred)"
      ],
      "execution_count": null,
      "outputs": []
    },
    {
      "cell_type": "code",
      "metadata": {
        "id": "5H2DIvTNb7nr",
        "colab_type": "code",
        "colab": {
          "base_uri": "https://localhost:8080/",
          "height": 34
        },
        "outputId": "340975de-448a-4cf4-9483-f68d8bcea66d"
      },
      "source": [
        "best_score=lr_result\n",
        "if best_score<svm_result:\n",
        "  min=svm_result\n",
        "\n",
        "elif best_score<dtc_result:\n",
        "  min=dtc_result\n",
        "\n",
        "elif best_score<knn_result:\n",
        "  min=knn_result\n",
        "\n",
        "if best_score==lr_result:\n",
        "  best_method=lr.__class__.__name__\n",
        "\n",
        "elif best_score==svm_result:\n",
        "  best_method=svm.__class__.__name__\n",
        "\n",
        "elif best_score==dtc_result:\n",
        "  best_method=dtc.__class__.__name__\n",
        "\n",
        "elif best_score==knn_result:\n",
        "  best_method=knn.__class__.__name__\n",
        "  \n",
        "print(best_method)\n"
      ],
      "execution_count": null,
      "outputs": [
        {
          "output_type": "stream",
          "text": [
            "LogisticRegression\n"
          ],
          "name": "stdout"
        }
      ]
    },
    {
      "cell_type": "code",
      "metadata": {
        "id": "ZwVb0l4Md_QA",
        "colab_type": "code",
        "colab": {}
      },
      "source": [
        ""
      ],
      "execution_count": null,
      "outputs": []
    }
  ]
}