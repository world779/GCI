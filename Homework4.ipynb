{
  "nbformat": 4,
  "nbformat_minor": 0,
  "metadata": {
    "kernelspec": {
      "display_name": "Python 3",
      "language": "python",
      "name": "python3"
    },
    "language_info": {
      "codemirror_mode": {
        "name": "ipython",
        "version": 3
      },
      "file_extension": ".py",
      "mimetype": "text/x-python",
      "name": "python",
      "nbconvert_exporter": "python",
      "pygments_lexer": "ipython3",
      "version": "3.6.10"
    },
    "colab": {
      "name": "Homework4.ipynb",
      "provenance": []
    }
  },
  "cells": [
    {
      "cell_type": "markdown",
      "metadata": {
        "id": "pVGg-siYP1er",
        "colab_type": "text"
      },
      "source": [
        "# 課題（Omnicampus上で解答を提出してください）"
      ]
    },
    {
      "cell_type": "markdown",
      "metadata": {
        "id": "Z6ZDcp7iP1es",
        "colab_type": "text"
      },
      "source": [
        "以下のサイトにあるデータ（ワインの品質）が分析対象です。\n",
        "\n",
        "http://archive.ics.uci.edu/ml/machine-learning-databases/wine-quality/winequality-red.csv\n",
        "\n",
        "上記データを読み込み、目的変数のカラム名を`Y_column`、説明変数のカラム名を`X_column`として、これらを関数の入力とする単回帰分析を実施し、**決定係数**を求めてください。ただし、変数の変換やデータ加工等はせず、そのままのデータを使ってください。\n",
        "\n",
        "提出するときは、以下の点に注意してください。  \n",
        "\n",
        ">- 以下の関数homeworkの!!WRITE ME!!に処理を書いてください。(**「!!WRITE ME!!」は消して、記入してください。**) \n",
        ">- 実際の提出は記述されたhomework関数全てになり、**提出場所はOmnicampus右上にある青字のHomeworkドロップダウンメニューからSaveしてください。Solutionに関数を貼り付けてからSaveを押してください。**\n",
        ">- 返り値が数値型(1つ)になるようにしてください。  \n",
        "\n",
        "例: `X_column = 'volatile acidity'`、`Y_column = 'quality'`のとき、決定係数は小数点以下5桁を四捨五入して$0.1525$です。"
      ]
    },
    {
      "cell_type": "code",
      "metadata": {
        "id": "7cPjTvuWP1et",
        "colab_type": "code",
        "colab": {}
      },
      "source": [
        "# common\n",
        "import numpy as np\n",
        "import pandas as pd\n",
        "from sklearn import linear_model\n",
        "\n",
        "# URL\n",
        "path_winequality_data = \"http://archive.ics.uci.edu/ml/machine-learning-databases/wine-quality/winequality-red.csv\""
      ],
      "execution_count": 0,
      "outputs": []
    },
    {
      "cell_type": "code",
      "metadata": {
        "id": "NkINClC9P1ex",
        "colab_type": "code",
        "colab": {}
      },
      "source": [
        "def homework(path_winequality_data, X_column, Y_column):\n",
        "    df=pd.read_csv(path_winequality_data, sep=';')\n",
        "    x=df.loc[:,[X_column]]\n",
        "    y=df.loc[:,[Y_column]]\n",
        "    lr=linear_model.LinearRegression()\n",
        "    lr.fit(x,y)\n",
        "    my_result=lr.score(x,y)\n",
        "    return my_result"
      ],
      "execution_count": 0,
      "outputs": []
    },
    {
      "cell_type": "code",
      "metadata": {
        "id": "GsLKpGoJP8mA",
        "colab_type": "code",
        "outputId": "75be7589-946a-4796-c9c3-6ae4e93161b1",
        "colab": {
          "base_uri": "https://localhost:8080/",
          "height": 34
        }
      },
      "source": [
        "homework(path_winequality_data, \"volatile acidity\", \"quality\")"
      ],
      "execution_count": 0,
      "outputs": [
        {
          "output_type": "execute_result",
          "data": {
            "text/plain": [
              "0.1525353797247485"
            ]
          },
          "metadata": {
            "tags": []
          },
          "execution_count": 27
        }
      ]
    },
    {
      "cell_type": "code",
      "metadata": {
        "id": "4h3QEaNHP_8N",
        "colab_type": "code",
        "colab": {}
      },
      "source": [
        "df=pd.read_csv(path_winequality_data, sep=';')"
      ],
      "execution_count": 0,
      "outputs": []
    },
    {
      "cell_type": "code",
      "metadata": {
        "id": "KEBcq5nUUOcq",
        "colab_type": "code",
        "colab": {}
      },
      "source": [
        "x=df.loc[:,['volatile acidity']] #X_column\n",
        "y=df.loc[:,['quality']] #Y_column"
      ],
      "execution_count": 0,
      "outputs": []
    },
    {
      "cell_type": "code",
      "metadata": {
        "id": "TSaRyZ6zQ3al",
        "colab_type": "code",
        "outputId": "b0d142f3-b8f5-475b-a331-8dece67e7033",
        "colab": {
          "base_uri": "https://localhost:8080/",
          "height": 34
        }
      },
      "source": [
        "lr=linear_model.LinearRegression()\n",
        "lr.fit(x,y)\n",
        "my_result=lr.score(x,y)\n",
        "print(my_result)"
      ],
      "execution_count": 0,
      "outputs": [
        {
          "output_type": "stream",
          "text": [
            "0.1525353797247485\n"
          ],
          "name": "stdout"
        }
      ]
    },
    {
      "cell_type": "code",
      "metadata": {
        "id": "S2H8mno2VrYe",
        "colab_type": "code",
        "colab": {}
      },
      "source": [
        ""
      ],
      "execution_count": 0,
      "outputs": []
    }
  ]
}